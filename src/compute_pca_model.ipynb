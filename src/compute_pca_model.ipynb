{
 "cells": [
  {
   "cell_type": "code",
   "execution_count": 1,
   "metadata": {},
   "outputs": [],
   "source": [
    "import os\n",
    "import pandas as pd\n",
    "import numpy as np\n",
    "from sklearn.decomposition import PCA\n",
    "import h5py\n",
    "from scipy.cluster.hierarchy import fcluster, linkage\n",
    "from collections import Counter"
   ]
  },
  {
   "cell_type": "code",
   "execution_count": 2,
   "metadata": {},
   "outputs": [],
   "source": [
    "fns = sorted(os.listdir('../processed_data/adj_expression/'))\n",
    "\n",
    "data = []\n",
    "id2tissue = []\n",
    "for i, f in enumerate(fns):\n",
    "    tissue = f.split('-')[0]\n",
    "    with open('../processed_data/model_genes/%s-model_genes.txt' % tissue, 'rb') as reader:\n",
    "        id2gene = [s.strip() for s in reader.readlines()]\n",
    "    id2gene = np.array(id2gene)\n",
    "    \n",
    "    df_exp = pd.read_csv('../processed_data/adj_expression/' + f, index_col=0)\n",
    "    df_exp.columns = [g.split('.')[0] for g in df_exp.columns]\n",
    "    \n",
    "    \n",
    "    df_exp = df_exp[id2gene] \n",
    "    data = df_exp.values\n",
    "    \n",
    "    ## heirarchical clustering\n",
    "    Z = linkage(data.T, method='ward', metric='euclidean')\n",
    "    \n",
    "    \n",
    "    res = []\n",
    "    for thres in np.arange(.5, 2.0, 0.1):\n",
    "        ind_c = fcluster(Z, thres, criterion='inconsistent')\n",
    "        g, c = Counter(ind_c).most_common(1)[0]\n",
    "        res.append((thres, c))\n",
    "\n",
    "    ### determining cut-off for heirarchical clustering\n",
    "    for t, c in res:\n",
    "        if c < 30:\n",
    "            thres = t\n",
    "\n",
    "    ## heirarchical clustering with the selected cut-off\n",
    "    ind_c = fcluster(Z, thres, criterion='inconsistent')\n",
    "\n",
    "    pca_info = []\n",
    "    clf = PCA(n_components = 1, whiten=False)\n",
    "    \n",
    "    ## PCA\n",
    "    for c in set(ind_c):\n",
    "        if np.sum(ind_c == c) < 5:\n",
    "            continue\n",
    "        data0 = data[:, ind_c == c]\n",
    "        clf.fit(data0)\n",
    "        tmp = clf.transform(data0)\n",
    "        \n",
    "        ## gathering model weights\n",
    "        pca_sig = np.std(tmp)\n",
    "        pca_weight = np.squeeze(clf.components_)\n",
    "        pca_genes = id2gene[ind_c == c]\n",
    "\n",
    "        pca_info.append([c, pca_genes, pca_weight, pca_sig])\n",
    "\n",
    "    ## writing model weights\n",
    "    with h5py.File('../processed_data/model_weights/%s-eigengene_model.h5' % tissue, 'w') as writer:\n",
    "        writer.create_dataset('model_genes', data =id2gene)\n",
    "        writer.create_dataset('gene_clusters', data =ind_c)\n",
    "        for c, pca_genes, pca_weight, pca_sig in pca_info:\n",
    "            writer.create_dataset('weights/cluster%04d/genes' % c, data = pca_genes)\n",
    "            writer.create_dataset('weights/cluster%04d/pca_weights' % c, data = pca_weight)\n",
    "            writer.create_dataset('weights/cluster%04d/pca_sig' % c, data = pca_sig)\n",
    "    \n",
    "    del df_exp, data, Z, clf, pca_weight, pca_genes, ind_c\n"
   ]
  },
  {
   "cell_type": "code",
   "execution_count": null,
   "metadata": {},
   "outputs": [],
   "source": []
  }
 ],
 "metadata": {
  "kernelspec": {
   "display_name": "Python 2",
   "language": "python",
   "name": "python2"
  },
  "language_info": {
   "codemirror_mode": {
    "name": "ipython",
    "version": 2
   },
   "file_extension": ".py",
   "mimetype": "text/x-python",
   "name": "python",
   "nbconvert_exporter": "python",
   "pygments_lexer": "ipython2",
   "version": "2.7.12"
  }
 },
 "nbformat": 4,
 "nbformat_minor": 1
}
