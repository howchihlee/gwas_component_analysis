{
 "cells": [
  {
   "cell_type": "code",
   "execution_count": 1,
   "metadata": {
    "collapsed": true
   },
   "outputs": [],
   "source": [
    "import os\n",
    "import pandas as pd\n",
    "import numpy as np\n",
    "from sklearn.decomposition import PCA\n",
    "import h5py\n",
    "from scipy.cluster.hierarchy import fcluster, linkage\n",
    "from collections import Counter"
   ]
  },
  {
   "cell_type": "code",
   "execution_count": 2,
   "metadata": {
    "collapsed": true
   },
   "outputs": [],
   "source": [
    "fns = sorted(os.listdir('../processed_data/adj_expression/'))\n",
    "\n",
    "data = []\n",
    "id2tissue = []\n",
    "for i, f in enumerate(fns):\n",
    "    tissue = f.split('-')[0]\n",
    "    with open('../processed_data/model_genes/%s-model_genes.txt' % tissue, 'rb') as reader:\n",
    "        id2gene = [s.strip() for s in reader.readlines()]\n",
    "    id2gene = np.array(id2gene)\n",
    "    \n",
    "    df_exp = pd.read_csv('../processed_data/adj_expression/' + f, index_col=0)\n",
    "    df_exp.columns = [g.split('.')[0] for g in df_exp.columns]\n",
    "    \n",
    "    \n",
    "    df_exp = df_exp[id2gene] \n",
    "    \n",
    "    df_exp.to_csv('../R_script/sliced_data/%s-selected_expression.txt' % tissue, index=False)"
   ]
  },
  {
   "cell_type": "code",
   "execution_count": null,
   "metadata": {
    "collapsed": true
   },
   "outputs": [],
   "source": []
  }
 ],
 "metadata": {
  "kernelspec": {
   "display_name": "Python 2",
   "language": "python",
   "name": "python2"
  },
  "language_info": {
   "codemirror_mode": {
    "name": "ipython",
    "version": 2
   },
   "file_extension": ".py",
   "mimetype": "text/x-python",
   "name": "python",
   "nbconvert_exporter": "python",
   "pygments_lexer": "ipython2",
   "version": "2.7.6"
  }
 },
 "nbformat": 4,
 "nbformat_minor": 1
}
