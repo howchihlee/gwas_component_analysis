{
 "cells": [
  {
   "cell_type": "code",
   "execution_count": 1,
   "metadata": {
    "collapsed": false
   },
   "outputs": [],
   "source": [
    "import os\n",
    "\n",
    "db_path = '../../data/predix_db/GTEx-V6p-HapMap-2016-09-08/'\n",
    "fns = [f for f in os.listdir(db_path) if f[-3:] == '.db']\n",
    "tissues = [f[3:-7] for f in fns]"
   ]
  },
  {
   "cell_type": "code",
   "execution_count": 2,
   "metadata": {
    "collapsed": false,
    "scrolled": true
   },
   "outputs": [],
   "source": [
    "import numpy as np\n",
    "import pandas as pd\n",
    "import sqlite3\n",
    "import pickle\n",
    "\n",
    "save_path = '../processed_data/model_genes/var/'\n",
    "\n",
    "for tissue in tissues:\n",
    "    \n",
    "    df = pd.read_csv(os.path.join(db_path, 'TW_%s.txt.gz' % tissue), sep = ' ')\n",
    "\n",
    "    conn = sqlite3.connect(os.path.join(db_path, 'TW_%s_0.5.db' % tissue))\n",
    "\n",
    "    id2gene = [g for g in df.GENE]\n",
    "\n",
    "    gene2var = {}\n",
    "\n",
    "\n",
    "    res = []\n",
    "    for g0, df0 in df.groupby('GENE'):\n",
    "\n",
    "        id2rsid = sorted(set(df0.RSID1) | set(df0.RSID2))\n",
    "        rsid2id = {r:i for i, r in enumerate(id2rsid)}\n",
    "\n",
    "        cov_rsid = np.zeros((len(id2rsid), len(id2rsid)))\n",
    "        for r1, r2, v in zip(df0.RSID1, df0.RSID2, df0.VALUE):\n",
    "            cov_rsid[rsid2id[r1], rsid2id[r2]] = v\n",
    "            cov_rsid[rsid2id[r2], rsid2id[r1]] = v\n",
    "\n",
    "\n",
    "        dfg = pd.read_sql_query('SELECT * FROM weights WHERE gene=\\'%s\\'' % g0, conn)\n",
    "\n",
    "        vec_w = np.zeros(len(id2rsid))\n",
    "        for r, w in zip(dfg.rsid, dfg.weight):\n",
    "            vec_w[rsid2id[r]] = w\n",
    "\n",
    "\n",
    "        gene2var[g0] = vec_w.dot(cov_rsid).dot(vec_w)\n",
    "\n",
    "    with open(os.path.join(save_path, '%s-gene2var.p' % tissue.replace('-', '_') ), 'wb') as writer:\n",
    "        pickle.dump(gene2var, writer)\n"
   ]
  },
  {
   "cell_type": "code",
   "execution_count": null,
   "metadata": {
    "collapsed": true
   },
   "outputs": [],
   "source": []
  }
 ],
 "metadata": {
  "kernelspec": {
   "display_name": "Python 2",
   "language": "python",
   "name": "python2"
  },
  "language_info": {
   "codemirror_mode": {
    "name": "ipython",
    "version": 2
   },
   "file_extension": ".py",
   "mimetype": "text/x-python",
   "name": "python",
   "nbconvert_exporter": "python",
   "pygments_lexer": "ipython2",
   "version": "2.7.6"
  }
 },
 "nbformat": 4,
 "nbformat_minor": 0
}
