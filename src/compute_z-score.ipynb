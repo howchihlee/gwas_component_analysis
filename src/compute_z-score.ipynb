{
 "cells": [
  {
   "cell_type": "code",
   "execution_count": 89,
   "metadata": {},
   "outputs": [],
   "source": [
    "import os\n",
    "import pandas as pd\n",
    "import numpy as np\n",
    "import h5py\n",
    "from collections import Counter\n",
    "\n",
    "import pandas as pd\n",
    "\n",
    "def read_info_from_predixcan(fn, id2gene = None):\n",
    "    ## inputs:\n",
    "    ## fn: path to the file outputed from the S-Predixcan\n",
    "    ## id2gene: an list or array of ensembl ids to order the output vector if provided\n",
    "    ##          otherwise the output array is arranged as it is in the S-Predixcan file\n",
    "    \n",
    "    df_meta = pd.read_csv(fn)\n",
    "    df_meta = df_meta.dropna(axis = 0)\n",
    "    if id2gene == None:\n",
    "        id2gene = list(df_meta.index)\n",
    "    \n",
    "    gene2zscore = {item.gene:item.zscore for item in df_meta.itertuples()}\n",
    "    gene2var = {item.gene:item.VAR_g for item in df_meta.itertuples()}\n",
    "\n",
    "    var_g = np.zeros(len(id2gene))\n",
    "    for i, g in enumerate(id2gene):\n",
    "        if g in gene2var:\n",
    "            var_g[i] = gene2var[g]\n",
    "\n",
    "    z_g = np.zeros(len(id2gene))\n",
    "    for i, g in enumerate(id2gene):\n",
    "        if g in gene2zscore:\n",
    "            z_g[i] = gene2zscore[g]\n",
    "    \n",
    "    return z_g, var_g\n",
    "                \n",
    "def compute_gwas_z(pca_genes, pca_weight, pca_sig, gene2zscore, gene2var):\n",
    "    ## inputs:\n",
    "    ## df_spca: a (lantent factor, gene) numpy array of the lantent factor x gene matrix\n",
    "    ## sig_gtex: a (gene, ) numpy array of the per-gene variance from GTEX\n",
    "    ## df_cov: a (gene, gene) numpy array of the gene-gene covariance\n",
    "    ## z_g: a (gene, ) numpy array of per-gene GWAS associations from s-predixscan\n",
    "    ## var_g: a (gene, ) numpy array of per-gene GWAS variance from s-predixscan\n",
    "    ## is_deconvolute: a bool variable. If True the the deconvolution is performed.\n",
    "    \n",
    "    \n",
    "    z_lantent = 0.0\n",
    "    for i, g in enumerate(pca_genes):\n",
    "        if g in gene2zscore and g in gene2var:\n",
    "            w = pca_weight[i]\n",
    "            z = gene2zscore[g]\n",
    "            s = np.sqrt(gene2var[g])\n",
    "            \n",
    "            z_lantent += w*z*s\n",
    "    z_lantent = z_lantent / pca_sig\n",
    "    #print c, c / np.sqrt(pca_weight.dot(df_1k[pca_genes].cov().values).dot(pca_weight))\n",
    "    '''\n",
    "    z_g = np.zeros(*pca_weight.shape)\n",
    "    sig_g = np.zeros(*pca_weight.shape)\n",
    "    for i, g in enumerate(pca_genes):\n",
    "        if g in gene2zscore and g in gene2var:\n",
    "            z_g[i] = gene2zscore[g]\n",
    "            sig_g[i] = np.sqrt(gene2var[g])\n",
    "            \n",
    "    z_lantent = np.sum(pca_weight * (z_g * sig_g)) / pca_sig\n",
    "    '''\n",
    "    return z_lantent"
   ]
  },
  {
   "cell_type": "code",
   "execution_count": 2,
   "metadata": {},
   "outputs": [],
   "source": [
    "fns = sorted(os.listdir('../processed_data/adj_expression/'))"
   ]
  },
  {
   "cell_type": "code",
   "execution_count": 3,
   "metadata": {},
   "outputs": [],
   "source": [
    "tissue = fns[0].split('-')[0]"
   ]
  },
  {
   "cell_type": "code",
   "execution_count": 8,
   "metadata": {},
   "outputs": [],
   "source": [
    "df_1k = pd.read_csv('../processed_data/predixcan_1kgenome/TW_Adipose_Subcutaneous_0.5.db_predicted_expression.txt.gz', sep = '\\t')"
   ]
  },
  {
   "cell_type": "code",
   "execution_count": 11,
   "metadata": {},
   "outputs": [],
   "source": [
    "df_1k.columns = [g.split('.')[0] for g in df_1k.columns]"
   ]
  },
  {
   "cell_type": "code",
   "execution_count": 12,
   "metadata": {
    "scrolled": true
   },
   "outputs": [
    {
     "name": "stdout",
     "output_type": "stream",
     "text": [
      "[u'gene_clusters', u'model_genes', u'weights']\n",
      "[u'cluster0005', u'cluster0007', u'cluster0015', u'cluster0031', u'cluster0032', u'cluster0050', u'cluster0051', u'cluster0056', u'cluster0060', u'cluster0068', u'cluster0072', u'cluster0097', u'cluster0126', u'cluster0127', u'cluster0128', u'cluster0131', u'cluster0153', u'cluster0156', u'cluster0166', u'cluster0171', u'cluster0184', u'cluster0193', u'cluster0226', u'cluster0240', u'cluster0249', u'cluster0258', u'cluster0268', u'cluster0299', u'cluster0323', u'cluster0352', u'cluster0372', u'cluster0403', u'cluster0405', u'cluster0408', u'cluster0414', u'cluster0421', u'cluster0429', u'cluster0430', u'cluster0434', u'cluster0470', u'cluster0475', u'cluster0478', u'cluster0479', u'cluster0494', u'cluster0498', u'cluster0515', u'cluster0519', u'cluster0526', u'cluster0541', u'cluster0555', u'cluster0571', u'cluster0600', u'cluster0601', u'cluster0647', u'cluster0675', u'cluster0698', u'cluster0725', u'cluster0735', u'cluster0736', u'cluster0737', u'cluster0757', u'cluster0761', u'cluster0786', u'cluster0809', u'cluster0836', u'cluster0847', u'cluster0883', u'cluster0899', u'cluster0918', u'cluster0919', u'cluster0932', u'cluster0941', u'cluster0952', u'cluster0953', u'cluster0957', u'cluster0991', u'cluster1000', u'cluster1019', u'cluster1023', u'cluster1034', u'cluster1050', u'cluster1054', u'cluster1059', u'cluster1064', u'cluster1082', u'cluster1083', u'cluster1084', u'cluster1092', u'cluster1107', u'cluster1115', u'cluster1141', u'cluster1144', u'cluster1162', u'cluster1171', u'cluster1188', u'cluster1224', u'cluster1256', u'cluster1264', u'cluster1265', u'cluster1277', u'cluster1326', u'cluster1336', u'cluster1347', u'cluster1365', u'cluster1380', u'cluster1387', u'cluster1396', u'cluster1401', u'cluster1412', u'cluster1419', u'cluster1450', u'cluster1461', u'cluster1462', u'cluster1482', u'cluster1492', u'cluster1521', u'cluster1558', u'cluster1563', u'cluster1581', u'cluster1586', u'cluster1587', u'cluster1593', u'cluster1594', u'cluster1596', u'cluster1602', u'cluster1613', u'cluster1615', u'cluster1636', u'cluster1657', u'cluster1679', u'cluster1683', u'cluster1706', u'cluster1707', u'cluster1711', u'cluster1745', u'cluster1751', u'cluster1754', u'cluster1759', u'cluster1762', u'cluster1763', u'cluster1765', u'cluster1766', u'cluster1783', u'cluster1787', u'cluster1800', u'cluster1804', u'cluster1829', u'cluster1846', u'cluster1896', u'cluster1897', u'cluster1931', u'cluster1936', u'cluster1941', u'cluster1968', u'cluster1997', u'cluster2000', u'cluster2017', u'cluster2054', u'cluster2055', u'cluster2059', u'cluster2075', u'cluster2097', u'cluster2108', u'cluster2125', u'cluster2152', u'cluster2153', u'cluster2194', u'cluster2211', u'cluster2212', u'cluster2298', u'cluster2345', u'cluster2349', u'cluster2376', u'cluster2379', u'cluster2403', u'cluster2408', u'cluster2414', u'cluster2438', u'cluster2451', u'cluster2452', u'cluster2499', u'cluster2527', u'cluster2530', u'cluster2541', u'cluster2547', u'cluster2548', u'cluster2554', u'cluster2598', u'cluster2613', u'cluster2661', u'cluster2665', u'cluster2681', u'cluster2699', u'cluster2700', u'cluster2709', u'cluster2722', u'cluster2750']\n"
     ]
    }
   ],
   "source": [
    "with h5py.File('../processed_data/model_weights/%s-eigengene_model.h5' % tissue, 'r') as reader:\n",
    "    print reader.keys()\n",
    "    print reader['weights'].keys()"
   ]
  },
  {
   "cell_type": "code",
   "execution_count": 14,
   "metadata": {},
   "outputs": [],
   "source": [
    "#!/usr/bin/env python\n",
    "import pandas\n",
    "import sqlite3\n",
    "\n",
    "connection = sqlite3.connect(\"../data/gwas_g2p/metaxcan_results_v1.5.db\")\n",
    "\n",
    "query = 'SELECT g.gene_name, m.zscore, m.n_snps_used, m.n_snps_model, p.tag as phenotype, t.tissue as tissue, g.gene ' \n",
    "query += ' FROM gene AS g INNER JOIN metaxcan_result AS m ON g.id = m.gene_id' \n",
    "query += ' INNER JOIN tissue AS t ON t.id = m.tissue_id  INNER JOIN pheno AS p ON p.id = m.pheno_id'\n",
    "\n",
    "pi = pandas.read_sql_query(query, connection)\n",
    "pi = pi[pi.tissue != 'DGN_WB']\n",
    "#res = {}\n",
    "#for key, item in pi.groupby('phenotype'):\n",
    "#    res[key] = [(un, um) for un, um in zip(item.n_snps_used, item.n_snps_model)]"
   ]
  },
  {
   "cell_type": "code",
   "execution_count": 83,
   "metadata": {
    "scrolled": true
   },
   "outputs": [],
   "source": [
    "df_sig = pd.read_csv('../processed_data/GTEX_info/sig_%s.csv' % tissue, header = None)\n",
    "gene2var = {g:z for g, z in zip(df_sig[0], df_sig[1])}\n"
   ]
  },
  {
   "cell_type": "code",
   "execution_count": 15,
   "metadata": {
    "scrolled": true
   },
   "outputs": [],
   "source": [
    "pi = pi[(pi.phenotype == 'CARDIoGRAM_C4D_CAD_ADDITIVE')]\n",
    "pi = pi[(pi.tissue == tissue)]\n"
   ]
  },
  {
   "cell_type": "code",
   "execution_count": 16,
   "metadata": {
    "scrolled": true
   },
   "outputs": [],
   "source": [
    "gene2z = {g:z for g, z in zip(pi.gene, pi.zscore)}"
   ]
  },
  {
   "cell_type": "code",
   "execution_count": 49,
   "metadata": {},
   "outputs": [],
   "source": [
    "pca_models = []\n",
    "with h5py.File('../processed_data/model_weights/%s-eigengene_model.h5' % tissue, 'r') as reader:\n",
    "    for k in sorted(reader['weights'].keys()):\n",
    "        pca_genes = reader['weights'][k]['genes'][...]\n",
    "        pca_weight = reader['weights'][k]['pca_weights'][...]\n",
    "        pca_sig = reader['weights'][k]['pca_sig'][...]\n",
    "        pca_models.append((k, pca_genes, pca_weight, pca_sig))"
   ]
  },
  {
   "cell_type": "code",
   "execution_count": 42,
   "metadata": {},
   "outputs": [],
   "source": [
    "import pickle\n",
    "with open('ensembl2genename.p', 'rb') as reader:\n",
    "    gid2gn = pickle.load(reader)"
   ]
  },
  {
   "cell_type": "code",
   "execution_count": 84,
   "metadata": {},
   "outputs": [],
   "source": [
    "res = []\n",
    "for k, pca_genes, pca_weight, pca_sig in pca_models:\n",
    "    \n",
    "    sig_1k = (df_1k[pca_genes].values * pca_weight[np.newaxis, :]).sum(axis = 1).std()\n",
    "    \n",
    "    res.append((sig_1k/pca_sig))"
   ]
  },
  {
   "cell_type": "code",
   "execution_count": 85,
   "metadata": {
    "scrolled": false
   },
   "outputs": [
    {
     "data": {
      "text/plain": [
       "0.22048267624575663"
      ]
     },
     "execution_count": 85,
     "metadata": {},
     "output_type": "execute_result"
    }
   ],
   "source": [
    "np.sqrt(pca_weight.dot(df_1k[pca_genes].cov().values).dot(pca_weight))"
   ]
  },
  {
   "cell_type": "code",
   "execution_count": 86,
   "metadata": {},
   "outputs": [
    {
     "data": {
      "text/plain": [
       "0.22043864575580271"
      ]
     },
     "execution_count": 86,
     "metadata": {},
     "output_type": "execute_result"
    }
   ],
   "source": [
    "(df_1k[pca_genes].values * pca_weight[np.newaxis, :]).sum(axis = 1).std()"
   ]
  },
  {
   "cell_type": "code",
   "execution_count": 90,
   "metadata": {
    "scrolled": true
   },
   "outputs": [
    {
     "name": "stdout",
     "output_type": "stream",
     "text": [
      "cluster0166 11.515118080974506 0.22643263440882389\n",
      "RCN1 -1.00214555438\n",
      "GAMT -1.37714670559\n",
      "RGS19 -1.61665403209\n",
      "OPRL1 -2.12711650179\n",
      "ACOX2 -0.907701430859\n",
      "\n",
      "cluster0352 14.523417370111686 0.16588229726614628\n",
      "CYP2C8 2.85090860373\n",
      "KIAA1143 1.7851834871\n",
      "KIAA1109 0.819427790664\n",
      "PAM 0.661283355936\n",
      "COPS6 0.858632237123\n",
      "TFR2 1.07835116205\n",
      "\n",
      "cluster0403 -15.853697371476576 0.13987221780534614\n",
      "DNASE2B -0.834277033806\n",
      "LIPA 4.38040796123\n",
      "NRIP3 0.773883407101\n",
      "HAPLN4 -0.343509686109\n",
      "NCEH1 -0.0693213341766\n",
      "COL22A1 1.45981962557\n",
      "\n",
      "cluster0919 -11.67646382147323 0.18669706275022313\n",
      "PPIF -0.201147034764\n",
      "HP -3.54242018103\n",
      "HPR -0.426820981048\n",
      "TNFSF14 -0.24059784151\n",
      "C3 0.373959181055\n",
      "BOC 1.20137661603\n",
      "\n",
      "cluster0957 10.141037560061076 0.24550890289866795\n",
      "PTGER3 0.433579489673\n",
      "GSDMB -1.93917572384\n",
      "ORMDL3 -0.496700647051\n",
      "ACVR1C 0.131751056586\n",
      "ADH1A -2.16440544191\n",
      "ADH1B -2.26343967576\n",
      "GHR -0.128760142032\n",
      "MEST -1.24064750115\n",
      "EPB41L4B 0.200493828405\n",
      "\n",
      "cluster1084 -10.56326961918639 0.1632225350860384\n",
      "SLC35E4 0.065702278122\n",
      "OSBP2 0.600228751433\n",
      "CARD10 1.26012263808\n",
      "EFCC1 0.892367128631\n",
      "LINC01558 1.18774657998\n",
      "\n",
      "cluster1092 -10.49329198409526 0.2004388642795381\n",
      "HSD17B6 1.3662779532\n",
      "MYH11 0.872586076777\n",
      "ACTG2 -1.13881555451\n",
      "REEP1 -0.247315651436\n",
      "PDLIM3 0.683430799843\n",
      "SCUBE3 2.67061136138\n",
      "\n",
      "cluster1462 11.988821444735352 0.1915816057696529\n",
      "CYP2J2 -1.50106679361\n",
      "TUBB4A -1.26525144588\n",
      "MAG -1.60548944381\n",
      "KLK6 1.78332240452\n",
      "SLC9A3 -1.42457918302\n",
      "GRIK2 -0.728819412979\n",
      "\n",
      "cluster1765 -13.48493230924508 0.26755894654569196\n",
      "GBP5 -2.71725128166\n",
      "TSPAN32 -1.85307866522\n",
      "C11orf21 0.110399845691\n",
      "CTSW -1.24606998879\n",
      "TBC1D10C 0.963910594727\n",
      "PTPRCAP -1.65640585147\n",
      "NDUFS8 -0.959906082679\n",
      "KLRD1 -0.28572622548\n",
      "KLRC3 -0.67644816949\n",
      "KLRC2 -2.35703749817\n",
      "RASAL3 0.0819939235643\n",
      "GNLY -1.17122820834\n",
      "IL2RB -0.781021058559\n",
      "CX3CR1 0.822707560382\n",
      "PLAC8 -0.985276709485\n",
      "NCR3 -1.575761165\n",
      "TMEM209 -1.64862410808\n",
      "\n",
      "cluster2530 -12.070447871792327 0.17031248890811998\n",
      "MKNK2 -1.87530454808\n",
      "RBM38 0.808903887433\n",
      "PXK -1.13583325287\n",
      "IP6K3 -1.72952165731\n",
      "TRIM35 -0.520384329827\n",
      "\n"
     ]
    }
   ],
   "source": [
    "res = []\n",
    "for k, pca_genes, pca_weight, pca_sig in pca_models:\n",
    "    \n",
    "    sig_1k = (df_1k[pca_genes].values * pca_weight[np.newaxis, :]).sum(axis = 1).std()\n",
    "    \n",
    "    z = compute_gwas_z(pca_genes, pca_weight, sig_1k, gene2z, gene2var)\n",
    "    res.append(z)\n",
    "    if abs(z) > 10.:\n",
    "        print k, z, sig_1k\n",
    "        for g in pca_genes:\n",
    "            if g in gid2gn:\n",
    "                print gid2gn[g], gene2z[g]\n",
    "        print"
   ]
  },
  {
   "cell_type": "code",
   "execution_count": 91,
   "metadata": {
    "scrolled": true
   },
   "outputs": [
    {
     "data": {
      "text/plain": [
       "[-15.853697371476576,\n",
       " -13.48493230924508,\n",
       " -12.070447871792327,\n",
       " -11.67646382147323,\n",
       " -10.56326961918639,\n",
       " -10.49329198409526,\n",
       " -9.868241704903713,\n",
       " -7.418976561635043,\n",
       " -7.292203937508301,\n",
       " -7.186387031670681,\n",
       " -7.092451035911698,\n",
       " -6.902526259448165,\n",
       " -6.842547919278909,\n",
       " -6.370069176327468,\n",
       " -6.204478039882395,\n",
       " -6.055079072323998,\n",
       " -5.982646874214061,\n",
       " -5.9010247029488045,\n",
       " -5.730032286949164,\n",
       " -5.690087997300045,\n",
       " -5.557543356539627,\n",
       " -5.557091132261948,\n",
       " -5.261006505220682,\n",
       " -5.1780829281137075,\n",
       " -5.055971289646944,\n",
       " -4.872634649794114,\n",
       " -4.644200763672877,\n",
       " -4.6273103149507975,\n",
       " -4.386753371235492,\n",
       " -4.355273518826337,\n",
       " -4.312476828947687,\n",
       " -4.267693295680719,\n",
       " -4.033600870025845,\n",
       " -3.987521124192526,\n",
       " -3.8813396863781877,\n",
       " -3.8516042169604763,\n",
       " -3.8117459103422444,\n",
       " -3.7676431585591663,\n",
       " -3.7436602650314423,\n",
       " -3.487669175602675,\n",
       " -3.3220078723788173,\n",
       " -3.2610033511861394,\n",
       " -3.2194891859756534,\n",
       " -3.0187750452610165,\n",
       " -2.995684466247848,\n",
       " -2.915438466302686,\n",
       " -2.831826769991312,\n",
       " -2.827460701124328,\n",
       " -2.8118990811282,\n",
       " -2.733945880023103,\n",
       " -2.677127717781277,\n",
       " -2.6676984002015423,\n",
       " -2.5791807019784483,\n",
       " -2.5223663559021827,\n",
       " -2.5143616646484355,\n",
       " -2.468979421932697,\n",
       " -2.413952889825608,\n",
       " -2.2812543238642973,\n",
       " -2.2352310338557664,\n",
       " -1.9615050124150328,\n",
       " -1.863792440864744,\n",
       " -1.7791594206616352,\n",
       " -1.7703702750458397,\n",
       " -1.6301436990611444,\n",
       " -1.5813864682133345,\n",
       " -1.5772480003932552,\n",
       " -1.5034174839043093,\n",
       " -1.2782178228979897,\n",
       " -1.2554080215001913,\n",
       " -1.1973321092132025,\n",
       " -1.1800072497935463,\n",
       " -1.0774499132480244,\n",
       " -1.0485334842659348,\n",
       " -0.9698682460516848,\n",
       " -0.9091591019747373,\n",
       " -0.8956623368120137,\n",
       " -0.8930541086848004,\n",
       " -0.8876230524844541,\n",
       " -0.7156000849666291,\n",
       " -0.713384428691785,\n",
       " -0.6727252374787335,\n",
       " -0.6709236447337489,\n",
       " -0.5500934620443498,\n",
       " -0.5224129285961995,\n",
       " -0.4256469402446132,\n",
       " -0.4241715887218689,\n",
       " -0.41022734755980106,\n",
       " -0.39946975146514524,\n",
       " -0.3689393146159548,\n",
       " -0.34860707818390485,\n",
       " -0.34252235919038565,\n",
       " -0.28095277596219526,\n",
       " -0.26193419923469324,\n",
       " -0.2207471066327414,\n",
       " -0.15312130805783347,\n",
       " -0.10875504433021979,\n",
       " -0.061898555341772306,\n",
       " -0.06087238452469988,\n",
       " 0.015875951623321335,\n",
       " 0.03946338356040946,\n",
       " 0.06907359442983825,\n",
       " 0.13635651677145386,\n",
       " 0.18999434266955756,\n",
       " 0.19262971634815942,\n",
       " 0.30021967884018225,\n",
       " 0.402680990655681,\n",
       " 0.4149657105507713,\n",
       " 0.429862052139733,\n",
       " 0.46086285937089877,\n",
       " 0.4778174850787648,\n",
       " 0.5484229679823744,\n",
       " 0.6075580705905044,\n",
       " 0.6129146481964944,\n",
       " 0.6343199661928408,\n",
       " 0.6391053899398117,\n",
       " 0.6443650775515309,\n",
       " 0.7063920117158723,\n",
       " 0.7689576851713453,\n",
       " 0.7906284134625584,\n",
       " 0.8236791587836543,\n",
       " 0.8246047648273598,\n",
       " 0.9505030142206388,\n",
       " 0.9517836660774068,\n",
       " 0.9519396256031973,\n",
       " 1.0094506320511165,\n",
       " 1.081385795465633,\n",
       " 1.1426010743123645,\n",
       " 1.1490493504515757,\n",
       " 1.1657470113648833,\n",
       " 1.1793349447309502,\n",
       " 1.2341119541018057,\n",
       " 1.2341492676489902,\n",
       " 1.2709009323238298,\n",
       " 1.272414794150956,\n",
       " 1.2739352901462142,\n",
       " 1.37374441751001,\n",
       " 1.4041544598049758,\n",
       " 1.4106053427627854,\n",
       " 1.49077103714695,\n",
       " 1.5794557483379885,\n",
       " 1.6944636994507647,\n",
       " 1.9819499959746092,\n",
       " 2.046387707123712,\n",
       " 2.075003498604454,\n",
       " 2.1203531572620284,\n",
       " 2.1409421276999847,\n",
       " 2.1781177505133096,\n",
       " 2.342932016447775,\n",
       " 2.3478166618492016,\n",
       " 2.3780853605330052,\n",
       " 2.4413612216716265,\n",
       " 2.503094852010312,\n",
       " 2.5368782281124247,\n",
       " 2.5386617556488087,\n",
       " 2.591367069579171,\n",
       " 2.653816371545671,\n",
       " 2.7412182643645333,\n",
       " 2.744639845690387,\n",
       " 2.818171872046823,\n",
       " 2.836151637617866,\n",
       " 2.904825905349218,\n",
       " 2.935416964535358,\n",
       " 3.1079950775173675,\n",
       " 3.1841592158885454,\n",
       " 3.233891370542956,\n",
       " 3.2589481346144225,\n",
       " 3.4192866571446623,\n",
       " 3.5036448711108923,\n",
       " 3.5504232164064895,\n",
       " 3.8814222370427576,\n",
       " 3.975081348181221,\n",
       " 4.1388444567858,\n",
       " 4.158322212477109,\n",
       " 4.2618775300594365,\n",
       " 4.617061999583029,\n",
       " 4.766175697673536,\n",
       " 4.778208553329331,\n",
       " 4.840654035112976,\n",
       " 5.0928854739615925,\n",
       " 5.214373474185349,\n",
       " 5.234879142561113,\n",
       " 5.386771085666255,\n",
       " 6.129338554967712,\n",
       " 6.2092394706051355,\n",
       " 6.290631111762204,\n",
       " 6.601536499988773,\n",
       " 6.770601207495837,\n",
       " 7.4944733270202235,\n",
       " 7.887328555817115,\n",
       " 8.044431773482463,\n",
       " 8.642208100771333,\n",
       " 8.643281460282246,\n",
       " 8.926557442156884,\n",
       " 10.141037560061076,\n",
       " 11.515118080974506,\n",
       " 11.988821444735352,\n",
       " 14.523417370111686]"
      ]
     },
     "execution_count": 91,
     "metadata": {},
     "output_type": "execute_result"
    }
   ],
   "source": [
    "sorted(res)"
   ]
  },
  {
   "cell_type": "code",
   "execution_count": 22,
   "metadata": {},
   "outputs": [],
   "source": [
    "g0 = 'ENSG00000144426'\n",
    "\n",
    "with h5py.File('../processed_data/model_weights/%s-eigengene_model.h5' % tissue, 'r') as reader:\n",
    "    id2genes = reader['model_genes'][...]"
   ]
  },
  {
   "cell_type": "code",
   "execution_count": 23,
   "metadata": {},
   "outputs": [
    {
     "data": {
      "text/plain": [
       "True"
      ]
     },
     "execution_count": 23,
     "metadata": {},
     "output_type": "execute_result"
    }
   ],
   "source": [
    "g0 in id2genes"
   ]
  },
  {
   "cell_type": "code",
   "execution_count": 115,
   "metadata": {},
   "outputs": [
    {
     "name": "stdout",
     "output_type": "stream",
     "text": [
      "cluster0541\n",
      "1.48760657373\n",
      "-0.0367478480274\n",
      "-1.68049932579\n",
      "-0.0121706918046\n",
      "0.529826229504\n",
      "8.59497582584\n",
      "-0.366676115344\n",
      "1.16410866609\n",
      "0.42572162606\n",
      "0.871975521237\n"
     ]
    }
   ],
   "source": [
    "g0 = 'ENSG00000163596'\n",
    "model_genes = []\n",
    "\n",
    "with h5py.File('../processed_data/model_weights/%s-eigengene_model.h5' % tissue, 'r') as reader:\n",
    "    \n",
    "    for k in sorted(reader['weights'].keys()):\n",
    "        pca_genes = reader['weights'][k]['genes'][...]\n",
    "        pca_weight = reader['weights'][k]['pca_weights'][...]\n",
    "        pca_sig = reader['weights'][k]['pca_sig'][...]\n",
    "        \n",
    "        model_genes += list(pca_genes)\n",
    "        if g0 in pca_genes:\n",
    "            print k\n",
    "            for g in pca_genes:\n",
    "                if g in gene2z:\n",
    "                    print gene2z[g]\n",
    "                else:\n",
    "                    print g\n",
    "            break"
   ]
  },
  {
   "cell_type": "code",
   "execution_count": 128,
   "metadata": {},
   "outputs": [
    {
     "name": "stdout",
     "output_type": "stream",
     "text": [
      "cluster0541 -7.092451035911698 0.2505344025025094\n",
      "-0.3279051230852034 1.48760657373 -0.07561866242574485\n",
      "-0.4474640392831214 -0.0367478480274 0.00010832081929261267\n",
      "-0.4740599353578534 -1.68049932579 0.09351564551628003\n",
      "-0.37433407631592835 -0.0121706918046 0.0006157477105800467\n",
      "-0.2653495600750051 0.529826229504 -0.01106950963449224\n",
      "-0.22517683146453268 8.59497582584 -0.18625104030498407\n",
      "-0.23900471683960836 -0.366676115344 0.04038944553541047\n",
      "-0.21250515710304704 1.16410866609 -0.14189159855146186\n",
      "-0.20661771494209857 0.42572162606 -0.04056444244321598\n",
      "-0.24760405841755967 0.871975521237 -0.037889323016540695\n",
      "-0.35865541679487656 -1.4315615468868959\n"
     ]
    }
   ],
   "source": [
    "res = []\n",
    "for k, pca_genes, pca_weight, pca_sig in pca_models:\n",
    "    if k != 'cluster0541':\n",
    "        continue\n",
    "        \n",
    "    sig_1k = (df_1k[pca_genes].values * pca_weight[np.newaxis, :]).sum(axis = 1).std()\n",
    "    \n",
    "    z = compute_gwas_z(pca_genes, pca_weight, sig_1k, gene2z, gene2var)\n",
    "    res.append(z)\n",
    "\n",
    "    print k, z, sig_1k\n",
    "    c = 0.\n",
    "    for i, g in enumerate(pca_genes):\n",
    "        if g in gid2gn:\n",
    "            w, z ,s = pca_weight[i], gene2z[g], gene2var[g]\n",
    "            print w, z, w*z* df_1k[g].std()\n",
    "            c += w*z* df_1k[g].std()  \n",
    "    print c, c / sig_1k\n",
    "\n",
    "    break"
   ]
  },
  {
   "cell_type": "code",
   "execution_count": 136,
   "metadata": {},
   "outputs": [
    {
     "data": {
      "text/plain": [
       "0.10581670645483005"
      ]
     },
     "execution_count": 136,
     "metadata": {},
     "output_type": "execute_result"
    }
   ],
   "source": [
    "(df_1k[pca_genes].values * pca_weight[np.newaxis, :]).sum(axis = 1).mean()"
   ]
  },
  {
   "cell_type": "code",
   "execution_count": 123,
   "metadata": {},
   "outputs": [
    {
     "name": "stdout",
     "output_type": "stream",
     "text": [
      "WDR63 1.48760657373\n",
      "HOXB5 -0.0367478480274\n",
      "HOXB6 -1.68049932579\n",
      "HOXB7 -0.0121706918046\n",
      "TMEM87B 0.529826229504\n",
      "ICA1L 8.59497582584\n",
      "ATG10 -0.366676115344\n",
      "ATP6AP1L 1.16410866609\n",
      "SLC26A8 0.42572162606\n",
      "RGS22 0.871975521237\n"
     ]
    }
   ],
   "source": [
    "for g in pca_genes:\n",
    "    if g in gid2gn:\n",
    "        print gid2gn[g], gene2z[g]\n"
   ]
  },
  {
   "cell_type": "code",
   "execution_count": 118,
   "metadata": {},
   "outputs": [
    {
     "data": {
      "text/plain": [
       "0.250584444329135"
      ]
     },
     "execution_count": 118,
     "metadata": {},
     "output_type": "execute_result"
    }
   ],
   "source": [
    "np.sqrt(pca_weight.dot(df_1k[pca_genes].cov().values).dot(pca_weight))"
   ]
  },
  {
   "cell_type": "code",
   "execution_count": 119,
   "metadata": {},
   "outputs": [
    {
     "name": "stdout",
     "output_type": "stream",
     "text": [
      "-0.3279051230852034 1.48760657373 1.198743435306321 -0.5847396355057406\n",
      "-0.4474640392831214 -0.0367478480274 1.0313796614826183 0.01695932697225355\n",
      "-0.4740599353578534 -1.68049932579 1.020389510902577 0.8129008565315835\n",
      "-0.37433407631592835 -0.0121706918046 0.9862827841025108 0.004493410346768158\n",
      "-0.2653495600750051 0.529826229504 0.6071156212213618 -0.08535387333748941\n",
      "-0.22517683146453268 8.59497582584 0.768021602440322 -1.486420885980774\n",
      "-0.23900471683960836 -0.366676115344 0.582685832087069 0.051065025378479276\n",
      "-0.21250515710304704 1.16410866609 0.7844033880236623 -0.1940450002226359\n",
      "-0.20661771494209857 0.42572162605999997 1.1475510742664137 -0.10094046251640289\n",
      "-0.24760405841755967 0.871975521237 0.976457510221515 -0.21082174422648273\n",
      "-1.7769029825604412 -7.091034670238881\n"
     ]
    }
   ],
   "source": [
    "c = 0.0\n",
    "for w, z, s in zip(pca_weight, z_g, sig_g):\n",
    "    print w, z ,s, w*z*s\n",
    "    c += w*z*s\n",
    "print c, c / np.sqrt(pca_weight.dot(df_1k[pca_genes].cov().values).dot(pca_weight))"
   ]
  },
  {
   "cell_type": "code",
   "execution_count": null,
   "metadata": {},
   "outputs": [],
   "source": []
  },
  {
   "cell_type": "code",
   "execution_count": 26,
   "metadata": {},
   "outputs": [],
   "source": [
    "z_g = np.zeros(*pca_weight.shape)\n",
    "sig_g = np.zeros(*pca_weight.shape)\n",
    "\n",
    "for i, g in enumerate(pca_genes):\n",
    "    if g in gene2z and g in gene2var:\n",
    "        z_g[i] = gene2z[g]\n",
    "        sig_g[i] = np.sqrt(gene2var[g])\n",
    "            \n",
    "z_lantent = np.sum(pca_weight * (z_g * sig_g)) / pca_sig"
   ]
  },
  {
   "cell_type": "code",
   "execution_count": 37,
   "metadata": {},
   "outputs": [],
   "source": [
    "sig_1k = (df_1k[pca_genes].values * pca_weight[np.newaxis, :]).sum(axis = 1).std()"
   ]
  },
  {
   "cell_type": "code",
   "execution_count": 39,
   "metadata": {},
   "outputs": [
    {
     "data": {
      "text/plain": [
       "-7.092451035911698"
      ]
     },
     "execution_count": 39,
     "metadata": {},
     "output_type": "execute_result"
    }
   ],
   "source": [
    "np.sum(pca_weight * (z_g * sig_g)) / sig_1k"
   ]
  },
  {
   "cell_type": "code",
   "execution_count": 38,
   "metadata": {},
   "outputs": [
    {
     "data": {
      "text/plain": [
       "0.2505344025025094"
      ]
     },
     "execution_count": 38,
     "metadata": {},
     "output_type": "execute_result"
    }
   ],
   "source": [
    "sig_1k"
   ]
  },
  {
   "cell_type": "code",
   "execution_count": null,
   "metadata": {},
   "outputs": [],
   "source": []
  }
 ],
 "metadata": {
  "kernelspec": {
   "display_name": "Python 2",
   "language": "python",
   "name": "python2"
  },
  "language_info": {
   "codemirror_mode": {
    "name": "ipython",
    "version": 2
   },
   "file_extension": ".py",
   "mimetype": "text/x-python",
   "name": "python",
   "nbconvert_exporter": "python",
   "pygments_lexer": "ipython2",
   "version": "2.7.12"
  }
 },
 "nbformat": 4,
 "nbformat_minor": 1
}
