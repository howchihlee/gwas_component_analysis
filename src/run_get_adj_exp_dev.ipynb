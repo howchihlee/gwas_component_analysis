{
 "cells": [
  {
   "cell_type": "code",
   "execution_count": 12,
   "metadata": {
    "collapsed": true
   },
   "outputs": [],
   "source": [
    "import os\n",
    "\n",
    "path = '../processed_data/transposed_expression/'\n",
    "\n",
    "id2tissue = [f.split('-')[0] for f in os.listdir(path) if f[-4:] == '.txt']\n",
    "\n",
    "fn_exp = '../processed_data/transposed_expression/%s-experssion.txt' \n",
    "fn_covariate = '../processed_data/transposed_covariate/%s-covariate.txt'\n",
    "fn_save = '../processed_data/adj_expression/%s-adj_experssion.txt'\n",
    "\n",
    "for t in tissue:\n",
    "    cmd = ' '.join(['Rscript get_adj_exp.R', fn_exp % t, fn_covariate % t, fn_save % t])\n",
    "    os.system(cmd)"
   ]
  },
  {
   "cell_type": "code",
   "execution_count": null,
   "metadata": {
    "collapsed": true
   },
   "outputs": [],
   "source": []
  }
 ],
 "metadata": {
  "kernelspec": {
   "display_name": "Python 2",
   "language": "python",
   "name": "python2"
  },
  "language_info": {
   "codemirror_mode": {
    "name": "ipython",
    "version": 2
   },
   "file_extension": ".py",
   "mimetype": "text/x-python",
   "name": "python",
   "nbconvert_exporter": "python",
   "pygments_lexer": "ipython2",
   "version": "2.7.6"
  }
 },
 "nbformat": 4,
 "nbformat_minor": 0
}
