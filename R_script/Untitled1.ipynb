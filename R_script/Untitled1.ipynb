{
 "cells": [
  {
   "cell_type": "code",
   "execution_count": 79,
   "metadata": {
    "collapsed": true
   },
   "outputs": [],
   "source": [
    "from scipy.stats import fisher_exact\n",
    "from statsmodels.sandbox.stats.multicomp import multipletests\n",
    "import networkx as nx\n",
    "import pandas as pd\n",
    "\n",
    "def geneset_enrich(term_set, genesets, bk_set):\n",
    "    res = []\n",
    "\n",
    "    ps = term_set & bk_set\n",
    "    for key, tmp in genesets.items():\n",
    "        gs = tmp & bk_set\n",
    "        if not gs or not ps & gs:\n",
    "            continue\n",
    "        cmat = np.array([[len(gs & ps), len(ps - gs)], [len(gs - ps), len(bk_set) - len(ps | gs)], ])\n",
    "        #print cmat\n",
    "        oddr, p = fisher_exact(cmat, 'greater')\n",
    "        res.append([key, oddr, p])\n",
    "    \n",
    "    if res:\n",
    "        adj_p = multipletests([p[2] for p in res])[1]\n",
    "        res = [gs + [ap] for gs, ap in zip(res, adj_p)]\n",
    "    return res ## ['term name', odd ratio, p-val, adjusted p-val]"
   ]
  },
  {
   "cell_type": "code",
   "execution_count": 81,
   "metadata": {
    "collapsed": false
   },
   "outputs": [],
   "source": [
    "tissue = 'Adipose_Subcutaneous'\n",
    "df_bn = pd.read_csv('../processed_data/GTEX_BN/GTEx_%s_EdgeFile.csv' % tissue)\n",
    "df_wgcna = pd.read_csv('./WGCNA/%s/gene_module.csv' % tissue, header = None)\n",
    "\n",
    "\n",
    "G0 = nx.DiGraph()\n",
    "G0.add_edges_from([(s.split('.')[0], t.split('.')[0]) for s, t in zip(df_bn.From, df_bn.To)])\n",
    "D0 = nx.shortest_path_length(G0)\n",
    "\n",
    "G1 = nx.DiGraph()\n",
    "G1.add_edges_from([(t.split('.')[0], s.split('.')[0]) for s, t in zip(df_bn.From, df_bn.To)])\n",
    "D1 = nx.shortest_path_length(G1)\n",
    "\n",
    "D0 = nx.shortest_path_length(G0)\n",
    "\n",
    "ch_set = {}\n",
    "for g, item in D0:\n",
    "    tmp = set(item.keys()) - set([g]) \n",
    "    if len(tmp) < 3:\n",
    "        continue\n",
    "    ch_set[g] = tmp\n",
    "    \n",
    "mod2genes ={k:set(item[0]) for k, item in df_wgcna.groupby(1) if k != 'grey'}\n",
    "\n",
    "res_all = {}\n",
    "for k, gs in mod2genes.items():\n",
    "    res = geneset_enrich(gs, ch_set, background0)\n",
    "    if res:\n",
    "        res_all[k] = res"
   ]
  },
  {
   "cell_type": "code",
   "execution_count": null,
   "metadata": {
    "collapsed": true
   },
   "outputs": [],
   "source": []
  }
 ],
 "metadata": {
  "kernelspec": {
   "display_name": "my_env",
   "language": "python",
   "name": "my_env"
  },
  "language_info": {
   "codemirror_mode": {
    "name": "ipython",
    "version": 2
   },
   "file_extension": ".py",
   "mimetype": "text/x-python",
   "name": "python",
   "nbconvert_exporter": "python",
   "pygments_lexer": "ipython2",
   "version": "2.7.6"
  }
 },
 "nbformat": 4,
 "nbformat_minor": 0
}
