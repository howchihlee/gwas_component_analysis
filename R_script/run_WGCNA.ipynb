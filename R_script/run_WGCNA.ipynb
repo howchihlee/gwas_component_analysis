{
 "cells": [
  {
   "cell_type": "code",
   "execution_count": 1,
   "metadata": {
    "collapsed": true
   },
   "outputs": [],
   "source": [
    "import os\n",
    "fns = [f for f in os.listdir('./sliced_data/') if f[-4:] == '.txt']"
   ]
  },
  {
   "cell_type": "code",
   "execution_count": 2,
   "metadata": {
    "collapsed": false
   },
   "outputs": [],
   "source": [
    "for f in fns:\n",
    "    tissue = f.split('-')[0]\n",
    "    out_dir = './WGCNA/%s/' % tissue\n",
    "    fn_read = './sliced_data/%s' % f\n",
    "    os.system('mkdir %s' % out_dir)\n",
    "    cmd = 'Rscript WGCNA.r %s %s' % (out_dir, fn_read)\n",
    "    os.system(cmd)\n",
    "    "
   ]
  },
  {
   "cell_type": "code",
   "execution_count": null,
   "metadata": {
    "collapsed": true
   },
   "outputs": [],
   "source": []
  }
 ],
 "metadata": {
  "kernelspec": {
   "display_name": "my_env",
   "language": "python",
   "name": "my_env"
  },
  "language_info": {
   "codemirror_mode": {
    "name": "ipython",
    "version": 2
   },
   "file_extension": ".py",
   "mimetype": "text/x-python",
   "name": "python",
   "nbconvert_exporter": "python",
   "pygments_lexer": "ipython2",
   "version": "2.7.6"
  }
 },
 "nbformat": 4,
 "nbformat_minor": 0
}
