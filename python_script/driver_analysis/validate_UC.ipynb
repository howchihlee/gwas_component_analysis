{
 "cells": [
  {
   "cell_type": "code",
   "execution_count": 1,
   "metadata": {
    "collapsed": false
   },
   "outputs": [],
   "source": [
    "import os\n",
    "import pandas as pd\n",
    "import numpy as np\n",
    "import h5py\n",
    "from collections import Counter\n",
    "try:\n",
    "    import cPickle as pickle\n",
    "except:\n",
    "    import pickle\n",
    "\n",
    "import sys\n",
    "sys.path.append(os.path.abspath('../src'))\n",
    "\n",
    "from enrichment_helper import *\n",
    "\n",
    "from statsmodels.sandbox.stats.multicomp import multipletests\n",
    "from statsmodels.stats.proportion import proportion_confint\n",
    "import scipy.stats as stats\n",
    "\n",
    "import sqlite3\n",
    "with open('../src/ensembl2genename_GRCh38.85.p', 'rb') as reader:\n",
    "    gid2gn = pickle.load(reader)   \n",
    "    \n",
    "  "
   ]
  },
  {
   "cell_type": "code",
   "execution_count": 2,
   "metadata": {
    "collapsed": false
   },
   "outputs": [],
   "source": [
    "selected_phenotype = 'IBD.EUR.Ulcerative_Colitis'\n",
    "lincs_file = 'CD_signatures/UC_lincs_l1000.p'\n",
    "fn_out = 'UC_targets.csv'\n",
    "mgi_search_criteria = lambda x: (('bowel' in x.lower()) or ('ulcer' in x.lower()))\n",
    "creed_search_criteria = lambda x: 'bowel' in x.lower() or 'ulcer' in x.lower()"
   ]
  },
  {
   "cell_type": "code",
   "execution_count": 3,
   "metadata": {
    "collapsed": false
   },
   "outputs": [
    {
     "name": "stdout",
     "output_type": "stream",
     "text": [
      "inflammatory bowel disease MGI:102672 True 96\n",
      "inflammatory bowel disease MGI:104798 True 221\n",
      "inflammatory bowel disease MGI:103038 True 173\n",
      "inflammatory bowel disease MGI:109495 True 45\n",
      "inflammatory bowel disease MGI:1339364 True 44\n",
      "inflammatory bowel disease MGI:96548 True 104\n",
      "inflammatory bowel disease MGI:96537 True 188\n",
      "inflammatory bowel disease MGI:88337 True 57\n",
      "inflammatory bowel disease MGI:96549 True 38\n",
      "inflammatory bowel disease 1 MGI:2429397 True 37\n",
      "inflammatory bowel disease 10 MGI:1924290 True 40\n",
      "inflammatory bowel disease 12 MGI:95772 True 78\n",
      "inflammatory bowel disease 13 MGI:97570 True 40\n",
      "inflammatory bowel disease 16 MGI:2180140 True 13\n"
     ]
    }
   ],
   "source": [
    "## MGI\n",
    "hg2mg, mg, mg2pheno, pheno, pheno2name = load_mgi('../../../project_wrapup/GSK_project/GWAS_component/data/MGI/')  \n",
    "\n",
    "df = pd.read_csv('../../../project_wrapup/GSK_project/GWAS_component/data/MGI/MGI_DO.rpt', sep = '\\t')\n",
    "\n",
    "dis2pheno = {}\n",
    "for d, m in zip(df['DO Disease Name'], df['Mouse MGI ID']):\n",
    "    if mgi_search_criteria(d) and m != None:\n",
    "        if m in mg:\n",
    "            print d, m, m in mg, len(mg2pheno[m])\n",
    "            dis2pheno[m] = set(mg2pheno[m])\n",
    "        #else:\n",
    "            #print d, m, m in mg"
   ]
  },
  {
   "cell_type": "code",
   "execution_count": 4,
   "metadata": {
    "collapsed": false
   },
   "outputs": [],
   "source": [
    "with open('./gcomp_drive_genes.p', 'rb') as reader:\n",
    "    drivers = set([gid2gn[item[0]] for s, item in pickle.load(reader)[selected_phenotype]])"
   ]
  },
  {
   "cell_type": "code",
   "execution_count": 5,
   "metadata": {
    "collapsed": false
   },
   "outputs": [],
   "source": [
    "#!/usr/bin/env python\n",
    "import pandas\n",
    "import sqlite3\n",
    "\n",
    "connection = sqlite3.connect(\"../../data/gwas_g2p/metaxcan_results_p/metaxcan_results_v1.5.db\")\n",
    "\n",
    "query = 'SELECT g.gene_name, m.zscore, m.n_snps_used, m.n_snps_model, p.tag as phenotype, t.tissue as tissue, g.gene ' \n",
    "query += ' FROM gene AS g INNER JOIN metaxcan_result AS m ON g.id = m.gene_id' \n",
    "query += ' INNER JOIN tissue AS t ON t.id = m.tissue_id  INNER JOIN pheno AS p ON p.id = m.pheno_id'\n",
    "query += ' WHERE p.tag = \\'%s\\'' % selected_phenotype\n",
    "\n",
    "pi = pandas.read_sql_query(query, connection)\n",
    "pi = pi[pi.tissue != 'DGN_WB']\n"
   ]
  },
  {
   "cell_type": "code",
   "execution_count": 6,
   "metadata": {
    "collapsed": false,
    "scrolled": true
   },
   "outputs": [],
   "source": [
    "from scipy.stats import norm \n",
    "import statsmodels.stats.multitest as multi\n",
    "\n",
    "pvals = norm.sf(np.abs(pi.zscore)) * 2\n",
    "_, res_adjp, _, _ = multi.multipletests(pvals)\n"
   ]
  },
  {
   "cell_type": "code",
   "execution_count": 7,
   "metadata": {
    "collapsed": false,
    "scrolled": true
   },
   "outputs": [
    {
     "name": "stdout",
     "output_type": "stream",
     "text": [
      "117\n"
     ]
    }
   ],
   "source": [
    "sgenes = set(pi.gene_name[res_adjp < 0.05])\n",
    "print len(sgenes)"
   ]
  },
  {
   "cell_type": "code",
   "execution_count": 8,
   "metadata": {
    "collapsed": false
   },
   "outputs": [
    {
     "name": "stdout",
     "output_type": "stream",
     "text": [
      "(28, 104, 0.2692307692307692, (0.18398282908661615, 0.3544787093749223))\n"
     ]
    }
   ],
   "source": [
    "mgi_res_meta = mgi_match(sgenes, hg2mg, mg2pheno, dis2pheno, pheno, alpha_sig = (0.05) / float(len(dis2pheno)))\n",
    "mgi_hit_meta = set([g for g, c in mgi_res_meta.items()])\n",
    "n1 = len(mgi_hit_meta)\n",
    "n0 = len([g for g in sgenes if g in hg2mg])\n",
    "print(n1, n0, float(n1) / float(n0), proportion_confint(n1, n0))"
   ]
  },
  {
   "cell_type": "code",
   "execution_count": 9,
   "metadata": {
    "collapsed": false
   },
   "outputs": [
    {
     "name": "stdout",
     "output_type": "stream",
     "text": [
      "(35, 97, 0.36082474226804123, (0.2652550128210566, 0.45639447171502584))\n"
     ]
    }
   ],
   "source": [
    "mgi_res_gc = mgi_match(drivers, hg2mg, mg2pheno, dis2pheno, pheno, alpha_sig = (0.05) / float(len(dis2pheno)))\n",
    "mgi_hit_gc = set([g for g, c in mgi_res_gc.items()])\n",
    "n1 = len(mgi_hit_gc)\n",
    "n0 = len([g for g in drivers if g in hg2mg])\n",
    "print(n1, n0, float(n1) / float(n0), proportion_confint(n1, n0))"
   ]
  },
  {
   "cell_type": "code",
   "execution_count": 10,
   "metadata": {
    "collapsed": false,
    "scrolled": true
   },
   "outputs": [
    {
     "name": "stdout",
     "output_type": "stream",
     "text": [
      "\n",
      "'TMEM89', 'PGAP3', 'TAP2', 'TMOD1', 'CTD-2330K9.3', 'CKM', 'SPTB', 'AGER', \n",
      "'SELPLG', 'LAPTM5', 'ARFRP1', 'STK19', 'MYL2', 'RASAL1', 'NKX2-3', 'KIF2C', \n",
      "'C6orf15', 'CACNA1H', 'GNL1', 'DDX39B', 'MT-ND5', 'MT-ND6', 'TYROBP', 'GSDMB', \n",
      "'NXPE1', 'DLGAP5', 'APEH', 'HLA-DQB1', 'MYB', 'PYGM', 'ZPBP2', 'HLA-DPB1', \n",
      "'TBXAS1', 'PSORS1C1', 'ARHGEF19', 'ALOX5', 'HLA-DRB1', 'KRT24', 'HLA-DRB5', 'GALNT15', \n",
      "'IP6K2', 'CXCL16', 'ORMDL3', 'LST1', 'FKBPL', 'MST1R', 'C1QA', 'BAK1', \n",
      "'ZGPAT', 'PRSS22', 'DHX16', 'TOP2A', 'TCF19', 'CD3E', 'DDAH2', 'STMN3', \n",
      "'DOCK2', 'ZWINT', 'CDKN1A', 'ANO1', 'C3orf62', 'TNFRSF14', 'LY6G5C', 'SFTA2', \n",
      "'PKHD1L1', 'NPRL2', 'SLC9A4', 'HCG27', 'TNNT2', 'APOM', 'MST1', 'APOH', \n",
      "'CARD9', 'SKIV2L', 'PRKG1', 'C4A', 'C4B', 'HLA-DQB2', 'PCOLCE', 'GPANK1', \n",
      "'NPPB', 'AMT', 'TMEM45B', 'ALPK3', 'AGPAT1', 'DLD', 'FAM212A', 'UBA7', \n",
      "'DAG1', 'BLK', 'HCK', 'BTNL2', 'HOXA-AS3', 'DNER', 'ITGAX', 'C6orf48', \n",
      "'IRF8', 'KCNH8', 'CDC20', 'GPX1', 'MELK', 'STK33', 'SORT1', 'VPS52', \n",
      "'NOV', 'KLHDC8B', 'RNF123', 'PARK7', 'CD74', 'MYOM1', 'BCAP29', 'BAG6', \n",
      "'SLC26A6', 'VWA7', 'RBM6', 'OTUD3', 'TLR10', 'CD6', 'IKZF1', 'ZBTB12', \n",
      "'RTEL1', 'TEK', 'NUSAP1', 'MYH7', 'LY6G6C', 'LY6G6F', 'IFI16', 'PKNOX2', \n",
      "'C3', 'SIT1', 'IL4I1', 'PARVG', 'ABHD16A', 'CLIC1', 'PLA2G2A', 'LTB', \n",
      "'CATIP', 'SATB2', 'C6orf25', 'C2', 'CD8A', 'SLPI', 'RP5-862P8.2', 'SEMA3F', \n",
      "'IL10', 'LSP1', 'LRRN4', 'PRRT1', 'RELL2', 'RGS19', 'COL1A2', 'HLA-DOA', \n",
      "'HLA-DOB', 'HLA-DPA1', 'CSNK2B', 'GPSM1', 'CD53', 'MMEL1', 'C1orf106', 'LCN2', \n",
      "'CTB-131B5.5', 'FCGR3A', 'ECM2', 'ECM1', 'HSPA1B', 'OVOL1', 'HLA-DQA1', 'FAM83F', \n",
      "'HIST1H2AC', 'BIN2', 'UBASH3A', 'HLA-DRA', 'GABARAPL1', 'PPFIA3', 'PMPCA', 'GPSM3', \n",
      "'KCNK1', 'ETS2', 'KLF5', 'NFKBIL1', 'CDCA5', 'HCLS1', 'CERS2', 'PACSIN1', \n",
      "'CCT6B', 'BEX5', 'PSORS1C2', 'CCHCR1', 'PIM3', 'CYP21A2', 'QRICH1', 'NCR3', \n",
      "'GTF2H4', 'HSPA1L', 'IL34', 'TNF', 'POU5F1', 'IL33', 'LCP2', 'LCP1', \n",
      "'CAMKV', 'SASH3', 'TMBIM1', 'NPM2', 'CCNB2', 'NICN1', 'CFI', 'NOTCH4', \n",
      "'SRRM3', 'AIF1', 'DXO', 'PNKD', 'FAM26F', 'ACBD6', 'HLA-DMB', 'FOLR1', \n"
     ]
    }
   ],
   "source": [
    "s = ''\n",
    "for i, g in enumerate(drivers | sgenes):\n",
    "    if (i % 8) == 0:\n",
    "        print(s)\n",
    "        s = ''\n",
    "    s += '\\'%s\\', ' % g"
   ]
  },
  {
   "cell_type": "code",
   "execution_count": 11,
   "metadata": {
    "collapsed": false
   },
   "outputs": [
    {
     "name": "stdout",
     "output_type": "stream",
     "text": [
      "(22, 978)\n"
     ]
    }
   ],
   "source": [
    "## Lincs 1000\n",
    "df0 = pd.read_csv('../../../data/CREED/Disease_entire_exp_landmark.tsv.gz', sep = '\\t')\n",
    "df1 = pd.read_csv('../../../data/CREED/Disease_signatures_info_data.tsv', sep = '\\t')\n",
    "\n",
    "ind = [d0 for d0, d1 in zip(df1.id, df1.disease_name) if creed_search_criteria(d1)]\n",
    "dis = df0[ind].values.T\n",
    "dis = dis / np.linalg.norm(dis, axis = 1, keepdims=True)\n",
    "print dis.shape"
   ]
  },
  {
   "cell_type": "code",
   "execution_count": 12,
   "metadata": {
    "collapsed": true
   },
   "outputs": [],
   "source": [
    "with open('CD_signatures/REF_lincs_l1000.p', 'rb') as f:\n",
    "    res = pickle.load(f)\n",
    "\n",
    "cd_ref = np.vstack([item[u'chdirLm'] for item in res]) \n",
    "cd_ref /= (np.sqrt(np.sum(cd_ref **2, axis = 1)) + 1e-5)[:, np.newaxis]\n",
    "\n",
    "with open(lincs_file, 'rb') as f:\n",
    "    res_shrna = pickle.load(f)"
   ]
  },
  {
   "cell_type": "code",
   "execution_count": 13,
   "metadata": {
    "collapsed": false
   },
   "outputs": [
    {
     "name": "stdout",
     "output_type": "stream",
     "text": [
      "(7, 58, 0.1206896551724138, (0.036851790439477006, 0.2045275199053506))\n"
     ]
    }
   ],
   "source": [
    "lincs_res_meta = lincs_match(sgenes, res_shrna, dis, cd_ref, alpha_sig = 0.05)\n",
    "lincs_hit_meta = set([g for g, item in lincs_res_meta.items() if item[0] > 0])\n",
    "n1 = len(lincs_hit_meta)\n",
    "n0 = len(lincs_res_meta)\n",
    "print(n1, n0, float(n1) / float(n0), proportion_confint(n1, n0))"
   ]
  },
  {
   "cell_type": "code",
   "execution_count": 14,
   "metadata": {
    "collapsed": false
   },
   "outputs": [
    {
     "name": "stdout",
     "output_type": "stream",
     "text": [
      "(6, 41, 0.14634146341463414, (0.038152750713928124, 0.2545301761153401))\n"
     ]
    }
   ],
   "source": [
    "lincs_res_gc = lincs_match(drivers, res_shrna, dis, cd_ref, alpha_sig = 0.05)\n",
    "lincs_hit_gc = set([g for g, item in lincs_res_gc .items() if item[0] > 0])\n",
    "n1 = len(lincs_hit_gc)\n",
    "n0 = len(lincs_res_gc)\n",
    "print(n1, n0, float(n1) / float(n0), proportion_confint(n1, n0))"
   ]
  },
  {
   "cell_type": "code",
   "execution_count": 15,
   "metadata": {
    "collapsed": true
   },
   "outputs": [],
   "source": [
    "id2gene = sorted( drivers | sgenes)"
   ]
  },
  {
   "cell_type": "code",
   "execution_count": 16,
   "metadata": {
    "collapsed": true
   },
   "outputs": [],
   "source": [
    "mgi_genes = set([g for g in (drivers|sgenes) if g in hg2mg])\n",
    "mgi_hits = (mgi_hit_gc | mgi_hit_meta)\n",
    "lincs_genes =  (set(lincs_res_gc) | set(lincs_res_meta))\n",
    "lincs_hits = (lincs_hit_gc | lincs_hit_meta)"
   ]
  },
  {
   "cell_type": "code",
   "execution_count": 17,
   "metadata": {
    "collapsed": false
   },
   "outputs": [],
   "source": [
    "df_res = []\n",
    "for item in [drivers, sgenes, lincs_hits, lincs_genes, mgi_hits, mgi_genes]:\n",
    "    vec = [int(g in item) for g in id2gene]\n",
    "    df_res.append(vec)\n",
    "df_res = pd.DataFrame(df_res).T"
   ]
  },
  {
   "cell_type": "code",
   "execution_count": 18,
   "metadata": {
    "collapsed": false
   },
   "outputs": [],
   "source": [
    "df_res.columns = ['genes_selected_by_GCA+BNs', 'genes_selected_by_metaxcan', \n",
    "                  'LINCS_hit', 'genes_found_in_LINCS', 'MGI_hit', 'genes_found_in_MGI']\n",
    "df_res.index = id2gene\n",
    "\n",
    "df_res.to_csv(fn_out)"
   ]
  },
  {
   "cell_type": "code",
   "execution_count": null,
   "metadata": {
    "collapsed": true
   },
   "outputs": [],
   "source": []
  },
  {
   "cell_type": "code",
   "execution_count": null,
   "metadata": {
    "collapsed": true
   },
   "outputs": [],
   "source": []
  }
 ],
 "metadata": {
  "kernelspec": {
   "display_name": "my_env",
   "language": "python",
   "name": "my_env"
  },
  "language_info": {
   "codemirror_mode": {
    "name": "ipython",
    "version": 2
   },
   "file_extension": ".py",
   "mimetype": "text/x-python",
   "name": "python",
   "nbconvert_exporter": "python",
   "pygments_lexer": "ipython2",
   "version": "2.7.6"
  }
 },
 "nbformat": 4,
 "nbformat_minor": 1
}
