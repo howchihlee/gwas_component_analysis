{
 "cells": [
  {
   "cell_type": "code",
   "execution_count": 1,
   "metadata": {
    "collapsed": false
   },
   "outputs": [],
   "source": [
    "import os\n",
    "import pandas as pd\n",
    "import sys\n",
    "sys.path.append(os.path.abspath('../src'))\n",
    "\n",
    "from enrichment_helper import *"
   ]
  },
  {
   "cell_type": "code",
   "execution_count": 2,
   "metadata": {
    "collapsed": true
   },
   "outputs": [],
   "source": [
    "mgi_search_criteria = lambda x: ('age related macular degeneration' in x.lower()) or ('bowel' in x.lower()) or ('crohn' in x.lower()) or ('ulcer' in x.lower()) or ('rheumatoid arthritis' in x.lower())"
   ]
  },
  {
   "cell_type": "code",
   "execution_count": 3,
   "metadata": {
    "collapsed": false,
    "scrolled": true
   },
   "outputs": [],
   "source": [
    "## MGI\n",
    "hg2mg, mg, mg2pheno, pheno, pheno2name = load_mgi('../../../project_wrapup/GSK_project/GWAS_component/data/MGI/')  \n",
    "\n",
    "df = pd.read_csv('../../../project_wrapup/GSK_project/GWAS_component/data/MGI/MGI_DO.rpt', sep = '\\t')\n",
    "\n",
    "res_out = []\n",
    "\n",
    "for d, m in zip(df['DO Disease Name'], df['Mouse MGI ID']):\n",
    "    if mgi_search_criteria(d) and m != None:\n",
    "        if m in mg:\n",
    "            res_out.append((m, d))"
   ]
  },
  {
   "cell_type": "code",
   "execution_count": 4,
   "metadata": {
    "collapsed": false,
    "scrolled": false
   },
   "outputs": [],
   "source": [
    "pd.DataFrame(res_out, columns = ['DO Disease Name', 'Mouse MGI ID']).to_csv('MGI_models.csv')"
   ]
  },
  {
   "cell_type": "code",
   "execution_count": 5,
   "metadata": {
    "collapsed": true
   },
   "outputs": [],
   "source": [
    "creed_search_criteria = lambda x: ('macular' in x.lower()) or('bowel' in x.lower()) or ('crohn' in x.lower()) or ('ulcer' in x.lower()) or ('rheumatoid' in x.lower())"
   ]
  },
  {
   "cell_type": "code",
   "execution_count": 6,
   "metadata": {
    "collapsed": false,
    "scrolled": false
   },
   "outputs": [],
   "source": [
    "## Lincs 1000\n",
    "df1 = pd.read_csv('../../../data/CREED/Disease_signatures_info_data.tsv', sep = '\\t')\n",
    "\n",
    "df1 = df1[df1.disease_name.apply(creed_search_criteria)]"
   ]
  },
  {
   "cell_type": "code",
   "execution_count": 7,
   "metadata": {
    "collapsed": false,
    "scrolled": false
   },
   "outputs": [],
   "source": [
    "df1.to_csv('CREED_models.csv', index=False)"
   ]
  },
  {
   "cell_type": "code",
   "execution_count": null,
   "metadata": {
    "collapsed": true
   },
   "outputs": [],
   "source": []
  },
  {
   "cell_type": "code",
   "execution_count": null,
   "metadata": {
    "collapsed": true
   },
   "outputs": [],
   "source": []
  }
 ],
 "metadata": {
  "kernelspec": {
   "display_name": "my_env",
   "language": "python",
   "name": "my_env"
  },
  "language_info": {
   "codemirror_mode": {
    "name": "ipython",
    "version": 2
   },
   "file_extension": ".py",
   "mimetype": "text/x-python",
   "name": "python",
   "nbconvert_exporter": "python",
   "pygments_lexer": "ipython2",
   "version": "2.7.6"
  }
 },
 "nbformat": 4,
 "nbformat_minor": 0
}
