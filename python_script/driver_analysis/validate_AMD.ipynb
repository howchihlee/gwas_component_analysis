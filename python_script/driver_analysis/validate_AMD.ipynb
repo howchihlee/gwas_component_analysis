{
 "cells": [
  {
   "cell_type": "code",
   "execution_count": 1,
   "metadata": {
    "collapsed": false
   },
   "outputs": [],
   "source": [
    "import os\n",
    "import pandas as pd\n",
    "import numpy as np\n",
    "import h5py\n",
    "from collections import Counter\n",
    "try:\n",
    "    import cPickle as pickle\n",
    "except:\n",
    "    import pickle\n",
    "\n",
    "import sys\n",
    "sys.path.append(os.path.abspath('../src'))\n",
    "\n",
    "from enrichment_helper import *\n",
    "\n",
    "from statsmodels.sandbox.stats.multicomp import multipletests\n",
    "from statsmodels.stats.proportion import proportion_confint\n",
    "import scipy.stats as stats\n",
    "\n",
    "import sqlite3\n",
    "with open('../src/ensembl2genename_GRCh38.85.p', 'rb') as reader:\n",
    "    gid2gn = pickle.load(reader)   \n",
    "    \n",
    "  "
   ]
  },
  {
   "cell_type": "code",
   "execution_count": 2,
   "metadata": {
    "collapsed": false
   },
   "outputs": [],
   "source": [
    "selected_phenotype = 'AdvancedAMD_2015'\n",
    "lincs_file = 'CD_signatures/AMD_lincs_l1000.p'\n",
    "fn_out = 'AMD_targets.csv'\n",
    "mgi_search_criteria = lambda x: ('age related macular degeneration' in x.lower())\n",
    "creed_search_criteria = lambda x: 'macular' in x.lower()"
   ]
  },
  {
   "cell_type": "code",
   "execution_count": 3,
   "metadata": {
    "collapsed": false
   },
   "outputs": [
    {
     "name": "stdout",
     "output_type": "stream",
     "text": [
      "age related macular degeneration MGI:98259 True 118\n",
      "age related macular degeneration MGI:1203290 True 12\n",
      "age related macular degeneration MGI:106185 True 113\n",
      "age related macular degeneration 1 MGI:88518 True 22\n",
      "age related macular degeneration 1 MGI:98935 True 56\n",
      "age related macular degeneration 12 MGI:1333815 True 55\n",
      "age related macular degeneration 4 MGI:88385 True 35\n"
     ]
    }
   ],
   "source": [
    "## MGI\n",
    "hg2mg, mg, mg2pheno, pheno, pheno2name = load_mgi('../../../project_wrapup/GSK_project/GWAS_component/data/MGI/')  \n",
    "\n",
    "df = pd.read_csv('../../../project_wrapup/GSK_project/GWAS_component/data/MGI/MGI_DO.rpt', sep = '\\t')\n",
    "\n",
    "dis2pheno = {}\n",
    "for d, m in zip(df['DO Disease Name'], df['Mouse MGI ID']):\n",
    "    if mgi_search_criteria(d) and m != None:\n",
    "        if m in mg:\n",
    "            print d, m, m in mg, len(mg2pheno[m])\n",
    "            dis2pheno[m] = set(mg2pheno[m])\n",
    "        #else:\n",
    "            #print d, m, m in mg"
   ]
  },
  {
   "cell_type": "code",
   "execution_count": 4,
   "metadata": {
    "collapsed": false
   },
   "outputs": [],
   "source": [
    "with open('./gcomp_drive_genes.p', 'rb') as reader:\n",
    "    drivers = set([gid2gn[item[0]] for s, item in pickle.load(reader)[selected_phenotype]])"
   ]
  },
  {
   "cell_type": "code",
   "execution_count": 5,
   "metadata": {
    "collapsed": false
   },
   "outputs": [],
   "source": [
    "#!/usr/bin/env python\n",
    "import pandas\n",
    "import sqlite3\n",
    "\n",
    "connection = sqlite3.connect(\"../../data/gwas_g2p/metaxcan_results_p/metaxcan_results_v1.5.db\")\n",
    "\n",
    "query = 'SELECT g.gene_name, m.zscore, m.n_snps_used, m.n_snps_model, p.tag as phenotype, t.tissue as tissue, g.gene ' \n",
    "query += ' FROM gene AS g INNER JOIN metaxcan_result AS m ON g.id = m.gene_id' \n",
    "query += ' INNER JOIN tissue AS t ON t.id = m.tissue_id  INNER JOIN pheno AS p ON p.id = m.pheno_id'\n",
    "query += ' WHERE p.tag = \\'%s\\'' % selected_phenotype\n",
    "\n",
    "pi = pandas.read_sql_query(query, connection)\n",
    "pi = pi[pi.tissue != 'DGN_WB']\n"
   ]
  },
  {
   "cell_type": "code",
   "execution_count": 6,
   "metadata": {
    "collapsed": false,
    "scrolled": true
   },
   "outputs": [],
   "source": [
    "from scipy.stats import norm \n",
    "import statsmodels.stats.multitest as multi\n",
    "\n",
    "pvals = norm.sf(np.abs(pi.zscore)) * 2\n",
    "_, res_adjp, _, _ = multi.multipletests(pvals)\n"
   ]
  },
  {
   "cell_type": "code",
   "execution_count": 7,
   "metadata": {
    "collapsed": false,
    "scrolled": true
   },
   "outputs": [
    {
     "name": "stdout",
     "output_type": "stream",
     "text": [
      "145\n"
     ]
    }
   ],
   "source": [
    "sgenes = set(pi.gene_name[res_adjp < 0.05])\n",
    "print len(sgenes)"
   ]
  },
  {
   "cell_type": "code",
   "execution_count": 8,
   "metadata": {
    "collapsed": false
   },
   "outputs": [
    {
     "name": "stdout",
     "output_type": "stream",
     "text": [
      "(29, 128, 0.2265625, (0.15404384631292495, 0.29908115368707505))\n"
     ]
    }
   ],
   "source": [
    "mgi_res_meta = mgi_match(sgenes, hg2mg, mg2pheno, dis2pheno, pheno, alpha_sig = (0.05) / float(len(dis2pheno)))\n",
    "mgi_hit_meta = set([g for g, c in mgi_res_meta.items()])\n",
    "n1 = len(mgi_hit_meta)\n",
    "n0 = len([g for g in sgenes if g in hg2mg])\n",
    "print(n1, n0, float(n1) / float(n0), proportion_confint(n1, n0))"
   ]
  },
  {
   "cell_type": "code",
   "execution_count": 9,
   "metadata": {
    "collapsed": false
   },
   "outputs": [
    {
     "name": "stdout",
     "output_type": "stream",
     "text": [
      "(42, 135, 0.3111111111111111, (0.2330178502227221, 0.38920437199950014))\n"
     ]
    }
   ],
   "source": [
    "mgi_res_gc = mgi_match(drivers, hg2mg, mg2pheno, dis2pheno, pheno, alpha_sig = (0.05) / float(len(dis2pheno)))\n",
    "mgi_hit_gc = set([g for g, c in mgi_res_gc.items()])\n",
    "n1 = len(mgi_hit_gc)\n",
    "n0 = len([g for g in drivers if g in hg2mg])\n",
    "print(n1, n0, float(n1) / float(n0), proportion_confint(n1, n0))"
   ]
  },
  {
   "cell_type": "code",
   "execution_count": 10,
   "metadata": {
    "collapsed": false,
    "scrolled": true
   },
   "outputs": [
    {
     "name": "stdout",
     "output_type": "stream",
     "text": [
      "\n",
      "'FAM213A', 'C4A', 'STK19', 'TRIM15', 'TMEM229B', 'RSPH4A', 'CKM', 'CHSY3', \n",
      "'NELFE', 'BOK', 'MYL2', 'TNNC1', 'TNNC2', 'APOC1', 'RASAL1', 'SFTA2', \n",
      "'MICB', 'ADIPOQ', 'PLVAP', 'C7orf61', 'DDX39B', 'MT-ND5', 'MT-ND6', 'DMBT1', \n",
      "'TYROBP', 'LHX9', 'PPT2', 'PRRT1', 'THRB', 'PLEKHH1', 'SLC12A5', 'LAD1', \n",
      "'SPTLC3', 'GPR108', 'RELB', 'RP5-862P8.2', 'FGA', 'FGB', 'IRX2', 'TCAP', \n",
      "'LIPC', 'CETP', 'ARHGEF15', 'SLC38A3', 'SHC3', 'SNTG1', 'ARHGEF19', 'PRRC2A', \n",
      "'HLA-DRB1', 'CRB1', 'TSC22D4', 'AGER', 'LDB3', 'RDH5', 'MEPCE', 'CGNL1', \n",
      "'CSF3R', 'COL11A2', 'PABPC1L2B-AS1', 'BRD2', 'CXCL2', 'LST1', 'RBM47', 'FKBPL', \n",
      "'C1QA', 'NOTCH4', 'MEFV', 'MUC21', 'PLEKHA1', 'LSAMP', 'RNF5', 'TCF19', \n",
      "'SCN3A', 'DDAH2', 'CSF2RB', 'NIT2', 'STMN2', 'ADORA1', 'HLA-B', 'CDKN1A', \n",
      "'CELF3', 'NMRK2', 'KHDRBS3', 'MYO18B', 'ATF6B', 'NRXN1', 'SLC44A4', 'FAM200A', \n",
      "'KLHDC3', 'PKHD1L1', 'SLC9A4', 'NEK7', 'HCG27', 'ABCF1', 'KCNT2', 'PLA2G12A', \n",
      "'APOM', 'ZCWPW1', 'TBC1D23', 'PC', 'PILRB', 'SKIV2L', 'HRH2', 'TTN', \n",
      "'C4B', 'HLA-DQB2', 'TNS2', 'GPANK1', 'CCL22', 'RASGEF1C', 'C6orf47', 'PLCB2', \n",
      "'ZBTB41', 'AGPAT1', 'FOS', 'STAG3', 'EFS', 'TMEM97', 'DSP', 'RND3', \n",
      "'PCAT19', 'HLA-DPA1', 'COL4A4', 'EPS8L1', 'MICA', 'BTNL2', 'BCAR1', 'TYRO3', \n",
      "'MYH7', 'C1orf53', 'EHMT2', 'C10orf88', 'DENND2D', 'CALML3', 'CAMSAP3', 'DDR1', \n",
      "'KCNH8', 'TNFAIP3', 'GPSM3', 'KLHL41', 'TNF', 'ACADSB', 'FLOT1', 'POLDIP2', \n",
      "'SORT1', 'STK39', 'ZNF296', 'RTN4RL1', 'CD74', 'SCN7A', 'MYOM1', 'BAG6', \n",
      "'ALPK3', 'SEC14L2', 'RCAN2', 'ZNF233', 'TNFRSF10A', 'MOG', 'C6orf25', 'LY6G6F', \n",
      "'CDSN', 'IKZF5', 'MESP1', 'BTBD16', 'HTRA1', 'ZBTB12', 'TEK', 'BTG2', \n",
      "'CGN', 'ASPM', 'LY6G6C', 'TPM1', 'VARS2', 'FASN', 'ATE1', 'COL26A1', \n",
      "'C3', 'C2', 'CADM2', 'CUZD1', 'DBNDD2', 'CFHR3', 'ABHD16A', 'HLA-DQB1', \n",
      "'C6orf48', 'F13B', 'ARMS2', 'LAMTOR4', 'CALB2', 'MRPS18B', 'ANO1', 'LTB', \n",
      "'SPDYE3', 'PCIF1', 'C6orf136', 'SLPI', 'XKR4', 'GALNT15', 'C5orf38', 'HSPA1B', \n",
      "'TFR2', 'ATAT1', 'TACC2', 'LRRN4', 'ALB', 'LY6G5C', 'ABCA7', 'ZFP36', \n",
      "'SREBF1', 'COL1A2', 'CLPTM1', 'A2ML1', 'VAMP8', 'FAM89A', 'PILRA', 'CSNK2B', \n",
      "'VARS', 'DCXR', 'CMYA5', 'VPS52', 'MIR133A1HG', 'MSH5', 'ECM1', 'C17orf70', \n",
      "'SLC5A1', 'CFHR1', 'MAP7', 'AACS', 'NLRC5', 'ELF3', 'FAM83F', 'HIST1H2AC', \n",
      "'CEBPA', 'NSMCE4A', 'PTPRF', 'RP6-191P20.4', 'CLIC1', 'ZNF557', 'CFB', 'OSMR', \n",
      "'NFKBIL1', 'VWA7', 'HLA-DQA2', 'ZFP57', 'PACSIN1', 'HEXDC', 'ABCC9', 'ALDH3B2', \n",
      "'BEX5', 'CCHCR1', 'RAC3', 'PIGH', 'CYP21A2', 'HOOK1', 'NCR3', 'HLA-DRA', \n",
      "'LSM2', 'FCGR2A', 'CPLX2', 'HRASLS5', 'PRKCZ', 'POU5F1', 'IL33', 'TMEM199', \n",
      "'DENND1C', 'DENND1B', 'NAT8L', 'CACNG2', 'NPM2', 'CASP6', 'ACTN2', 'MYH7B', \n",
      "'CFH', 'CFI', 'GULP1', 'C3AR1', 'PBX2', 'HLA-DQA1', 'DXO', 'DYNC1I1', \n",
      "'NEU1', 'GNA15', 'NYAP1', 'SIGLEC9', 'KLHDC8A', 'ATP6V0E2', 'HLA-DMA', 'FOLR1', \n"
     ]
    }
   ],
   "source": [
    "s = ''\n",
    "for i, g in enumerate(drivers | sgenes):\n",
    "    if (i % 8) == 0:\n",
    "        print(s)\n",
    "        s = ''\n",
    "    s += '\\'%s\\', ' % g"
   ]
  },
  {
   "cell_type": "code",
   "execution_count": 11,
   "metadata": {
    "collapsed": false
   },
   "outputs": [
    {
     "name": "stdout",
     "output_type": "stream",
     "text": [
      "(1, 978)\n"
     ]
    }
   ],
   "source": [
    "## Lincs 1000\n",
    "df0 = pd.read_csv('../../../data/CREED/Disease_entire_exp_landmark.tsv.gz', sep = '\\t')\n",
    "df1 = pd.read_csv('../../../data/CREED/Disease_signatures_info_data.tsv', sep = '\\t')\n",
    "\n",
    "ind = [d0 for d0, d1 in zip(df1.id, df1.disease_name) if creed_search_criteria(d1)]\n",
    "dis = df0[ind].values.T\n",
    "dis = dis / np.linalg.norm(dis, axis = 1, keepdims=True)\n",
    "print dis.shape"
   ]
  },
  {
   "cell_type": "code",
   "execution_count": 12,
   "metadata": {
    "collapsed": true
   },
   "outputs": [],
   "source": [
    "with open('CD_signatures/REF_lincs_l1000.p', 'rb') as f:\n",
    "    res = pickle.load(f)\n",
    "\n",
    "cd_ref = np.vstack([item[u'chdirLm'] for item in res]) \n",
    "cd_ref /= (np.sqrt(np.sum(cd_ref **2, axis = 1)) + 1e-5)[:, np.newaxis]\n",
    "\n",
    "with open(lincs_file, 'rb') as f:\n",
    "    res_shrna = pickle.load(f)"
   ]
  },
  {
   "cell_type": "code",
   "execution_count": 13,
   "metadata": {
    "collapsed": false
   },
   "outputs": [
    {
     "name": "stdout",
     "output_type": "stream",
     "text": [
      "(5, 54, 0.09259259259259259, (0.01528173453074011, 0.16990345065444507))\n"
     ]
    }
   ],
   "source": [
    "lincs_res_meta = lincs_match(sgenes, res_shrna, dis, cd_ref, alpha_sig = 0.05)\n",
    "lincs_hit_meta = set([g for g, item in lincs_res_meta.items() if item[0] > 0])\n",
    "n1 = len(lincs_hit_meta)\n",
    "n0 = len(lincs_res_meta)\n",
    "print(n1, n0, float(n1) / float(n0), proportion_confint(n1, n0))"
   ]
  },
  {
   "cell_type": "code",
   "execution_count": 14,
   "metadata": {
    "collapsed": false
   },
   "outputs": [
    {
     "name": "stdout",
     "output_type": "stream",
     "text": [
      "(3, 51, 0.058823529411764705, (-0.005752906657967544, 0.12339996548149695))\n"
     ]
    }
   ],
   "source": [
    "lincs_res_gc = lincs_match(drivers, res_shrna, dis, cd_ref, alpha_sig = 0.05)\n",
    "lincs_hit_gc = set([g for g, item in lincs_res_gc .items() if item[0] > 0])\n",
    "n1 = len(lincs_hit_gc)\n",
    "n0 = len(lincs_res_gc)\n",
    "print(n1, n0, float(n1) / float(n0), proportion_confint(n1, n0))"
   ]
  },
  {
   "cell_type": "code",
   "execution_count": 15,
   "metadata": {
    "collapsed": true
   },
   "outputs": [],
   "source": [
    "id2gene = sorted( drivers | sgenes)"
   ]
  },
  {
   "cell_type": "code",
   "execution_count": 16,
   "metadata": {
    "collapsed": true
   },
   "outputs": [],
   "source": [
    "mgi_genes = set([g for g in (drivers|sgenes) if g in hg2mg])\n",
    "mgi_hits = (mgi_hit_gc | mgi_hit_meta)\n",
    "lincs_genes =  (set(lincs_res_gc) | set(lincs_res_meta))\n",
    "lincs_hits = (lincs_hit_gc | lincs_hit_meta)"
   ]
  },
  {
   "cell_type": "code",
   "execution_count": 17,
   "metadata": {
    "collapsed": false
   },
   "outputs": [],
   "source": [
    "df_res = []\n",
    "for item in [drivers, sgenes, lincs_hits, lincs_genes, mgi_hits, mgi_genes]:\n",
    "    vec = [int(g in item) for g in id2gene]\n",
    "    df_res.append(vec)\n",
    "df_res = pd.DataFrame(df_res).T"
   ]
  },
  {
   "cell_type": "code",
   "execution_count": 18,
   "metadata": {
    "collapsed": false
   },
   "outputs": [],
   "source": [
    "df_res.columns = ['genes_selected_by_GCA+BNs', 'genes_selected_by_metaxcan', \n",
    "                  'LINCS_hit', 'genes_found_in_LINCS', 'MGI_hit', 'genes_found_in_MGI']\n",
    "df_res.index = id2gene\n",
    "\n",
    "df_res.to_csv(fn_out)"
   ]
  },
  {
   "cell_type": "code",
   "execution_count": null,
   "metadata": {
    "collapsed": true
   },
   "outputs": [],
   "source": []
  },
  {
   "cell_type": "code",
   "execution_count": null,
   "metadata": {
    "collapsed": true
   },
   "outputs": [],
   "source": []
  }
 ],
 "metadata": {
  "kernelspec": {
   "display_name": "my_env",
   "language": "python",
   "name": "my_env"
  },
  "language_info": {
   "codemirror_mode": {
    "name": "ipython",
    "version": 2
   },
   "file_extension": ".py",
   "mimetype": "text/x-python",
   "name": "python",
   "nbconvert_exporter": "python",
   "pygments_lexer": "ipython2",
   "version": "2.7.6"
  }
 },
 "nbformat": 4,
 "nbformat_minor": 1
}
