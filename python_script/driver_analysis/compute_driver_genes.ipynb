{
 "cells": [
  {
   "cell_type": "code",
   "execution_count": 1,
   "metadata": {
    "collapsed": false
   },
   "outputs": [],
   "source": [
    "import os\n",
    "import pandas as pd\n",
    "import numpy as np\n",
    "from collections import Counter\n",
    "import pickle\n",
    "\n",
    "import sys\n",
    "sys.path.append(os.path.abspath('../../'))\n",
    "\n",
    "\n",
    "with open('../../processed_data/selected_phenotypes.txt', 'rb') as reader:\n",
    "    id2ph = [i.strip() for i in reader.readlines()]\n",
    "    \n",
    "with open('../src/ensembl2genename_GRCh38.85.p', 'rb') as reader:\n",
    "    gid2gn = pickle.load(reader)"
   ]
  },
  {
   "cell_type": "code",
   "execution_count": 2,
   "metadata": {
    "collapsed": true
   },
   "outputs": [],
   "source": [
    "try:\n",
    "    import cPickle as pickle\n",
    "except:\n",
    "    import pickle"
   ]
  },
  {
   "cell_type": "code",
   "execution_count": 3,
   "metadata": {
    "collapsed": true
   },
   "outputs": [],
   "source": [
    "folder_to_data = '../../data/'"
   ]
  },
  {
   "cell_type": "code",
   "execution_count": 4,
   "metadata": {
    "collapsed": true
   },
   "outputs": [],
   "source": [
    "#!/usr/bin/env python\n",
    "import pandas\n",
    "import sqlite3\n",
    "from scipy.stats import norm \n",
    "import statsmodels.stats.multitest as multi"
   ]
  },
  {
   "cell_type": "code",
   "execution_count": 5,
   "metadata": {
    "collapsed": true
   },
   "outputs": [],
   "source": [
    "import gwas_component.gwas_component as gc"
   ]
  },
  {
   "cell_type": "code",
   "execution_count": 6,
   "metadata": {
    "collapsed": false
   },
   "outputs": [],
   "source": [
    "connection = sqlite3.connect(folder_to_data + \"/gwas_g2p/metaxcan_results_p/metaxcan_results_v1.5.db\")\n",
    "res_all = {}\n",
    "\n",
    "for phenotype in id2ph:\n",
    "    res_all[phenotype] = []\n",
    "    \n",
    "    query = 'SELECT g.gene_name, m.zscore, m.n_snps_used, m.n_snps_model, p.tag as phenotype, t.tissue as tissue, g.gene ' \n",
    "    query += ' FROM gene AS g INNER JOIN metaxcan_result AS m ON g.id = m.gene_id' \n",
    "    query += ' INNER JOIN tissue AS t ON t.id = m.tissue_id  INNER JOIN pheno AS p ON p.id = m.pheno_id'\n",
    "    query += ' WHERE p.tag = \\'%s\\'' % phenotype\n",
    "    pi = pandas.read_sql_query(query, connection)\n",
    "    pi = pi[pi.tissue != 'DGN_WB']\n",
    "\n",
    "    id2tissue = sorted(set(pi.tissue))\n",
    "\n",
    "    for tissue, item0 in pi.groupby('tissue'):\n",
    "        tissue0 = tissue.replace('-', '_')\n",
    "        \n",
    "        gene2z = {g:z for g, z in zip(item0.gene, item0.zscore)}  \n",
    "            \n",
    "        ## gwas component score\n",
    "        gc_model = gc.Coexpression_Model(tissue0)\n",
    "        gc_model.compute_z(gene2z)\n",
    "        \n",
    "        drgenes = gc_model.get_driver_genes()\n",
    "        res_all[phenotype] += drgenes\n",
    "        \n",
    "with open('./gcomp_drive_genes.p', 'wb') as writer:\n",
    "    pickle.dump(res_all, writer)\n",
    "    "
   ]
  }
 ],
 "metadata": {
  "kernelspec": {
   "display_name": "my_env",
   "language": "python",
   "name": "my_env"
  },
  "language_info": {
   "codemirror_mode": {
    "name": "ipython",
    "version": 2
   },
   "file_extension": ".py",
   "mimetype": "text/x-python",
   "name": "python",
   "nbconvert_exporter": "python",
   "pygments_lexer": "ipython2",
   "version": "2.7.6"
  }
 },
 "nbformat": 4,
 "nbformat_minor": 1
}
