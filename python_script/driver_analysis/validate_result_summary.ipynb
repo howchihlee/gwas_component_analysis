{
 "cells": [
  {
   "cell_type": "code",
   "execution_count": 1,
   "metadata": {
    "collapsed": true
   },
   "outputs": [],
   "source": [
    "import pandas as pd"
   ]
  },
  {
   "cell_type": "code",
   "execution_count": 31,
   "metadata": {
    "collapsed": false
   },
   "outputs": [
    {
     "name": "stdout",
     "output_type": "stream",
     "text": [
      "AMD 147\n",
      "CD 47\n",
      "UC 103\n",
      "RA 158\n"
     ]
    },
    {
     "data": {
      "text/html": [
       "<div>\n",
       "<table border=\"1\" class=\"dataframe\">\n",
       "  <thead>\n",
       "    <tr style=\"text-align: right;\">\n",
       "      <th></th>\n",
       "      <th>AMD_not_hit</th>\n",
       "      <th>AMD_hit</th>\n",
       "      <th>CD_not_hit</th>\n",
       "      <th>CD_hit</th>\n",
       "      <th>UC_not_hit</th>\n",
       "      <th>UC_hit</th>\n",
       "      <th>RA_not_hit</th>\n",
       "      <th>RA_hit</th>\n",
       "    </tr>\n",
       "  </thead>\n",
       "  <tbody>\n",
       "    <tr>\n",
       "      <th>LINCS</th>\n",
       "      <td>48</td>\n",
       "      <td>3</td>\n",
       "      <td>12</td>\n",
       "      <td>2</td>\n",
       "      <td>35</td>\n",
       "      <td>6</td>\n",
       "      <td>35</td>\n",
       "      <td>17</td>\n",
       "    </tr>\n",
       "    <tr>\n",
       "      <th>MGI</th>\n",
       "      <td>93</td>\n",
       "      <td>42</td>\n",
       "      <td>31</td>\n",
       "      <td>15</td>\n",
       "      <td>62</td>\n",
       "      <td>35</td>\n",
       "      <td>75</td>\n",
       "      <td>73</td>\n",
       "    </tr>\n",
       "  </tbody>\n",
       "</table>\n",
       "</div>"
      ],
      "text/plain": [
       "       AMD_not_hit  AMD_hit  CD_not_hit  CD_hit  UC_not_hit  UC_hit  \\\n",
       "LINCS           48        3          12       2          35       6   \n",
       "MGI             93       42          31      15          62      35   \n",
       "\n",
       "       RA_not_hit  RA_hit  \n",
       "LINCS          35      17  \n",
       "MGI            75      73  "
      ]
     },
     "execution_count": 31,
     "metadata": {},
     "output_type": "execute_result"
    }
   ],
   "source": [
    "res_all = []\n",
    "id2ph = ['AMD', 'CD', 'UC', 'RA']\n",
    "\n",
    "for p in id2ph:\n",
    "    df = pd.read_csv('%s_targets.csv' % p, index_col=0)\n",
    "    tmp = df[df['genes_selected_by_GCA+BNs'] == 1]\n",
    "    print p, tmp.shape[0]\n",
    "    res = pd.concat([pd.crosstab(tmp.LINCS_hit, tmp.genes_found_in_LINCS)[1], \n",
    "                     pd.crosstab(tmp.MGI_hit, tmp.genes_found_in_MGI)[1]], axis = 1)\n",
    "    res.columns = ['LINCS', 'MGI']\n",
    "    res.index = ['%s_not_hit' % p, '%s_hit' % p]\n",
    "    res_all.append(res)\n",
    "pd.concat(res_all, axis = 0).T"
   ]
  },
  {
   "cell_type": "code",
   "execution_count": 28,
   "metadata": {
    "collapsed": false
   },
   "outputs": [
    {
     "data": {
      "text/html": [
       "<div>\n",
       "<table border=\"1\" class=\"dataframe\">\n",
       "  <thead>\n",
       "    <tr style=\"text-align: right;\">\n",
       "      <th></th>\n",
       "      <th>AMD_not_hit</th>\n",
       "      <th>AMD_hit</th>\n",
       "      <th>CD_not_hit</th>\n",
       "      <th>CD_hit</th>\n",
       "      <th>UC_not_hit</th>\n",
       "      <th>UC_hit</th>\n",
       "      <th>RA_not_hit</th>\n",
       "      <th>RA_hit</th>\n",
       "    </tr>\n",
       "  </thead>\n",
       "  <tbody>\n",
       "    <tr>\n",
       "      <th>LINCS</th>\n",
       "      <td>49</td>\n",
       "      <td>5</td>\n",
       "      <td>56</td>\n",
       "      <td>18</td>\n",
       "      <td>51</td>\n",
       "      <td>7</td>\n",
       "      <td>71</td>\n",
       "      <td>22</td>\n",
       "    </tr>\n",
       "    <tr>\n",
       "      <th>MGI</th>\n",
       "      <td>99</td>\n",
       "      <td>29</td>\n",
       "      <td>86</td>\n",
       "      <td>50</td>\n",
       "      <td>76</td>\n",
       "      <td>28</td>\n",
       "      <td>149</td>\n",
       "      <td>57</td>\n",
       "    </tr>\n",
       "  </tbody>\n",
       "</table>\n",
       "</div>"
      ],
      "text/plain": [
       "       AMD_not_hit  AMD_hit  CD_not_hit  CD_hit  UC_not_hit  UC_hit  \\\n",
       "LINCS           49        5          56      18          51       7   \n",
       "MGI             99       29          86      50          76      28   \n",
       "\n",
       "       RA_not_hit  RA_hit  \n",
       "LINCS          71      22  \n",
       "MGI           149      57  "
      ]
     },
     "execution_count": 28,
     "metadata": {},
     "output_type": "execute_result"
    }
   ],
   "source": [
    "res_all = []\n",
    "id2ph = ['AMD', 'CD', 'UC', 'RA']\n",
    "\n",
    "for p in id2ph:\n",
    "    df = pd.read_csv('%s_targets.csv' % p, index_col=0)\n",
    "    tmp = df[df['genes_selected_by_metaxcan'] == 1]\n",
    "    res = pd.concat([pd.crosstab(tmp.LINCS_hit, tmp.genes_found_in_LINCS)[1], \n",
    "                     pd.crosstab(tmp.MGI_hit, tmp.genes_found_in_MGI)[1]], axis = 1)\n",
    "    res.columns = ['LINCS', 'MGI']\n",
    "    res.index = ['%s_not_hit' % p, '%s_hit' % p]\n",
    "    res_all.append(res)\n",
    "pd.concat(res_all, axis = 0).T"
   ]
  },
  {
   "cell_type": "code",
   "execution_count": null,
   "metadata": {
    "collapsed": true
   },
   "outputs": [],
   "source": []
  }
 ],
 "metadata": {
  "kernelspec": {
   "display_name": "Python 2",
   "language": "python",
   "name": "python2"
  },
  "language_info": {
   "codemirror_mode": {
    "name": "ipython",
    "version": 2
   },
   "file_extension": ".py",
   "mimetype": "text/x-python",
   "name": "python",
   "nbconvert_exporter": "python",
   "pygments_lexer": "ipython2",
   "version": "2.7.6"
  }
 },
 "nbformat": 4,
 "nbformat_minor": 0
}
