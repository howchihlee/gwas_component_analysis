{
 "cells": [
  {
   "cell_type": "code",
   "execution_count": 1,
   "metadata": {
    "collapsed": false
   },
   "outputs": [],
   "source": [
    "import os\n",
    "import pandas as pd\n",
    "import numpy as np\n",
    "import h5py\n",
    "from collections import Counter\n",
    "try:\n",
    "    import cPickle as pickle\n",
    "except:\n",
    "    import pickle\n",
    "\n",
    "import sys\n",
    "sys.path.append(os.path.abspath('../src'))\n",
    "\n",
    "from enrichment_helper import *\n",
    "\n",
    "from statsmodels.sandbox.stats.multicomp import multipletests\n",
    "from statsmodels.stats.proportion import proportion_confint\n",
    "import scipy.stats as stats\n",
    "\n",
    "import sqlite3\n",
    "with open('../src/ensembl2genename_GRCh38.85.p', 'rb') as reader:\n",
    "    gid2gn = pickle.load(reader)   \n",
    "    \n",
    "  "
   ]
  },
  {
   "cell_type": "code",
   "execution_count": 2,
   "metadata": {
    "collapsed": false
   },
   "outputs": [],
   "source": [
    "selected_phenotype = 'RA_OKADA_TRANS_ETHNIC'\n",
    "lincs_file = 'CD_signatures/RA_lincs_l1000.p'\n",
    "fn_out = 'RA_targets.csv'\n",
    "mgi_search_criteria = lambda x: 'rheumatoid arthritis' in x.lower()\n",
    "creed_search_criteria = lambda x: 'rheumatoid' in x.lower()"
   ]
  },
  {
   "cell_type": "code",
   "execution_count": 3,
   "metadata": {
    "collapsed": false
   },
   "outputs": [
    {
     "name": "stdout",
     "output_type": "stream",
     "text": [
      "rheumatoid arthritis MGI:104798 True 221\n",
      "rheumatoid arthritis MGI:1329019 True 32\n",
      "rheumatoid arthritis MGI:99180 True 52\n",
      "rheumatoid arthritis MGI:101900 True 142\n",
      "rheumatoid arthritis MGI:99613 True 59\n",
      "rheumatoid arthritis MGI:96560 True 165\n"
     ]
    }
   ],
   "source": [
    "## MGI\n",
    "hg2mg, mg, mg2pheno, pheno, pheno2name = load_mgi('../../../project_wrapup/GSK_project/GWAS_component/data/MGI/')  \n",
    "\n",
    "df = pd.read_csv('../../../project_wrapup/GSK_project/GWAS_component/data/MGI/MGI_DO.rpt', sep = '\\t')\n",
    "\n",
    "dis2pheno = {}\n",
    "for d, m in zip(df['DO Disease Name'], df['Mouse MGI ID']):\n",
    "    if mgi_search_criteria(d) and m != None:\n",
    "        if m in mg:\n",
    "            print d, m, m in mg, len(mg2pheno[m])\n",
    "            dis2pheno[m] = set(mg2pheno[m])\n",
    "        #else:\n",
    "            #print d, m, m in mg"
   ]
  },
  {
   "cell_type": "code",
   "execution_count": 4,
   "metadata": {
    "collapsed": false
   },
   "outputs": [],
   "source": [
    "with open('./gcomp_drive_genes.p', 'rb') as reader:\n",
    "    drivers = set([gid2gn[item[0]] for s, item in pickle.load(reader)[selected_phenotype]])"
   ]
  },
  {
   "cell_type": "code",
   "execution_count": 5,
   "metadata": {
    "collapsed": false
   },
   "outputs": [],
   "source": [
    "#!/usr/bin/env python\n",
    "import pandas\n",
    "import sqlite3\n",
    "\n",
    "connection = sqlite3.connect(\"../../data/gwas_g2p/metaxcan_results_p/metaxcan_results_v1.5.db\")\n",
    "\n",
    "query = 'SELECT g.gene_name, m.zscore, m.n_snps_used, m.n_snps_model, p.tag as phenotype, t.tissue as tissue, g.gene ' \n",
    "query += ' FROM gene AS g INNER JOIN metaxcan_result AS m ON g.id = m.gene_id' \n",
    "query += ' INNER JOIN tissue AS t ON t.id = m.tissue_id  INNER JOIN pheno AS p ON p.id = m.pheno_id'\n",
    "query += ' WHERE p.tag = \\'%s\\'' % selected_phenotype\n",
    "\n",
    "pi = pandas.read_sql_query(query, connection)\n",
    "pi = pi[pi.tissue != 'DGN_WB']\n"
   ]
  },
  {
   "cell_type": "code",
   "execution_count": 6,
   "metadata": {
    "collapsed": false,
    "scrolled": true
   },
   "outputs": [],
   "source": [
    "from scipy.stats import norm \n",
    "import statsmodels.stats.multitest as multi\n",
    "\n",
    "pvals = norm.sf(np.abs(pi.zscore)) * 2\n",
    "_, res_adjp, _, _ = multi.multipletests(pvals)\n"
   ]
  },
  {
   "cell_type": "code",
   "execution_count": 7,
   "metadata": {
    "collapsed": false,
    "scrolled": true
   },
   "outputs": [
    {
     "name": "stdout",
     "output_type": "stream",
     "text": [
      "232\n"
     ]
    }
   ],
   "source": [
    "sgenes = set(pi.gene_name[res_adjp < 0.05])\n",
    "print len(sgenes)"
   ]
  },
  {
   "cell_type": "code",
   "execution_count": 8,
   "metadata": {
    "collapsed": false
   },
   "outputs": [
    {
     "name": "stdout",
     "output_type": "stream",
     "text": [
      "(57, 206, 0.2766990291262136, (0.21560794636570374, 0.3377901118867234))\n"
     ]
    }
   ],
   "source": [
    "mgi_res_meta = mgi_match(sgenes, hg2mg, mg2pheno, dis2pheno, pheno, alpha_sig = (0.05) / float(len(dis2pheno)))\n",
    "mgi_hit_meta = set([g for g, c in mgi_res_meta.items()])\n",
    "n1 = len(mgi_hit_meta)\n",
    "n0 = len([g for g in sgenes if g in hg2mg])\n",
    "print(n1, n0, float(n1) / float(n0), proportion_confint(n1, n0))"
   ]
  },
  {
   "cell_type": "code",
   "execution_count": 9,
   "metadata": {
    "collapsed": false
   },
   "outputs": [
    {
     "name": "stdout",
     "output_type": "stream",
     "text": [
      "(73, 148, 0.49324324324324326, (0.4126965752141444, 0.5737899112723421))\n"
     ]
    }
   ],
   "source": [
    "mgi_res_gc = mgi_match(drivers, hg2mg, mg2pheno, dis2pheno, pheno, alpha_sig = (0.05) / float(len(dis2pheno)))\n",
    "mgi_hit_gc = set([g for g, c in mgi_res_gc.items()])\n",
    "n1 = len(mgi_hit_gc)\n",
    "n0 = len([g for g in drivers if g in hg2mg])\n",
    "print(n1, n0, float(n1) / float(n0), proportion_confint(n1, n0))"
   ]
  },
  {
   "cell_type": "code",
   "execution_count": 10,
   "metadata": {
    "collapsed": false,
    "scrolled": true
   },
   "outputs": [
    {
     "name": "stdout",
     "output_type": "stream",
     "text": [
      "\n",
      "'TAP1', 'PGAP3', 'TAP2', 'C6orf25', 'TBX21', 'HIST1H4J', 'HIST1H4H', 'CPE', \n",
      "'NELFE', 'ST7L', 'HIPK1', 'MFAP4', 'MYL2', 'SFTA2', 'LEMD2', 'KIF2C', \n",
      "'DCN', 'COL11A2', 'C6orf123', 'TYROBP', 'GSDMB', 'CKM', 'SKIV2L', 'MAGI3', \n",
      "'DLGAP5', 'PRKG1', 'B3GALT4', 'HLA-DPB1', 'ARHGEF19', 'TRIM26', 'HLA-DQB2', 'ZNRD1', \n",
      "'PAPPA', 'PCOLCE', 'CSF3R', 'PRRT1', 'CYP4X1', 'BRD2', 'INPP5B', 'CNN1', \n",
      "'ORMDL3', 'LST1', 'FKBPL', 'BAK1', 'C2ORF15', 'ZBTB22', 'DHX16', 'ZSCAN12', \n",
      "'TCF19', 'CD3E', 'ZSCAN16', 'LRRN4', 'ATP2A1', 'CTLA4', 'ANO5', 'CDKN1A', \n",
      "'ANO1', 'PHF1', 'UHRF1BP1', 'GABBR1', 'AP4B1', 'C6orf10', 'IFIT1', 'SLC9A4', \n",
      "'DAXX', 'HCG27', 'PPP1R1B', 'WDR46', 'APOM', 'AFF3', 'PAM', 'RAPH1', \n",
      "'HLA-DQB1', 'C4A', 'C4B', 'HRH1', 'C6orf15', 'MRGPRF-AS1', 'PLCB2', 'HLA-DOB', \n",
      "'GBP5', 'PPP1R11', 'STEAP1', 'COL4A1', 'GIMAP4', 'PPP1R18', 'BTNL2', 'PKNOX2', \n",
      "'SLC39A7', 'ITGAX', 'PPP1R10', 'CDHR1', 'DDR1', 'KCNH8', 'RING1', 'CSNK2B', \n",
      "'MELK', 'FLOT1', 'TTC34', 'SORT1', 'NOV', 'MOG', 'LCK', 'CD19', \n",
      "'BAG6', 'BLK', 'ZNF311', 'NBPF1', 'CD6', 'MMEL1', 'KRT7', 'CDSN', \n",
      "'OR2H2', 'RNASET2', 'PADI2', 'CD79A', 'TLL2', 'SPI1', 'NUSAP1', 'PCOLCE-AS1', \n",
      "'ZC3H10', 'LINC00507', 'LY6G6D', 'LY6G6F', 'UTP11L', 'VARS2', 'C3', 'C2', \n",
      "'PUS10', 'RPS26', 'RPS18', 'POU5F1', 'MCAM', 'LTB', 'ADGRL4', 'ADGRL2', \n",
      "'GPR63', 'CD8A', 'SLPI', 'IL2RB', 'GALNT15', 'ETV7', 'LSP1', 'KCNJ8', \n",
      "'RARRES2', 'IL6', 'HLA-DOA', 'AGPAT1', 'ZPBP2', 'TMEM151B', 'GPSM3', 'ERBB2', \n",
      "'EFHD1', 'CUTA', 'VARS', 'PSMD5', 'FCGR3A', 'ECM1', 'PTPRZ1', 'ERG', \n",
      "'C6orf47', 'COL4A2-AS1', 'DCLRE1B', 'BIN2', 'PTPN22', 'HLA-DRA', 'DYNC1I1', 'NAP1L3', \n",
      "'HSD17B8', 'CDCA5', 'AARS2', 'SUOX', 'STK19', 'PSORS1C2', 'SLC44A4', 'MDC1', \n",
      "'NCR3', 'CD40', 'IL34', 'FGFR1OP', 'IL33', 'LCP2', 'LCP1', 'SASH3', \n",
      "'SOX21', 'RASGRP1', 'CFI', 'CFB', 'IER2', 'GGNBP1', 'RDH16', 'RND3', \n",
      "'PNMT', 'COL6A1', 'ATF6B', 'BCL6', 'HLA-DMB', 'HLA-DQA1', 'HLA-DQA2', 'HLA-DMA', \n",
      "'FAM213B', 'TRIM15', 'TIMP1', 'FXYD1', 'GPANK1', 'MUC22', 'MUC21', 'PKP3', \n",
      "'NOTCH4', 'RASAL1', 'FBLN1', 'MICB', 'MICA', 'TTC9B', 'GNL1', 'DDX39B', \n",
      "'MT-ND5', 'MT-ND6', 'ADAMTS2', 'PPT2', 'ADAMTS9', 'RSBN1', 'MAS1L', 'TRNP1', \n",
      "'PSORS1C1', 'VWA7', 'PRRC2A', 'HLA-DRB1', 'COG6', 'HLA-DRB5', 'TAPBP', 'CGNL1', \n",
      "'IP6K3', 'KIFC1', 'BMP7', 'TREH', 'BRSK2', 'ROBO4', 'C1QA', 'CSF3', \n",
      "'UBD', 'ADGRG6', 'MEFV', 'ZKSCAN4', 'STC1', 'RNF5', 'DDAH2', 'UQCC2', \n",
      "'STMN4', 'TRIM39', 'CCR6', 'TRAF1', 'HLA-C', 'ZWINT', 'HLA-A', 'OLFML3', \n",
      "'HLA-G', 'HLA-F', 'USHBP1', 'MED1', 'SYT6', 'MT1X', 'LYG2', 'ASXL3', \n",
      "'NKAPL', 'TNXB', 'SAMD5', 'GUCY1A2', 'LRRTM1', 'TACSTD2', 'TOP2A', 'ZNF184', \n",
      "'SH2D5', 'ZBTB12', 'PHTF1', 'TCTE1', 'RNF40', 'HIST1H2BE', 'HIST1H2BG', 'STARD3', \n",
      "'MMD2', 'ITPR3', 'HIST1H2BN', 'TRIM40', 'C6orf48', 'TUBAL3', 'LRIG2', 'IRF5', \n",
      "'PGBD1', 'TNFAIP3', 'CDC20', 'MGAT3', 'VPS52', 'AIF1', 'PADI4', 'CD74', \n",
      "'PDGFRA', 'LY6G6C', 'ALPK3', 'EHMT2', 'ACR', 'SPRY1', 'HMGN4', 'IKZF4', \n",
      "'IKZF1', 'TNPO3', 'TEK', 'MYH7', 'MECOM', 'FAM167A', 'AGER', 'TPM1', \n",
      "'HLA-B', 'BDH1', 'TRIM31', 'HAS2', 'ABHD16A', 'CLIC1', 'ZGLP1', 'MRPS18B', \n",
      "'SLCO1A2', 'C6orf136', 'MAPK8IP1', 'SYNGR1', 'RGL2', 'LY6G5C', 'SLC16A1', 'ZFP36', \n",
      "'PSMB9', 'PSMB8', 'HLA-DPA1', 'LPAR1', 'NEU1', 'CD53', 'JUNB', 'MSH5', \n",
      "'RUNDC3A', 'HSPA1B', 'CD247', 'HIST1H2AK', 'RNF39', 'SOX2', 'ZC3H12A', 'IER3', \n",
      "'P2RX5', 'FAM83F', 'HIST1H2AC', 'HSPA1L', 'UBASH3A', 'PFDN6', 'CBL', 'OSMR', \n",
      "'PKHD1L1', 'NFKBIL1', 'MSX1', 'FCRL3', 'PACSIN1', 'LINC01532', 'BEX5', 'CCHCR1', \n",
      "'BEX1', 'CYP21A2', 'ZBTB9', 'MLN', 'CROCC', 'LSM2', 'GTF2H4', 'SYNGAP1', \n",
      "'TNF', 'RXRB', 'TNC', 'SNRPC', 'LINC00494', 'PBX2', 'NPM2', 'CCNB2', \n"
     ]
    }
   ],
   "source": [
    "s = ''\n",
    "for i, g in enumerate(drivers | sgenes):\n",
    "    if (i % 8) == 0:\n",
    "        print(s)\n",
    "        s = ''\n",
    "    s += '\\'%s\\', ' % g"
   ]
  },
  {
   "cell_type": "code",
   "execution_count": 12,
   "metadata": {
    "collapsed": false
   },
   "outputs": [
    {
     "name": "stdout",
     "output_type": "stream",
     "text": [
      "(7, 978)\n"
     ]
    }
   ],
   "source": [
    "## Lincs 1000\n",
    "df0 = pd.read_csv('../../../data/CREED/Disease_entire_exp_landmark.tsv.gz', sep = '\\t')\n",
    "df1 = pd.read_csv('../../../data/CREED/Disease_signatures_info_data.tsv', sep = '\\t')\n",
    "\n",
    "ind = [d0 for d0, d1 in zip(df1.id, df1.disease_name) if creed_search_criteria(d1)]\n",
    "dis = df0[ind].values.T\n",
    "dis = dis / np.linalg.norm(dis, axis = 1, keepdims=True)\n",
    "print dis.shape"
   ]
  },
  {
   "cell_type": "code",
   "execution_count": 13,
   "metadata": {
    "collapsed": true
   },
   "outputs": [],
   "source": [
    "with open('CD_signatures/REF_lincs_l1000.p', 'rb') as f:\n",
    "    res = pickle.load(f)\n",
    "\n",
    "cd_ref = np.vstack([item[u'chdirLm'] for item in res]) \n",
    "cd_ref /= (np.sqrt(np.sum(cd_ref **2, axis = 1)) + 1e-5)[:, np.newaxis]\n",
    "\n",
    "with open(lincs_file, 'rb') as f:\n",
    "    res_shrna = pickle.load(f)"
   ]
  },
  {
   "cell_type": "code",
   "execution_count": 14,
   "metadata": {
    "collapsed": false
   },
   "outputs": [
    {
     "name": "stdout",
     "output_type": "stream",
     "text": [
      "(22, 93, 0.23655913978494625, (0.1501888885343538, 0.3229293910355387))\n"
     ]
    }
   ],
   "source": [
    "lincs_res_meta = lincs_match(sgenes, res_shrna, dis, cd_ref, alpha_sig = 0.05)\n",
    "lincs_hit_meta = set([g for g, item in lincs_res_meta.items() if item[0] > 0])\n",
    "n1 = len(lincs_hit_meta)\n",
    "n0 = len(lincs_res_meta)\n",
    "print(n1, n0, float(n1) / float(n0), proportion_confint(n1, n0))"
   ]
  },
  {
   "cell_type": "code",
   "execution_count": 15,
   "metadata": {
    "collapsed": false
   },
   "outputs": [
    {
     "name": "stdout",
     "output_type": "stream",
     "text": [
      "(17, 52, 0.3269230769230769, (0.1994256094147095, 0.45442054443144436))\n"
     ]
    }
   ],
   "source": [
    "lincs_res_gc = lincs_match(drivers, res_shrna, dis, cd_ref, alpha_sig = 0.05)\n",
    "lincs_hit_gc = set([g for g, item in lincs_res_gc .items() if item[0] > 0])\n",
    "n1 = len(lincs_hit_gc)\n",
    "n0 = len(lincs_res_gc)\n",
    "print(n1, n0, float(n1) / float(n0), proportion_confint(n1, n0))"
   ]
  },
  {
   "cell_type": "code",
   "execution_count": 16,
   "metadata": {
    "collapsed": true
   },
   "outputs": [],
   "source": [
    "id2gene = sorted( drivers | sgenes)"
   ]
  },
  {
   "cell_type": "code",
   "execution_count": 17,
   "metadata": {
    "collapsed": true
   },
   "outputs": [],
   "source": [
    "mgi_genes = set([g for g in (drivers|sgenes) if g in hg2mg])\n",
    "mgi_hits = (mgi_hit_gc | mgi_hit_meta)\n",
    "lincs_genes =  (set(lincs_res_gc) | set(lincs_res_meta))\n",
    "lincs_hits = (lincs_hit_gc | lincs_hit_meta)"
   ]
  },
  {
   "cell_type": "code",
   "execution_count": 18,
   "metadata": {
    "collapsed": false
   },
   "outputs": [],
   "source": [
    "df_res = []\n",
    "for item in [drivers, sgenes, lincs_hits, lincs_genes, mgi_hits, mgi_genes]:\n",
    "    vec = [int(g in item) for g in id2gene]\n",
    "    df_res.append(vec)\n",
    "df_res = pd.DataFrame(df_res).T"
   ]
  },
  {
   "cell_type": "code",
   "execution_count": 19,
   "metadata": {
    "collapsed": false
   },
   "outputs": [],
   "source": [
    "df_res.columns = ['genes_selected_by_GCA+BNs', 'genes_selected_by_metaxcan', \n",
    "                  'LINCS_hit', 'genes_found_in_LINCS', 'MGI_hit', 'genes_found_in_MGI']\n",
    "df_res.index = id2gene\n",
    "\n",
    "df_res.to_csv(fn_out)"
   ]
  },
  {
   "cell_type": "code",
   "execution_count": null,
   "metadata": {
    "collapsed": true
   },
   "outputs": [],
   "source": []
  },
  {
   "cell_type": "code",
   "execution_count": null,
   "metadata": {
    "collapsed": true
   },
   "outputs": [],
   "source": []
  }
 ],
 "metadata": {
  "kernelspec": {
   "display_name": "my_env",
   "language": "python",
   "name": "my_env"
  },
  "language_info": {
   "codemirror_mode": {
    "name": "ipython",
    "version": 2
   },
   "file_extension": ".py",
   "mimetype": "text/x-python",
   "name": "python",
   "nbconvert_exporter": "python",
   "pygments_lexer": "ipython2",
   "version": "2.7.6"
  }
 },
 "nbformat": 4,
 "nbformat_minor": 1
}
