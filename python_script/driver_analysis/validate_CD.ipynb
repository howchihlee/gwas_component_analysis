{
 "cells": [
  {
   "cell_type": "code",
   "execution_count": 1,
   "metadata": {
    "collapsed": false
   },
   "outputs": [],
   "source": [
    "import os\n",
    "import pandas as pd\n",
    "import numpy as np\n",
    "import h5py\n",
    "from collections import Counter\n",
    "try:\n",
    "    import cPickle as pickle\n",
    "except:\n",
    "    import pickle\n",
    "\n",
    "import sys\n",
    "sys.path.append(os.path.abspath('../src'))\n",
    "\n",
    "from enrichment_helper import *\n",
    "\n",
    "from statsmodels.sandbox.stats.multicomp import multipletests\n",
    "from statsmodels.stats.proportion import proportion_confint\n",
    "import scipy.stats as stats\n",
    "\n",
    "import sqlite3\n",
    "with open('../src/ensembl2genename_GRCh38.85.p', 'rb') as reader:\n",
    "    gid2gn = pickle.load(reader)   \n",
    "    \n",
    "  "
   ]
  },
  {
   "cell_type": "code",
   "execution_count": 2,
   "metadata": {
    "collapsed": false
   },
   "outputs": [],
   "source": [
    "selected_phenotype = 'IBD.EUR.Crohns_Disease'\n",
    "lincs_file = 'CD_signatures/CD_lincs_l1000.p'\n",
    "fn_out = 'CD_targets.csv'\n",
    "mgi_search_criteria = lambda x: ('bowel' in x.lower()) or ('crohn' in x.lower())\n",
    "creed_search_criteria = lambda x: ('bowel' in x.lower()) or ('crohn' in x.lower())"
   ]
  },
  {
   "cell_type": "code",
   "execution_count": 3,
   "metadata": {
    "collapsed": false
   },
   "outputs": [
    {
     "name": "stdout",
     "output_type": "stream",
     "text": [
      "Crohn's disease MGI:1335106 True 77\n",
      "Crohn's disease MGI:105311 True 11\n",
      "inflammatory bowel disease MGI:102672 True 96\n",
      "inflammatory bowel disease MGI:104798 True 221\n",
      "inflammatory bowel disease MGI:103038 True 173\n",
      "inflammatory bowel disease MGI:109495 True 45\n",
      "inflammatory bowel disease MGI:1339364 True 44\n",
      "inflammatory bowel disease MGI:96548 True 104\n",
      "inflammatory bowel disease MGI:96537 True 188\n",
      "inflammatory bowel disease MGI:88337 True 57\n",
      "inflammatory bowel disease MGI:96549 True 38\n",
      "inflammatory bowel disease 1 MGI:2429397 True 37\n",
      "inflammatory bowel disease 10 MGI:1924290 True 40\n",
      "inflammatory bowel disease 12 MGI:95772 True 78\n",
      "inflammatory bowel disease 13 MGI:97570 True 40\n",
      "inflammatory bowel disease 16 MGI:2180140 True 13\n"
     ]
    }
   ],
   "source": [
    "## MGI\n",
    "hg2mg, mg, mg2pheno, pheno, pheno2name = load_mgi('../../../project_wrapup/GSK_project/GWAS_component/data/MGI/')  \n",
    "\n",
    "df = pd.read_csv('../../../project_wrapup/GSK_project/GWAS_component/data/MGI/MGI_DO.rpt', sep = '\\t')\n",
    "\n",
    "dis2pheno = {}\n",
    "for d, m in zip(df['DO Disease Name'], df['Mouse MGI ID']):\n",
    "    if mgi_search_criteria(d) and m != None:\n",
    "        if m in mg:\n",
    "            print d, m, m in mg, len(mg2pheno[m])\n",
    "            dis2pheno[m] = set(mg2pheno[m])\n",
    "        #else:\n",
    "            #print d, m, m in mg"
   ]
  },
  {
   "cell_type": "code",
   "execution_count": 4,
   "metadata": {
    "collapsed": false
   },
   "outputs": [],
   "source": [
    "with open('./gcomp_drive_genes.p', 'rb') as reader:\n",
    "    drivers = set([gid2gn[item[0]] for s, item in pickle.load(reader)[selected_phenotype]])"
   ]
  },
  {
   "cell_type": "code",
   "execution_count": 5,
   "metadata": {
    "collapsed": false
   },
   "outputs": [],
   "source": [
    "#!/usr/bin/env python\n",
    "import pandas\n",
    "import sqlite3\n",
    "\n",
    "connection = sqlite3.connect(\"../../data/gwas_g2p/metaxcan_results_p/metaxcan_results_v1.5.db\")\n",
    "\n",
    "query = 'SELECT g.gene_name, m.zscore, m.n_snps_used, m.n_snps_model, p.tag as phenotype, t.tissue as tissue, g.gene ' \n",
    "query += ' FROM gene AS g INNER JOIN metaxcan_result AS m ON g.id = m.gene_id' \n",
    "query += ' INNER JOIN tissue AS t ON t.id = m.tissue_id  INNER JOIN pheno AS p ON p.id = m.pheno_id'\n",
    "query += ' WHERE p.tag = \\'%s\\'' % selected_phenotype\n",
    "\n",
    "pi = pandas.read_sql_query(query, connection)\n",
    "pi = pi[pi.tissue != 'DGN_WB']\n"
   ]
  },
  {
   "cell_type": "code",
   "execution_count": 6,
   "metadata": {
    "collapsed": false,
    "scrolled": true
   },
   "outputs": [],
   "source": [
    "from scipy.stats import norm \n",
    "import statsmodels.stats.multitest as multi\n",
    "\n",
    "pvals = norm.sf(np.abs(pi.zscore)) * 2\n",
    "_, res_adjp, _, _ = multi.multipletests(pvals)\n"
   ]
  },
  {
   "cell_type": "code",
   "execution_count": 7,
   "metadata": {
    "collapsed": false,
    "scrolled": true
   },
   "outputs": [
    {
     "name": "stdout",
     "output_type": "stream",
     "text": [
      "150\n"
     ]
    }
   ],
   "source": [
    "sgenes = set(pi.gene_name[res_adjp < 0.05])\n",
    "print len(sgenes)"
   ]
  },
  {
   "cell_type": "code",
   "execution_count": 8,
   "metadata": {
    "collapsed": false
   },
   "outputs": [
    {
     "name": "stdout",
     "output_type": "stream",
     "text": [
      "(50, 136, 0.36764705882352944, (0.28661181256202545, 0.44868230508503343))\n"
     ]
    }
   ],
   "source": [
    "mgi_res_meta = mgi_match(sgenes, hg2mg, mg2pheno, dis2pheno, pheno, alpha_sig = (0.05) / float(len(dis2pheno)))\n",
    "mgi_hit_meta = set([g for g, c in mgi_res_meta.items()])\n",
    "n1 = len(mgi_hit_meta)\n",
    "n0 = len([g for g in sgenes if g in hg2mg])\n",
    "print(n1, n0, float(n1) / float(n0), proportion_confint(n1, n0))"
   ]
  },
  {
   "cell_type": "code",
   "execution_count": 9,
   "metadata": {
    "collapsed": false
   },
   "outputs": [
    {
     "name": "stdout",
     "output_type": "stream",
     "text": [
      "(15, 46, 0.32608695652173914, (0.1906186131351622, 0.46155529990831606))\n"
     ]
    }
   ],
   "source": [
    "mgi_res_gc = mgi_match(drivers, hg2mg, mg2pheno, dis2pheno, pheno, alpha_sig = (0.05) / float(len(dis2pheno)))\n",
    "mgi_hit_gc = set([g for g, c in mgi_res_gc.items()])\n",
    "n1 = len(mgi_hit_gc)\n",
    "n0 = len([g for g in drivers if g in hg2mg])\n",
    "print(n1, n0, float(n1) / float(n0), proportion_confint(n1, n0))"
   ]
  },
  {
   "cell_type": "code",
   "execution_count": 10,
   "metadata": {
    "collapsed": false,
    "scrolled": true
   },
   "outputs": [
    {
     "name": "stdout",
     "output_type": "stream",
     "text": [
      "\n",
      "'SLC6A1', 'CTD-2330K9.3', 'SCG3', 'PGAP3', 'MAMSTR', 'MST1', 'P4HA2', 'P4HA3', \n",
      "'ARFRP1', 'IL27', 'NKX2-3', 'TYK2', 'MICB', 'MICA', 'IL1RL1', 'MAP3K9', \n",
      "'DDX39B', 'TMEM182', 'PTGER4', 'GSDMB', 'EIF3C', 'CDC42SE2', 'CLN3', 'FAM110D', \n",
      "'MTMR7', 'RERGL', 'FAM166A', 'EIF3CL', 'WDR6', 'NCKIPSD', 'APOBR', 'WNK4', \n",
      "'CHSY3', 'LDB3', 'PALM', 'PROM2', 'SIGLEC10', 'BRD7', 'IP6K2', 'HRC', \n",
      "'ORM1', 'INPP5E', 'LST1', 'HCN3', 'MST1R', 'TRAIP', 'RAI14', 'ZGPAT', \n",
      "'CYLD', 'LAT', 'DDAH2', 'ERAP2', 'ACTA1', 'ATP2A1', 'STMN3', 'GBA', \n",
      "'ANO1', 'RIT1', 'C2orf82', 'UBE2L3', 'SEC16A', 'OVGP1', 'RTEL1', 'CCDC116', \n",
      "'TNXB', 'THBS3', 'NID2', 'CARD9', 'LCN10', 'C4B', 'HLA-DQB2', 'CARD6', \n",
      "'TRPM2', 'PDLIM4', 'ALPK3', 'CISD1', 'PDLIM3', 'NUPR1', 'FAM212A', 'UBA7', \n",
      "'DAG1', 'PAPD5', 'SBK1', 'IRGM', 'PRDM16', 'IRF1', 'CDHR4', 'RBPMS', \n",
      "'C6orf47', 'NPIPB6', 'TTC33', 'SLC22A5', 'RBM22', 'GPX4', 'RBM20', 'FNIP1', \n",
      "'SNX20', 'RNF123', 'C1orf141', 'IL12RB2', 'SAG', 'SDCCAG3', 'SMAD3', 'CDSN', \n",
      "'RNASET2', 'CCDC101', 'PKLR', 'FCER1G', 'TEK', 'STAT3', 'TNFSF15', 'MAP1B', \n",
      "'CDC34', 'USP19', 'CDC37', 'NDFIP1', 'S100A9', 'STOX2', 'C3', 'CADM2', \n",
      "'FBXW5', 'C3orf18', 'NKD1', 'EPOR', 'ZNF423', 'CLIC1', 'NAGLU', 'SULT1A1', \n",
      "'SRL', 'SULT1A2', 'APEH', 'C3orf62', 'SH2B1', 'FADS1', 'ADO', 'QARS', \n",
      "'SLPI', 'ATXN2L', 'IL18RAP', 'CKMT2', 'IL13', 'LY6G5C', 'RGS19', 'IL5', \n",
      "'HLA-DOB', 'RAD50', 'GPSM3', 'GPSM1', 'OBSCN', 'RBM6', 'IGSF9', 'AAGAB', \n",
      "'SF3B1', 'PRKAA1', 'TUBB', 'SOX9-AS1', 'SPNS2', 'ADAM15', 'C15orf59', 'C8G', \n",
      "'IER3', 'GPX1', 'SLC22A4', 'RAP1GAP', 'PMPCA', 'ATG16L1', 'PLCXD3', 'CPNE4', \n",
      "'NDUFAF3', 'SLIT3', 'NPIPB7', 'NOD2', 'NPIPB9', 'RBBP8NL', 'GMEB2', 'FAM189B', \n",
      "'CARD11', 'IL18R1', 'HSPB8', 'ZNF300', 'CREM', 'IL33', 'NFATC2IP', 'EPCAM', \n",
      "'CAMKV', 'DIS3L2', 'AIRE', 'CFI', 'RPL37', 'PFKFB4', 'COX15', 'KIAA1984', \n"
     ]
    }
   ],
   "source": [
    "s = ''\n",
    "for i, g in enumerate(drivers | sgenes):\n",
    "    if (i % 8) == 0:\n",
    "        print(s)\n",
    "        s = ''\n",
    "    s += '\\'%s\\', ' % g"
   ]
  },
  {
   "cell_type": "code",
   "execution_count": 11,
   "metadata": {
    "collapsed": false
   },
   "outputs": [
    {
     "name": "stdout",
     "output_type": "stream",
     "text": [
      "(5, 978)\n"
     ]
    }
   ],
   "source": [
    "## Lincs 1000\n",
    "df0 = pd.read_csv('../../../data/CREED/Disease_entire_exp_landmark.tsv.gz', sep = '\\t')\n",
    "df1 = pd.read_csv('../../../data/CREED/Disease_signatures_info_data.tsv', sep = '\\t')\n",
    "\n",
    "ind = [d0 for d0, d1 in zip(df1.id, df1.disease_name) if creed_search_criteria(d1)]\n",
    "dis = df0[ind].values.T\n",
    "dis = dis / np.linalg.norm(dis, axis = 1, keepdims=True)\n",
    "print dis.shape"
   ]
  },
  {
   "cell_type": "code",
   "execution_count": 12,
   "metadata": {
    "collapsed": true
   },
   "outputs": [],
   "source": [
    "with open('CD_signatures/REF_lincs_l1000.p', 'rb') as f:\n",
    "    res = pickle.load(f)\n",
    "\n",
    "cd_ref = np.vstack([item[u'chdirLm'] for item in res]) \n",
    "cd_ref /= (np.sqrt(np.sum(cd_ref **2, axis = 1)) + 1e-5)[:, np.newaxis]\n",
    "\n",
    "with open(lincs_file, 'rb') as f:\n",
    "    res_shrna = pickle.load(f)"
   ]
  },
  {
   "cell_type": "code",
   "execution_count": 13,
   "metadata": {
    "collapsed": false
   },
   "outputs": [
    {
     "name": "stdout",
     "output_type": "stream",
     "text": [
      "(18, 74, 0.24324324324324326, (0.14549008953641684, 0.34099639695006967))\n"
     ]
    }
   ],
   "source": [
    "lincs_res_meta = lincs_match(sgenes, res_shrna, dis, cd_ref, alpha_sig = 0.05)\n",
    "lincs_hit_meta = set([g for g, item in lincs_res_meta.items() if item[0] > 0])\n",
    "n1 = len(lincs_hit_meta)\n",
    "n0 = len(lincs_res_meta)\n",
    "print(n1, n0, float(n1) / float(n0), proportion_confint(n1, n0))"
   ]
  },
  {
   "cell_type": "code",
   "execution_count": 14,
   "metadata": {
    "collapsed": false
   },
   "outputs": [
    {
     "name": "stdout",
     "output_type": "stream",
     "text": [
      "(2, 14, 0.14285714285714285, (-0.04044251670493995, 0.3261568024192256))\n"
     ]
    }
   ],
   "source": [
    "lincs_res_gc = lincs_match(drivers, res_shrna, dis, cd_ref, alpha_sig = 0.05)\n",
    "lincs_hit_gc = set([g for g, item in lincs_res_gc .items() if item[0] > 0])\n",
    "n1 = len(lincs_hit_gc)\n",
    "n0 = len(lincs_res_gc)\n",
    "print(n1, n0, float(n1) / float(n0), proportion_confint(n1, n0))"
   ]
  },
  {
   "cell_type": "code",
   "execution_count": 15,
   "metadata": {
    "collapsed": true
   },
   "outputs": [],
   "source": [
    "id2gene = sorted( drivers | sgenes)"
   ]
  },
  {
   "cell_type": "code",
   "execution_count": 16,
   "metadata": {
    "collapsed": true
   },
   "outputs": [],
   "source": [
    "mgi_genes = set([g for g in (drivers|sgenes) if g in hg2mg])\n",
    "mgi_hits = (mgi_hit_gc | mgi_hit_meta)\n",
    "lincs_genes =  (set(lincs_res_gc) | set(lincs_res_meta))\n",
    "lincs_hits = (lincs_hit_gc | lincs_hit_meta)"
   ]
  },
  {
   "cell_type": "code",
   "execution_count": 17,
   "metadata": {
    "collapsed": false
   },
   "outputs": [],
   "source": [
    "df_res = []\n",
    "for item in [drivers, sgenes, lincs_hits, lincs_genes, mgi_hits, mgi_genes]:\n",
    "    vec = [int(g in item) for g in id2gene]\n",
    "    df_res.append(vec)\n",
    "df_res = pd.DataFrame(df_res).T"
   ]
  },
  {
   "cell_type": "code",
   "execution_count": 18,
   "metadata": {
    "collapsed": false
   },
   "outputs": [],
   "source": [
    "df_res.columns = ['genes_selected_by_GCA+BNs', 'genes_selected_by_metaxcan', \n",
    "                  'LINCS_hit', 'genes_found_in_LINCS', 'MGI_hit', 'genes_found_in_MGI']\n",
    "df_res.index = id2gene\n",
    "\n",
    "df_res.to_csv(fn_out)"
   ]
  },
  {
   "cell_type": "code",
   "execution_count": null,
   "metadata": {
    "collapsed": true
   },
   "outputs": [],
   "source": []
  },
  {
   "cell_type": "code",
   "execution_count": null,
   "metadata": {
    "collapsed": true
   },
   "outputs": [],
   "source": []
  }
 ],
 "metadata": {
  "kernelspec": {
   "display_name": "my_env",
   "language": "python",
   "name": "my_env"
  },
  "language_info": {
   "codemirror_mode": {
    "name": "ipython",
    "version": 2
   },
   "file_extension": ".py",
   "mimetype": "text/x-python",
   "name": "python",
   "nbconvert_exporter": "python",
   "pygments_lexer": "ipython2",
   "version": "2.7.6"
  }
 },
 "nbformat": 4,
 "nbformat_minor": 1
}
