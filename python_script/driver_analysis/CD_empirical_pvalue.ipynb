{
 "cells": [
  {
   "cell_type": "code",
   "execution_count": 1,
   "metadata": {
    "collapsed": false
   },
   "outputs": [],
   "source": [
    "import os\n",
    "import pandas as pd\n",
    "from statsmodels.stats.proportion import proportion_confint\n",
    "import numpy as np\n",
    "from sklearn.decomposition import PCA\n",
    "import h5py\n",
    "from scipy.cluster.hierarchy import fcluster, linkage\n",
    "from collections import Counter\n",
    "import pickle\n",
    "    \n",
    "with open('../src/ensembl2genename.p', 'rb') as reader:\n",
    "    gid2gn = pickle.load(reader)"
   ]
  },
  {
   "cell_type": "code",
   "execution_count": 2,
   "metadata": {
    "collapsed": false
   },
   "outputs": [],
   "source": [
    "id2phenotype = pd.read_csv('../../processed_data/selected_phenotypes.txt', header = None)[0].values"
   ]
  },
  {
   "cell_type": "code",
   "execution_count": 3,
   "metadata": {
    "collapsed": false
   },
   "outputs": [],
   "source": [
    "import os\n",
    "import sys\n",
    "sys.path.append(os.path.abspath('../src'))\n",
    "\n",
    "import pandas as pd\n",
    "import pickle\n",
    "import scipy.stats as stats\n",
    "import numpy as np\n",
    "from enrichment_helper import *\n"
   ]
  },
  {
   "cell_type": "code",
   "execution_count": 4,
   "metadata": {
    "collapsed": false
   },
   "outputs": [],
   "source": [
    "p0 = 'IBD.EUR.Crohns_Disease'\n",
    "\n",
    "with open('./detect_drive_genes.p', 'rb') as reader:\n",
    "    drivers = set([gid2gn[item[0]] for s, item in pickle.load(reader)[p0]])"
   ]
  },
  {
   "cell_type": "code",
   "execution_count": 5,
   "metadata": {
    "collapsed": false
   },
   "outputs": [],
   "source": [
    "#!/usr/bin/env python\n",
    "import pandas\n",
    "import sqlite3\n",
    "\n",
    "connection = sqlite3.connect(\"../../data/gwas_g2p/metaxcan_results_p/metaxcan_results_v1.5.db\")\n",
    "\n",
    "query = 'SELECT g.gene_name, m.zscore, m.n_snps_used, m.n_snps_model, p.tag as phenotype, t.tissue as tissue, g.gene ' \n",
    "query += ' FROM gene AS g INNER JOIN metaxcan_result AS m ON g.id = m.gene_id' \n",
    "query += ' INNER JOIN tissue AS t ON t.id = m.tissue_id  INNER JOIN pheno AS p ON p.id = m.pheno_id'\n",
    "query += ' WHERE p.tag = \\'%s\\'' % p0\n",
    "\n",
    "pi = pandas.read_sql_query(query, connection)\n",
    "pi = pi[pi.tissue != 'DGN_WB']\n"
   ]
  },
  {
   "cell_type": "code",
   "execution_count": 6,
   "metadata": {
    "collapsed": true
   },
   "outputs": [],
   "source": [
    "try:\n",
    "    import cPickle as pickle\n",
    "except:\n",
    "    import pickle"
   ]
  },
  {
   "cell_type": "code",
   "execution_count": 7,
   "metadata": {
    "collapsed": false,
    "scrolled": true
   },
   "outputs": [],
   "source": [
    "from scipy.stats import norm \n",
    "import statsmodels.stats.multitest as multi"
   ]
  },
  {
   "cell_type": "code",
   "execution_count": 9,
   "metadata": {
    "collapsed": true
   },
   "outputs": [],
   "source": [
    "from scipy.stats import norm \n",
    "import statsmodels.stats.multitest as multi\n",
    "\n",
    "pvals = norm.sf(np.abs(pi.zscore)) * 2\n",
    "_, res_adjp, _, _ = multi.multipletests(pvals)"
   ]
  },
  {
   "cell_type": "code",
   "execution_count": 10,
   "metadata": {
    "collapsed": false,
    "scrolled": true
   },
   "outputs": [
    {
     "name": "stdout",
     "output_type": "stream",
     "text": [
      "150\n"
     ]
    }
   ],
   "source": [
    "sgenes = set(pi.gene_name[res_adjp < 0.05])\n",
    "print len(sgenes)"
   ]
  },
  {
   "cell_type": "code",
   "execution_count": 12,
   "metadata": {
    "collapsed": true
   },
   "outputs": [],
   "source": [
    "## Lincs 1000\n",
    "df0 = pd.read_csv('../../../data/CREED/Disease_entire_exp_landmark.tsv.gz', sep = '\\t')\n",
    "df1 = pd.read_csv('../../../data/CREED/Disease_signatures_info_data.tsv', sep = '\\t')\n",
    "\n",
    "ind = [d0 for d0, d1 in zip(df1.id, df1.disease_name) if 'bowel' in d1.lower() or 'crohn' in d1.lower()]\n",
    "dis = df0[ind].values.T\n",
    "dis = dis / np.linalg.norm(dis, axis = 1, keepdims=True)"
   ]
  },
  {
   "cell_type": "code",
   "execution_count": 13,
   "metadata": {
    "collapsed": true
   },
   "outputs": [],
   "source": [
    "with open('CD_signatures/REF_lincs_l1000.p', 'rb') as f:\n",
    "    res = pickle.load(f)"
   ]
  },
  {
   "cell_type": "code",
   "execution_count": 14,
   "metadata": {
    "collapsed": false
   },
   "outputs": [],
   "source": [
    "cd_ref = np.vstack([item[u'chdirLm'] for item in res]) \n",
    "cd_ref /= (np.sqrt(np.sum(cd_ref **2, axis = 1)) + 1e-5)[:, np.newaxis]"
   ]
  },
  {
   "cell_type": "code",
   "execution_count": 15,
   "metadata": {
    "collapsed": false
   },
   "outputs": [
    {
     "data": {
      "text/plain": [
       "(10000, 978)"
      ]
     },
     "execution_count": 15,
     "metadata": {},
     "output_type": "execute_result"
    }
   ],
   "source": [
    "cd_ref.shape"
   ]
  },
  {
   "cell_type": "code",
   "execution_count": 16,
   "metadata": {
    "collapsed": false
   },
   "outputs": [],
   "source": [
    "dis0 = dis[:1, :]"
   ]
  },
  {
   "cell_type": "code",
   "execution_count": 51,
   "metadata": {
    "collapsed": true
   },
   "outputs": [],
   "source": [
    "vecs_ref = cd_ref.dot(dis.T)"
   ]
  },
  {
   "cell_type": "code",
   "execution_count": 52,
   "metadata": {
    "collapsed": false,
    "scrolled": true
   },
   "outputs": [
    {
     "name": "stdout",
     "output_type": "stream",
     "text": [
      "NormaltestResult(statistic=193.3766628927087, pvalue=1.0204487274165019e-42)\n"
     ]
    },
    {
     "data": {
      "image/png": "[encoded data removed]",
      "text/plain": [
       "<matplotlib.figure.Figure at 0x7f2a5cfa6190>"
      ]
     },
     "metadata": {},
     "output_type": "display_data"
    },
    {
     "name": "stdout",
     "output_type": "stream",
     "text": [
      "NormaltestResult(statistic=2.7556357692756457, pvalue=0.2521281258827606)\n"
     ]
    },
    {
     "data": {
      "image/png": "[encoded data removed]",
      "text/plain": [
       "<matplotlib.figure.Figure at 0x7f2a5ce33810>"
      ]
     },
     "metadata": {},
     "output_type": "display_data"
    },
    {
     "name": "stdout",
     "output_type": "stream",
     "text": [
      "NormaltestResult(statistic=263.7491620240893, pvalue=5.34068745517304e-58)\n"
     ]
    },
    {
     "data": {
      "image/png": "[encoded data removed]",
      "text/plain": [
       "<matplotlib.figure.Figure at 0x7f2a5ce5e290>"
      ]
     },
     "metadata": {},
     "output_type": "display_data"
    },
    {
     "name": "stdout",
     "output_type": "stream",
     "text": [
      "NormaltestResult(statistic=0.7343186615336235, pvalue=0.6926992679458597)\n"
     ]
    },
    {
     "data": {
      "image/png": "[encoded data removed]",
      "text/plain": [
       "<matplotlib.figure.Figure at 0x7f2a5cde3310>"
      ]
     },
     "metadata": {},
     "output_type": "display_data"
    },
    {
     "name": "stdout",
     "output_type": "stream",
     "text": [
      "NormaltestResult(statistic=77.43246800797547, pvalue=1.5337451838301987e-17)\n"
     ]
    },
    {
     "data": {
      "image/png": "[encoded data removed]",
      "text/plain": [
       "<matplotlib.figure.Figure at 0x7f2a5d964050>"
      ]
     },
     "metadata": {},
     "output_type": "display_data"
    }
   ],
   "source": [
    "for i in range(5):\n",
    "    vec = vecs_ref[:, i]\n",
    "    vec = (vec - vec.mean()) / vec.std()\n",
    "    print stats.mstats.normaltest(vec)\n",
    "    xx = np.linspace(-3, 3, 201)\n",
    "    pdf_val = stats.norm.pdf(xx)\n",
    "    plt.hist(vec, bins = 100, normed=True)\n",
    "    plt.plot(xx, pdf_val)\n",
    "    plt.show()"
   ]
  },
  {
   "cell_type": "code",
   "execution_count": 64,
   "metadata": {
    "collapsed": false
   },
   "outputs": [],
   "source": [
    "with open('CD_signatures/CD_lincs_l1000.p', 'rb') as f:\n",
    "    res = pickle.load(f)"
   ]
  },
  {
   "cell_type": "code",
   "execution_count": 53,
   "metadata": {
    "collapsed": false
   },
   "outputs": [
    {
     "data": {
      "text/plain": [
       "array([[-0.00556191,  0.0115824 ,  0.00555652,  0.00650444,  0.0012835 ]])"
      ]
     },
     "execution_count": 53,
     "metadata": {},
     "output_type": "execute_result"
    }
   ],
   "source": [
    "vecs_ref.mean(axis = 0, keepdims = True)"
   ]
  },
  {
   "cell_type": "code",
   "execution_count": 66,
   "metadata": {
    "collapsed": false
   },
   "outputs": [],
   "source": [
    "def lincs_match(target, res, dis, cd_ref, alpha_sig = 0.05):\n",
    "    \n",
    "    lincs_res = {}\n",
    "    dis = dis / (np.linalg.norm(dis, axis = 1, keepdims=True) + 1e-7)\n",
    "    \n",
    "    vecs_ref = cd_ref.dot(dis.T)\n",
    "    mu_ref = vecs_ref.mean(axis = 0, keepdims = True)\n",
    "    sig_ref = vecs_ref.std(axis = 0, keepdims = True)\n",
    "    \n",
    "    for t in target:\n",
    "        if t not in res or not res[t]:\n",
    "            continue\n",
    "            \n",
    "        item0 = res[t]\n",
    "        #print t\n",
    "        shrna = np.vstack([item[u'chdirLm'] for item in item0]) \n",
    "        shrna /= (np.sqrt(np.sum(shrna **2, axis = 1)) + 1e-5)[:, np.newaxis]\n",
    "        vec = shrna.dot(dis.T) \n",
    "        z_vec = (vec - mu_ref) / sig_ref\n",
    "        pval = stats.norm.sf(np.abs(z_vec)) * 2\n",
    "        lincs_res[t] = [multipletests(pval.flatten(), alpha = alpha_sig)[0].sum(), len(vec.flatten())]\n",
    "    return lincs_res"
   ]
  },
  {
   "cell_type": "code",
   "execution_count": 67,
   "metadata": {
    "collapsed": false,
    "scrolled": true
   },
   "outputs": [
    {
     "data": {
      "text/plain": [
       "{u'ADAM15': [0, 165],\n",
       " u'ADO': [1, 195],\n",
       " u'AIRE': [1, 210],\n",
       " u'APEH': [0, 175],\n",
       " u'ARFRP1': [1, 135],\n",
       " u'ATG16L1': [0, 275],\n",
       " u'CAMKV': [0, 50],\n",
       " u'CARD9': [3, 275],\n",
       " u'CDC37': [0, 135],\n",
       " u'CISD1': [0, 240],\n",
       " u'CLN3': [1, 135],\n",
       " u'CREM': [0, 170],\n",
       " u'CYLD': [1, 40],\n",
       " u'DAG1': [0, 120],\n",
       " u'DDAH2': [0, 175],\n",
       " u'DDX39B': [0, 135],\n",
       " u'EPOR': [0, 135],\n",
       " u'ERAP2': [0, 150],\n",
       " u'FADS1': [0, 135],\n",
       " u'GBA': [0, 165],\n",
       " u'GMEB2': [1, 165],\n",
       " u'GPSM1': [1, 135],\n",
       " u'GPX1': [0, 135],\n",
       " u'GPX4': [2, 115],\n",
       " u'GSDMB': [0, 165],\n",
       " u'HCN3': [0, 135],\n",
       " u'IER3': [0, 195],\n",
       " u'IL13': [0, 230],\n",
       " u'IL18RAP': [0, 235],\n",
       " u'IL27': [0, 165],\n",
       " u'IL5': [0, 170],\n",
       " u'IP6K2': [0, 225],\n",
       " u'IRF1': [0, 120],\n",
       " u'IRGM': [2, 230],\n",
       " u'MST1': [1, 145],\n",
       " u'MST1R': [0, 705],\n",
       " u'NDFIP1': [0, 165],\n",
       " u'NKX2-3': [0, 135],\n",
       " u'NOD2': [0, 165],\n",
       " u'ORM1': [0, 135],\n",
       " u'P4HA2': [2, 390],\n",
       " u'PAPD5': [0, 40],\n",
       " u'PDLIM4': [1, 165],\n",
       " u'PFKFB4': [0, 50],\n",
       " u'PKLR': [0, 50],\n",
       " u'PRKAA1': [0, 235],\n",
       " u'PTGER4': [0, 210],\n",
       " u'QARS': [0, 120],\n",
       " u'RAD50': [0, 310],\n",
       " u'RBM22': [0, 5],\n",
       " u'RBM6': [0, 285],\n",
       " u'RGS19': [0, 120],\n",
       " u'RIT1': [1, 205],\n",
       " u'RNASET2': [0, 235],\n",
       " u'RNF123': [1, 165],\n",
       " u'RTEL1': [0, 120],\n",
       " u'SBK1': [0, 50],\n",
       " u'SEC16A': [0, 110],\n",
       " u'SF3B1': [0, 120],\n",
       " u'SLC22A4': [0, 140],\n",
       " u'SLC22A5': [0, 180],\n",
       " u'SMAD3': [0, 585],\n",
       " u'STAT3': [0, 370],\n",
       " u'SULT1A1': [0, 215],\n",
       " u'SULT1A2': [1, 220],\n",
       " u'TNFSF15': [0, 165],\n",
       " u'TRAIP': [0, 5],\n",
       " u'TRPM2': [0, 120],\n",
       " u'TYK2': [2, 195],\n",
       " u'UBE2L3': [0, 120],\n",
       " u'WDR6': [0, 165],\n",
       " u'ZGPAT': [1, 250],\n",
       " u'ZNF300': [0, 210],\n",
       " u'ZNF423': [0, 45]}"
      ]
     },
     "execution_count": 67,
     "metadata": {},
     "output_type": "execute_result"
    }
   ],
   "source": [
    "lincs_match(sgenes, res, dis, cd_ref, alpha_sig = 0.05)"
   ]
  },
  {
   "cell_type": "code",
   "execution_count": 63,
   "metadata": {
    "collapsed": false
   },
   "outputs": [
    {
     "data": {
      "text/plain": [
       "10000"
      ]
     },
     "execution_count": 63,
     "metadata": {},
     "output_type": "execute_result"
    }
   ],
   "source": [
    "len(res)"
   ]
  },
  {
   "cell_type": "code",
   "execution_count": null,
   "metadata": {
    "collapsed": true
   },
   "outputs": [],
   "source": []
  }
 ],
 "metadata": {
  "kernelspec": {
   "display_name": "my_env",
   "language": "python",
   "name": "my_env"
  },
  "language_info": {
   "codemirror_mode": {
    "name": "ipython",
    "version": 2
   },
   "file_extension": ".py",
   "mimetype": "text/x-python",
   "name": "python",
   "nbconvert_exporter": "python",
   "pygments_lexer": "ipython2",
   "version": "2.7.6"
  }
 },
 "nbformat": 4,
 "nbformat_minor": 1
}
