{
 "cells": [
  {
   "cell_type": "code",
   "execution_count": 1,
   "metadata": {
    "collapsed": false
   },
   "outputs": [],
   "source": [
    "import os\n",
    "import pandas as pd\n",
    "import numpy as np\n",
    "from sklearn.decomposition import PCA\n",
    "import h5py\n",
    "from scipy.cluster.hierarchy import fcluster, linkage\n",
    "from collections import Counter\n",
    "import pickle\n",
    "\n",
    "import os\n",
    "import pandas as pd\n",
    "import numpy as np\n",
    "import h5py\n",
    "from collections import Counter\n",
    "import pickle\n",
    "import pandas as pd\n",
    "\n",
    "\n",
    "with open('../../processed_data/selected_phenotypes.txt', 'rb') as reader:\n",
    "    id2ph = [i.strip() for i in reader.readlines()]\n",
    "    \n",
    "with open('../src/ensembl2genename.p', 'rb') as reader:\n",
    "    gid2gn = pickle.load(reader)"
   ]
  },
  {
   "cell_type": "code",
   "execution_count": 2,
   "metadata": {
    "collapsed": true
   },
   "outputs": [],
   "source": [
    "try:\n",
    "    import cPickle as pickle\n",
    "except:\n",
    "    import pickle"
   ]
  },
  {
   "cell_type": "code",
   "execution_count": 3,
   "metadata": {
    "collapsed": true
   },
   "outputs": [],
   "source": [
    "path_to_processed_data = '../../processed_data/'\n",
    "path_to_wgcna = '../../R_script/WGCNA/'\n",
    "path_to_save = '../../gwas_component/eigengene_model/'"
   ]
  },
  {
   "cell_type": "code",
   "execution_count": 4,
   "metadata": {
    "collapsed": false
   },
   "outputs": [],
   "source": [
    "#!/usr/bin/env python\n",
    "import pandas\n",
    "import sqlite3\n",
    "from scipy.stats import norm \n",
    "import statsmodels.stats.multitest as multi\n",
    "\n",
    "id2tissue = os.listdir('../../R_script/WGCNA/')\n",
    "\n",
    "for tissue0 in id2tissue:\n",
    "    if tissue0 == 'Cells_EBV_transformed_lymphocytes':\n",
    "        tissue = 'Cells_EBV-transformed_lymphocytes'\n",
    "    else:\n",
    "        tissue = tissue0\n",
    "\n",
    "    df_1k = pd.read_csv(path_to_processed_data + 'predixcan_1kgenome/TW_%s_0.5.db_predicted_expression.txt.gz' % tissue, sep = '\\t')\n",
    "    df_1k.columns = [g.split('.')[0] for g in df_1k.columns]\n",
    "\n",
    "    dfm = pd.read_csv(path_to_wgcna + '%s/gene_module.csv' % tissue0, header = None)\n",
    "\n",
    "    with open(path_to_processed_data + 'model_genes/var/%s-gene2var.p' % tissue0, 'rb') as reader:\n",
    "        gene2var = pickle.load(reader)\n",
    "    gene2var = {g.split('.')[0]:v for g, v in gene2var.items()}\n",
    "\n",
    "    with open(path_to_processed_data + 'model_genes/%s-model_genes.txt' % tissue0, 'rb') as reader:\n",
    "        id2gene = [s.strip() for s in reader.readlines()]\n",
    "    id2gene = np.array(id2gene)\n",
    "\n",
    "    df_exp = pd.read_csv(path_to_processed_data + 'adj_expression/%s-adj_expression.txt.gz' % tissue0, index_col=0)\n",
    "    df_exp.columns = [g.split('.')[0] for g in df_exp.columns]\n",
    "\n",
    "    df_exp = df_exp[id2gene] \n",
    "    data = df_exp.values\n",
    "\n",
    "    clf = PCA(n_components = 1, whiten=False)\n",
    "\n",
    "    eigen_genes = []\n",
    "    res_ratio = []\n",
    "    ## PCA\n",
    "    ind_c = dfm[1].values\n",
    "\n",
    "    pca_models = []\n",
    "    \n",
    "    for c in set(ind_c):\n",
    "        if np.sum(ind_c == c) < 2:\n",
    "            continue\n",
    "\n",
    "        data0 = data[:, ind_c == c]\n",
    "        clf.fit(data0)\n",
    "\n",
    "        tmp = clf.transform(data0)\n",
    "\n",
    "        ## gathering model weights\n",
    "        \n",
    "        pca_weight = np.squeeze(clf.components_)\n",
    "        pca_genes = id2gene[ind_c == c]\n",
    "        \n",
    "        sig_1k = (df_1k[pca_genes].values * pca_weight[np.newaxis, :]).sum(axis = 1).std()\n",
    "        \n",
    "        pca_models.append([c, pca_genes, pca_weight, sig_1k])\n",
    "\n",
    "        eigen_genes.append(tmp)\n",
    "        res_ratio.append(clf.explained_variance_ratio_[0])\n",
    "    \n",
    "    eigen_genes = np.hstack(eigen_genes)      \n",
    "\n",
    "    with open(path_to_save + '%s.p' % tissue0, 'wb') as writer:\n",
    "        pickle.dump(pca_models, writer)\n"
   ]
  }
 ],
 "metadata": {
  "kernelspec": {
   "display_name": "my_env",
   "language": "python",
   "name": "my_env"
  },
  "language_info": {
   "codemirror_mode": {
    "name": "ipython",
    "version": 2
   },
   "file_extension": ".py",
   "mimetype": "text/x-python",
   "name": "python",
   "nbconvert_exporter": "python",
   "pygments_lexer": "ipython2",
   "version": "2.7.6"
  }
 },
 "nbformat": 4,
 "nbformat_minor": 1
}
