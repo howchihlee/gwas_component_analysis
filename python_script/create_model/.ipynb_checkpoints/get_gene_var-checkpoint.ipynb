{
 "cells": [
  {
   "cell_type": "code",
   "execution_count": null,
   "metadata": {
    "collapsed": false,
    "scrolled": true
   },
   "outputs": [],
   "source": [
    "import os\n",
    "import sqlite3\n",
    "\n",
    "id2tissue = [t.split('.')[0][3:] for t in os.listdir('../../../data/predix_db/GTEx-V6p-HapMap-2016-09-08/') if t[-3:] == '.gz']"
   ]
  },
  {
   "cell_type": "code",
   "execution_count": null,
   "metadata": {
    "collapsed": true
   },
   "outputs": [],
   "source": [
    "conn = sqlite3.connect('../../../data/predix_db/GTEx-V6p-HapMap-2016-09-08/Adipose_Subcutaneous_0.5.db')\n",
    "c = conn.cursor()"
   ]
  },
  {
   "cell_type": "code",
   "execution_count": null,
   "metadata": {
    "collapsed": false
   },
   "outputs": [],
   "source": [
    "'SELECT * FROM weights WHERE gene=ENSG00000183255.7'"
   ]
  },
  {
   "cell_type": "code",
   "execution_count": null,
   "metadata": {
    "collapsed": false
   },
   "outputs": [],
   "source": [
    "c.execute('SELECT * FROM weights WHERE gene=\\'ENSG00000183255.7\\'')"
   ]
  },
  {
   "cell_type": "code",
   "execution_count": null,
   "metadata": {
    "collapsed": false
   },
   "outputs": [],
   "source": [
    "cmd = ('ENSG00000183255.7',)\n",
    "c.execute('SELECT * FROM weights WHERE gene=?', cmd)"
   ]
  },
  {
   "cell_type": "code",
   "execution_count": null,
   "metadata": {
    "collapsed": false
   },
   "outputs": [],
   "source": [
    "import pandas as pd\n",
    "import pickle\n",
    "\n",
    "for t in id2tissue:\n",
    "    t0 = t.replace('-', '_')\n",
    "    df = pd.read_csv('../../../data/predix_db/GTEx-V6p-HapMap-2016-09-08/TW_%s.txt.gz' % t, sep = ' ')\n",
    "    model_genes = set(pd.read_csv('../../processed_data/model_genes/%s-model_genes.txt' % t0, header = None)[0])\n",
    "    \n",
    "    \n",
    "    conn = sqlite3.connect('../../../data/predix_db/GTEx-V6p-HapMap-2016-09-08/%s_0.5.db' % t)\n",
    "    c = conn.cursor()\n",
    "    \n",
    "    gene2var = {}\n",
    "    \n",
    "    with open('../../processed_data/model_genes/var/%s-gene2var.p' % t0, 'rb') as reader:\n",
    "        gene2var2 = pickle.load(reader)\n",
    "    \n",
    "    for g, dfg in df.groupby('GENE'):\n",
    "        cmd = (g,)\n",
    "        c.execute('SELECT * FROM weights WHERE gene=?', cmd)\n",
    "        id2rsid = sorted(set(dfg.RSID1))\n",
    "\n",
    "        res = [item for item in c.fetchall()]\n",
    "\n",
    "        if not res:\n",
    "            continue\n",
    "    \n",
    "        assert(set(id2rsid) == set([item[0] for item in res]))\n",
    "\n",
    "        rsid2id = {r:i for i, r in enumerate(id2rsid)}\n",
    "        mat = np.zeros((len(id2rsid), len(id2rsid)))\n",
    "        for r1, r2, v in zip(dfg.RSID1, dfg.RSID2, dfg.VALUE):\n",
    "            mat[rsid2id[r1], rsid2id[r2]] = v\n",
    "            mat[rsid2id[r2], rsid2id[r1]] = v\n",
    "\n",
    "        vec = np.zeros(len(id2rsid))\n",
    "        for r, g, v, _, _ in res:\n",
    "            vec[rsid2id[r]] = v\n",
    "\n",
    "        gene2var[g] = vec.dot(mat).dot(vec)\n",
    "    \n",
    "    for g, v in gene2var.items():\n",
    "        if g in gene2var2:\n",
    "            if gene2var[g] != gene2var2[g]:\n",
    "                print g\n",
    "        \n",
    "    assert len(model_genes - set([g.split('.')[0] for g in gene2var])) == 0\n",
    "    \n",
    "    conn.close()"
   ]
  },
  {
   "cell_type": "code",
   "execution_count": null,
   "metadata": {
    "collapsed": false
   },
   "outputs": [],
   "source": [
    "'../../../data/predix_db/GTEx-V6p-HapMap-2016-09-08/%s_0.5.db' % t"
   ]
  },
  {
   "cell_type": "code",
   "execution_count": null,
   "metadata": {
    "collapsed": false
   },
   "outputs": [],
   "source": [
    "gene2var = {}\n",
    "\n",
    "for g, dfg in df.groupby('GENE'):\n",
    "    t = (g,)\n",
    "    c.execute('SELECT * FROM weights WHERE gene=?', t)\n",
    "    id2rsid = sorted(set(dfg.RSID1))\n",
    "    \n",
    "    res = [item for item in c.fetchall()]\n",
    "    \n",
    "    if not res:\n",
    "        continue\n",
    "        \n",
    "    assert(set(id2rsid) == set([item[0] for item in res]))\n",
    "    \n",
    "    rsid2id = {r:i for i, r in enumerate(id2rsid)}\n",
    "    mat = np.zeros((len(id2rsid), len(id2rsid)))\n",
    "    for r1, r2, v in zip(dfg.RSID1, dfg.RSID2, dfg.VALUE):\n",
    "        mat[rsid2id[r1], rsid2id[r2]] = v\n",
    "        mat[rsid2id[r2], rsid2id[r1]] = v\n",
    "\n",
    "    vec = np.zeros(len(id2rsid))\n",
    "    for r, g, v, _, _ in res:\n",
    "        vec[rsid2id[r]] = v\n",
    "    \n",
    "    gene2var[g] = vec.dot(mat).dot(vec)"
   ]
  },
  {
   "cell_type": "code",
   "execution_count": null,
   "metadata": {
    "collapsed": false
   },
   "outputs": [],
   "source": [
    "import pickle\n",
    "with open('../../processed_data/model_genes/var/Adipose_Subcutaneous-gene2var.p', 'rb') as reader:\n",
    "    gene2var2 = pickle.load(reader)"
   ]
  },
  {
   "cell_type": "code",
   "execution_count": null,
   "metadata": {
    "collapsed": false
   },
   "outputs": [],
   "source": [
    "for g, v in gene2var.items():\n",
    "    if g in gene2var2:\n",
    "        if gene2var[g] != gene2var2[g]:\n",
    "            print g\n",
    "    if g not in gene2var2:\n",
    "        print 'not', g"
   ]
  },
  {
   "cell_type": "code",
   "execution_count": null,
   "metadata": {
    "collapsed": false
   },
   "outputs": [],
   "source": [
    "len(gene2var), len(gene2var2)"
   ]
  },
  {
   "cell_type": "code",
   "execution_count": null,
   "metadata": {
    "collapsed": false
   },
   "outputs": [],
   "source": [
    "for g, item in df.groupby('GENE'):\n",
    "    t = (g,)\n",
    "    c.execute('SELECT * FROM weights WHERE gene=?', t)\n",
    "    res = [item for item in c.fetchall()]\n",
    "    break"
   ]
  },
  {
   "cell_type": "code",
   "execution_count": null,
   "metadata": {
    "collapsed": false,
    "scrolled": true
   },
   "outputs": [],
   "source": [
    "tmp = df[df.GENE == 'ENSG00000173876.9']"
   ]
  },
  {
   "cell_type": "code",
   "execution_count": null,
   "metadata": {
    "collapsed": false
   },
   "outputs": [],
   "source": [
    "import numpy as np\n",
    "\n",
    "id2rsid = sorted(set(tmp.RSID1))\n",
    "rsid2id = {r:i for i, r in enumerate(id2rsid)}\n",
    "mat = np.zeros((len(id2rsid), len(id2rsid)))\n",
    "for r1, r2, v in zip(tmp.RSID1, tmp.RSID2, tmp.VALUE):\n",
    "    mat[rsid2id[r1], rsid2id[r2]] = v\n",
    "    mat[rsid2id[r2], rsid2id[r1]] = v"
   ]
  },
  {
   "cell_type": "code",
   "execution_count": null,
   "metadata": {
    "collapsed": false
   },
   "outputs": [],
   "source": [
    "vec = np.zeros(len(id2rsid))\n"
   ]
  },
  {
   "cell_type": "code",
   "execution_count": null,
   "metadata": {
    "collapsed": false
   },
   "outputs": [],
   "source": [
    "len(res) , len(id2rsid)"
   ]
  },
  {
   "cell_type": "code",
   "execution_count": null,
   "metadata": {
    "collapsed": false
   },
   "outputs": [],
   "source": [
    "for r, g, v, _, _ in res:\n",
    "    vec[rsid2id[r]] = v"
   ]
  },
  {
   "cell_type": "code",
   "execution_count": null,
   "metadata": {
    "collapsed": false
   },
   "outputs": [],
   "source": [
    "vec.dot(mat).dot(vec)"
   ]
  },
  {
   "cell_type": "code",
   "execution_count": null,
   "metadata": {
    "collapsed": false
   },
   "outputs": [],
   "source": [
    "df.head()"
   ]
  },
  {
   "cell_type": "code",
   "execution_count": null,
   "metadata": {
    "collapsed": false
   },
   "outputs": [],
   "source": [
    "res"
   ]
  },
  {
   "cell_type": "code",
   "execution_count": null,
   "metadata": {
    "collapsed": true
   },
   "outputs": [],
   "source": []
  }
 ],
 "metadata": {
  "kernelspec": {
   "display_name": "my_env",
   "language": "python",
   "name": "my_env"
  },
  "language_info": {
   "codemirror_mode": {
    "name": "ipython",
    "version": 2
   },
   "file_extension": ".py",
   "mimetype": "text/x-python",
   "name": "python",
   "nbconvert_exporter": "python",
   "pygments_lexer": "ipython2",
   "version": "2.7.6"
  }
 },
 "nbformat": 4,
 "nbformat_minor": 0
}
