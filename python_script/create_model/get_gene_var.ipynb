{
 "cells": [
  {
   "cell_type": "code",
   "execution_count": 1,
   "metadata": {
    "collapsed": false,
    "scrolled": true
   },
   "outputs": [],
   "source": [
    "import os\n",
    "import sqlite3\n",
    "\n",
    "id2tissue = [t.split('.')[0][3:] for t in os.listdir('../../../data/predix_db/GTEx-V6p-HapMap-2016-09-08/') if t[-3:] == '.gz']"
   ]
  },
  {
   "cell_type": "code",
   "execution_count": 2,
   "metadata": {
    "collapsed": false
   },
   "outputs": [],
   "source": [
    "import pandas as pd\n",
    "import pickle\n",
    "import numpy as np\n",
    "import gzip\n",
    "\n",
    "for t in id2tissue:\n",
    "    t0 = t.replace('-', '_')\n",
    "    df = pd.read_csv('../../../data/predix_db/GTEx-V6p-HapMap-2016-09-08/TW_%s.txt.gz' % t, sep = ' ')\n",
    "    model_genes = set(pd.read_csv('../../processed_data/model_genes/%s-model_genes.txt' % t0, header = None)[0])\n",
    "    \n",
    "    \n",
    "    with sqlite3.connect('../../../data/predix_db/GTEx-V6p-HapMap-2016-09-08/TW_%s_0.5.db' % t) as conn:\n",
    "        c = conn.cursor()\n",
    "\n",
    "        gene2var = {}\n",
    "\n",
    "        for g, dfg in df.groupby('GENE'):\n",
    "            cmd = (g,)\n",
    "            c.execute('SELECT * FROM weights WHERE gene=?', cmd)\n",
    "            id2rsid = sorted(set(dfg.RSID1))\n",
    "\n",
    "            res = [item for item in c.fetchall()]\n",
    "\n",
    "            if not res:\n",
    "                continue\n",
    "\n",
    "            assert(set(id2rsid) == set([item[0] for item in res]))\n",
    "\n",
    "            rsid2id = {r:i for i, r in enumerate(id2rsid)}\n",
    "            mat = np.zeros((len(id2rsid), len(id2rsid)))\n",
    "            for r1, r2, v in zip(dfg.RSID1, dfg.RSID2, dfg.VALUE):\n",
    "                mat[rsid2id[r1], rsid2id[r2]] = v\n",
    "                mat[rsid2id[r2], rsid2id[r1]] = v\n",
    "\n",
    "            vec = np.zeros(len(id2rsid))\n",
    "            for r, g, v, _, _ in res:\n",
    "                vec[rsid2id[r]] = v\n",
    "\n",
    "            gene2var[g] = vec.dot(mat).dot(vec)\n",
    "\n",
    "        with gzip.open('../../processed_data/model_genes/var/%s-gene2var.csv.gz' % t0, 'wb') as writer:\n",
    "            for g, v in gene2var.items():\n",
    "                writer.write('%s,%f\\n' % (g, v))\n"
   ]
  },
  {
   "cell_type": "code",
   "execution_count": null,
   "metadata": {
    "collapsed": true
   },
   "outputs": [],
   "source": []
  }
 ],
 "metadata": {
  "kernelspec": {
   "display_name": "my_env",
   "language": "python",
   "name": "my_env"
  },
  "language_info": {
   "codemirror_mode": {
    "name": "ipython",
    "version": 2
   },
   "file_extension": ".py",
   "mimetype": "text/x-python",
   "name": "python",
   "nbconvert_exporter": "python",
   "pygments_lexer": "ipython2",
   "version": "2.7.6"
  }
 },
 "nbformat": 4,
 "nbformat_minor": 0
}
