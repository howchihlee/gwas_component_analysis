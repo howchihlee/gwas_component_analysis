{
 "cells": [
  {
   "cell_type": "code",
   "execution_count": 1,
   "metadata": {
    "collapsed": true
   },
   "outputs": [],
   "source": [
    "import pandas as pd"
   ]
  },
  {
   "cell_type": "code",
   "execution_count": 2,
   "metadata": {
    "collapsed": false
   },
   "outputs": [],
   "source": [
    "df = pd.read_csv('../processed_data/predixcan_1kgenome/TW_Whole_Blood_0.5.db_predicted_expression.txt.gz',\n",
    "                 sep = '\\t', index_col = 1, )\n",
    "\n",
    "df = df.drop('FID', axis = 1)"
   ]
  },
  {
   "cell_type": "code",
   "execution_count": 3,
   "metadata": {
    "collapsed": false
   },
   "outputs": [],
   "source": [
    "import pickle\n",
    "df_spca = pd.read_csv('mini_batch_SPCA_model/CD/Whole_Blood_00.csv.gz')\n"
   ]
  },
  {
   "cell_type": "code",
   "execution_count": 4,
   "metadata": {
    "collapsed": true
   },
   "outputs": [],
   "source": [
    "df.columns = [g.split('.')[0] for g in df.columns]"
   ]
  },
  {
   "cell_type": "code",
   "execution_count": 5,
   "metadata": {
    "collapsed": false
   },
   "outputs": [],
   "source": [
    "import numpy as np\n",
    "\n",
    "mat = df[df_spca.columns].values\n",
    "pW = np.linalg.pinv(df_spca.values.T) ## l2 projection matrix\n",
    "\n",
    "w = pW.dot(mat.T) ## weights of PCs\n",
    "\n",
    "for p, s in zip([9.0, 19.0, 49.0, 99.0, 199.0], ['10','05','02', '01', 'p5']):\n",
    "    for r in range(30):\n",
    "        tmp = w[0, :] ##　pick first one\n",
    "        tmp = tmp + np.sqrt(p) * np.std(tmp) * np.random.randn(tmp.shape[0])\n",
    "\n",
    "        pheno = pd.DataFrame(list(df.index))\n",
    "        pheno.columns = ['FID']\n",
    "        pheno['IID'] = list(df.index)\n",
    "        pheno['phenotype'] = tmp\n",
    "        pheno.to_csv('single_component/single_component_%s_%02d.tsv' % (s, r), index = None, sep = '\\t')\n",
    "\n",
    "        #plt.plot(tmp,  w[0, :], '.')\n",
    "        #plt.show()"
   ]
  },
  {
   "cell_type": "code",
   "execution_count": null,
   "metadata": {
    "collapsed": true
   },
   "outputs": [],
   "source": []
  }
 ],
 "metadata": {
  "kernelspec": {
   "display_name": "Python 2",
   "language": "python",
   "name": "python2"
  },
  "language_info": {
   "codemirror_mode": {
    "name": "ipython",
    "version": 2
   },
   "file_extension": ".py",
   "mimetype": "text/x-python",
   "name": "python",
   "nbconvert_exporter": "python",
   "pygments_lexer": "ipython2",
   "version": "2.7.6"
  }
 },
 "nbformat": 4,
 "nbformat_minor": 0
}
