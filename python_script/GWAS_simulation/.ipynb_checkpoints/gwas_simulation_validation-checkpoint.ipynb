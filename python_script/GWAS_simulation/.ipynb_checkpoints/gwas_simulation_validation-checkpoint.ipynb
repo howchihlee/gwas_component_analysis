{
 "cells": [
  {
   "cell_type": "code",
   "execution_count": 1,
   "metadata": {
    "collapsed": true
   },
   "outputs": [],
   "source": [
    "import pandas as pd\n",
    "import os\n",
    "import sys\n",
    "sys.path.append(os.path.abspath('../../'))\n",
    "import gwas_component.gwas_component as gc\n",
    "import numpy as np\n",
    "import pickle\n",
    "from scipy.stats import linregress\n",
    "import scipy.stats as st\n",
    "\n",
    "def normalize_1d(x):\n",
    "    ## x: (n, ) np array\n",
    "    return (x - np.mean(x)) / (np.std(x) + 1e-5)"
   ]
  },
  {
   "cell_type": "code",
   "execution_count": 2,
   "metadata": {
    "collapsed": false,
    "scrolled": true
   },
   "outputs": [],
   "source": [
    "df_exp = pd.read_csv('../../processed_data/predixcan_1kgenome/TW_Whole_Blood_0.5.db_predicted_expression.txt.gz', \n",
    "                     sep = '\\t', index_col= 'IID')\n",
    "df_exp.columns = [g.split('.')[0] for g in df_exp.columns]"
   ]
  },
  {
   "cell_type": "code",
   "execution_count": 6,
   "metadata": {
    "collapsed": true
   },
   "outputs": [],
   "source": [
    "path_exp = 'single_component/'\n",
    "fns = [[(path_exp + 'metaxcan/single_component_10_00_Whole_Blood.csv', path_exp + 'traits/single_component_10_00.tsv'),\n",
    "       (path_exp + 'metaxcan/single_component_05_00_Whole_Blood.csv', path_exp + 'traits/single_component_05_00.tsv'),\n",
    "       (path_exp + 'metaxcan/single_component_02_00_Whole_Blood.csv', path_exp + 'traits/single_component_02_00.tsv'),\n",
    "      ]]\n"
   ]
  },
  {
   "cell_type": "code",
   "execution_count": 7,
   "metadata": {
    "collapsed": false
   },
   "outputs": [
    {
     "name": "stdout",
     "output_type": "stream",
     "text": [
      "0.08992532701508471 0.16906986433046658\n",
      "0.06522824304535829 0.5392506966271357\n",
      "0.08208620237010422 0.2542015407629774\n"
     ]
    },
    {
     "data": {
      "image/png": "[encoded data removed]",
      "text/plain": [
       "<matplotlib.figure.Figure at 0x7f694c1f5f90>"
      ]
     },
     "metadata": {},
     "output_type": "display_data"
    }
   ],
   "source": [
    "import matplotlib.pyplot as plt\n",
    "% matplotlib inline\n",
    "\n",
    "tissue = tissue0 = 'Whole_Blood'\n",
    "gmodel = gc.Coexpression_Model(tissue)\n",
    "    \n",
    "fig, axes = plt.subplots(1, 3, figsize = (12, 3))\n",
    "for i, fns0 in enumerate(fns):\n",
    "    for j, (fn_meta, fn_trait) in enumerate(fns0):\n",
    "        gene2z = gc.metaxcan_file_to_gene2z(fn_meta)\n",
    "        df_trait = pd.read_csv(fn_trait, sep = '\\t', index_col= 'IID')\n",
    "        \n",
    "        vec_trait = df_trait.loc[df_exp.index].phenotype.values\n",
    "        \n",
    "        coexp_asso_prex = []\n",
    "        coexp_asso_meta, _, _ = gmodel.compute_z(gene2z)\n",
    "\n",
    "        s0 = set(gmodel.id2gene)\n",
    "        for k, pca_genes, pca_weight, sig_1k in gmodel.pca_models:\n",
    "\n",
    "            mat = df_exp[[g for g in pca_genes if g in s0]].values\n",
    "            pca_weight1_slice = np.array([v for g, v in zip(pca_genes, pca_weight) if g in s0])\n",
    "\n",
    "            true_pheno = pca_weight1_slice.dot(mat.T) \n",
    "\n",
    "            exp_vec = normalize_1d(true_pheno) \n",
    "            slope, intercept, r_value, p_value, std_err = linregress(exp_vec, vec_trait)\n",
    "\n",
    "            coexp_asso_prex.append(np.sign(slope) * st.norm.ppf(p_value / 2.0))\n",
    "        coexp_asso_prex = np.array(coexp_asso_prex)\n",
    "        \n",
    "        vmax = max([np.max(coexp_asso_prex), np.max(coexp_asso_meta)])\n",
    "        vmin = min([np.min(coexp_asso_prex), np.min(coexp_asso_meta)])\n",
    "        ax = axes[j]\n",
    "        ax.plot([vmin, vmax], [vmin, vmax], '--', color ='gray', alpha = 0.5)\n",
    "        ax.plot(coexp_asso_meta, coexp_asso_prex, '.')\n",
    "        ax.plot(coexp_asso_meta[80], coexp_asso_prex[80], 'rs')\n",
    "        \n",
    "        ind = np.array([i0 for i0 in range(len(coexp_asso_meta)) if i0 != 80])\n",
    "        \n",
    "        k, p = st.kstest(coexp_asso_meta[ind], lambda x: st.norm.cdf(x, loc=0, scale=1))\n",
    "        print k, p\n",
    "        #plt.axhline(0)\n",
    "plt.show()"
   ]
  },
  {
   "cell_type": "code",
   "execution_count": 10,
   "metadata": {
    "collapsed": true
   },
   "outputs": [],
   "source": [
    "path_exp = 'multi_genes/'\n",
    "\n",
    "fns += [[(path_exp + 'metaxcan/10_01_Whole_Blood.csv', path_exp + 'traits/10_01.tsv'),\n",
    "       (path_exp + 'metaxcan/05_01_Whole_Blood.csv', path_exp + 'traits/05_01.tsv'),\n",
    "       (path_exp + 'metaxcan/02_01_Whole_Blood.csv', path_exp + 'traits/02_01.tsv'),]\n",
    "      ]"
   ]
  },
  {
   "cell_type": "code",
   "execution_count": 11,
   "metadata": {
    "collapsed": false,
    "scrolled": true
   },
   "outputs": [
    {
     "ename": "IOError",
     "evalue": "File ../../GWAS_simulation/single_component/metaxcan/single_component_10_00_Whole_Blood.csv does not exist",
     "output_type": "error",
     "traceback": [
      "\u001b[0;31m---------------------------------------------------------------------------\u001b[0m",
      "\u001b[0;31mIOError\u001b[0m                                   Traceback (most recent call last)",
      "\u001b[0;32m<ipython-input-11-7d187cb3b036>\u001b[0m in \u001b[0;36m<module>\u001b[0;34m()\u001b[0m\n\u001b[1;32m      8\u001b[0m \u001b[0;32mfor\u001b[0m \u001b[0mi\u001b[0m\u001b[0;34m,\u001b[0m \u001b[0mfns0\u001b[0m \u001b[0;32min\u001b[0m \u001b[0menumerate\u001b[0m\u001b[0;34m(\u001b[0m\u001b[0mfns\u001b[0m\u001b[0;34m)\u001b[0m\u001b[0;34m:\u001b[0m\u001b[0;34m\u001b[0m\u001b[0m\n\u001b[1;32m      9\u001b[0m     \u001b[0;32mfor\u001b[0m \u001b[0mj\u001b[0m\u001b[0;34m,\u001b[0m \u001b[0;34m(\u001b[0m\u001b[0mfn_meta\u001b[0m\u001b[0;34m,\u001b[0m \u001b[0mfn_trait\u001b[0m\u001b[0;34m)\u001b[0m \u001b[0;32min\u001b[0m \u001b[0menumerate\u001b[0m\u001b[0;34m(\u001b[0m\u001b[0mfns0\u001b[0m\u001b[0;34m)\u001b[0m\u001b[0;34m:\u001b[0m\u001b[0;34m\u001b[0m\u001b[0m\n\u001b[0;32m---> 10\u001b[0;31m         \u001b[0mgene2z\u001b[0m \u001b[0;34m=\u001b[0m \u001b[0mgc\u001b[0m\u001b[0;34m.\u001b[0m\u001b[0mmetaxcan_file_to_gene2z\u001b[0m\u001b[0;34m(\u001b[0m\u001b[0mfn_meta\u001b[0m\u001b[0;34m)\u001b[0m\u001b[0;34m\u001b[0m\u001b[0m\n\u001b[0m\u001b[1;32m     11\u001b[0m         \u001b[0mdf_trait\u001b[0m \u001b[0;34m=\u001b[0m \u001b[0mpd\u001b[0m\u001b[0;34m.\u001b[0m\u001b[0mread_csv\u001b[0m\u001b[0;34m(\u001b[0m\u001b[0mfn_trait\u001b[0m\u001b[0;34m,\u001b[0m \u001b[0msep\u001b[0m \u001b[0;34m=\u001b[0m \u001b[0;34m'\\t'\u001b[0m\u001b[0;34m,\u001b[0m \u001b[0mindex_col\u001b[0m\u001b[0;34m=\u001b[0m \u001b[0;34m'IID'\u001b[0m\u001b[0;34m)\u001b[0m\u001b[0;34m\u001b[0m\u001b[0m\n\u001b[1;32m     12\u001b[0m \u001b[0;34m\u001b[0m\u001b[0m\n",
      "\u001b[0;32m/data2/users/hclee/gwas_component_analysis/gwas_component/gwas_component.pyc\u001b[0m in \u001b[0;36mmetaxcan_file_to_gene2z\u001b[0;34m(fn)\u001b[0m\n\u001b[1;32m      9\u001b[0m \u001b[0;34m\u001b[0m\u001b[0m\n\u001b[1;32m     10\u001b[0m \u001b[0;32mdef\u001b[0m \u001b[0mmetaxcan_file_to_gene2z\u001b[0m\u001b[0;34m(\u001b[0m\u001b[0mfn\u001b[0m\u001b[0;34m)\u001b[0m\u001b[0;34m:\u001b[0m\u001b[0;34m\u001b[0m\u001b[0m\n\u001b[0;32m---> 11\u001b[0;31m     \u001b[0mdf\u001b[0m \u001b[0;34m=\u001b[0m \u001b[0mpd\u001b[0m\u001b[0;34m.\u001b[0m\u001b[0mread_csv\u001b[0m\u001b[0;34m(\u001b[0m\u001b[0mfn\u001b[0m\u001b[0;34m)\u001b[0m\u001b[0;34m\u001b[0m\u001b[0m\n\u001b[0m\u001b[1;32m     12\u001b[0m     \u001b[0mgene2z\u001b[0m \u001b[0;34m=\u001b[0m \u001b[0;34m{\u001b[0m\u001b[0;34m}\u001b[0m\u001b[0;34m\u001b[0m\u001b[0m\n\u001b[1;32m     13\u001b[0m     \u001b[0;32mfor\u001b[0m \u001b[0mg\u001b[0m\u001b[0;34m,\u001b[0m \u001b[0mz\u001b[0m \u001b[0;32min\u001b[0m \u001b[0mzip\u001b[0m\u001b[0;34m(\u001b[0m\u001b[0mdf\u001b[0m\u001b[0;34m.\u001b[0m\u001b[0mgene\u001b[0m\u001b[0;34m,\u001b[0m \u001b[0mdf\u001b[0m\u001b[0;34m.\u001b[0m\u001b[0mzscore\u001b[0m\u001b[0;34m)\u001b[0m\u001b[0;34m:\u001b[0m\u001b[0;34m\u001b[0m\u001b[0m\n",
      "\u001b[0;32m/home/hclee/my_env/local/lib/python2.7/site-packages/pandas/io/parsers.pyc\u001b[0m in \u001b[0;36mparser_f\u001b[0;34m(filepath_or_buffer, sep, delimiter, header, names, index_col, usecols, squeeze, prefix, mangle_dupe_cols, dtype, engine, converters, true_values, false_values, skipinitialspace, skiprows, nrows, na_values, keep_default_na, na_filter, verbose, skip_blank_lines, parse_dates, infer_datetime_format, keep_date_col, date_parser, dayfirst, iterator, chunksize, compression, thousands, decimal, lineterminator, quotechar, quoting, escapechar, comment, encoding, dialect, tupleize_cols, error_bad_lines, warn_bad_lines, skipfooter, skip_footer, doublequote, delim_whitespace, as_recarray, compact_ints, use_unsigned, low_memory, buffer_lines, memory_map, float_precision)\u001b[0m\n\u001b[1;32m    707\u001b[0m                     skip_blank_lines=skip_blank_lines)\n\u001b[1;32m    708\u001b[0m \u001b[0;34m\u001b[0m\u001b[0m\n\u001b[0;32m--> 709\u001b[0;31m         \u001b[0;32mreturn\u001b[0m \u001b[0m_read\u001b[0m\u001b[0;34m(\u001b[0m\u001b[0mfilepath_or_buffer\u001b[0m\u001b[0;34m,\u001b[0m \u001b[0mkwds\u001b[0m\u001b[0;34m)\u001b[0m\u001b[0;34m\u001b[0m\u001b[0m\n\u001b[0m\u001b[1;32m    710\u001b[0m \u001b[0;34m\u001b[0m\u001b[0m\n\u001b[1;32m    711\u001b[0m     \u001b[0mparser_f\u001b[0m\u001b[0;34m.\u001b[0m\u001b[0m__name__\u001b[0m \u001b[0;34m=\u001b[0m \u001b[0mname\u001b[0m\u001b[0;34m\u001b[0m\u001b[0m\n",
      "\u001b[0;32m/home/hclee/my_env/local/lib/python2.7/site-packages/pandas/io/parsers.pyc\u001b[0m in \u001b[0;36m_read\u001b[0;34m(filepath_or_buffer, kwds)\u001b[0m\n\u001b[1;32m    447\u001b[0m \u001b[0;34m\u001b[0m\u001b[0m\n\u001b[1;32m    448\u001b[0m     \u001b[0;31m# Create the parser.\u001b[0m\u001b[0;34m\u001b[0m\u001b[0;34m\u001b[0m\u001b[0m\n\u001b[0;32m--> 449\u001b[0;31m     \u001b[0mparser\u001b[0m \u001b[0;34m=\u001b[0m \u001b[0mTextFileReader\u001b[0m\u001b[0;34m(\u001b[0m\u001b[0mfilepath_or_buffer\u001b[0m\u001b[0;34m,\u001b[0m \u001b[0;34m**\u001b[0m\u001b[0mkwds\u001b[0m\u001b[0;34m)\u001b[0m\u001b[0;34m\u001b[0m\u001b[0m\n\u001b[0m\u001b[1;32m    450\u001b[0m \u001b[0;34m\u001b[0m\u001b[0m\n\u001b[1;32m    451\u001b[0m     \u001b[0;32mif\u001b[0m \u001b[0mchunksize\u001b[0m \u001b[0;32mor\u001b[0m \u001b[0miterator\u001b[0m\u001b[0;34m:\u001b[0m\u001b[0;34m\u001b[0m\u001b[0m\n",
      "\u001b[0;32m/home/hclee/my_env/local/lib/python2.7/site-packages/pandas/io/parsers.pyc\u001b[0m in \u001b[0;36m__init__\u001b[0;34m(self, f, engine, **kwds)\u001b[0m\n\u001b[1;32m    816\u001b[0m             \u001b[0mself\u001b[0m\u001b[0;34m.\u001b[0m\u001b[0moptions\u001b[0m\u001b[0;34m[\u001b[0m\u001b[0;34m'has_index_names'\u001b[0m\u001b[0;34m]\u001b[0m \u001b[0;34m=\u001b[0m \u001b[0mkwds\u001b[0m\u001b[0;34m[\u001b[0m\u001b[0;34m'has_index_names'\u001b[0m\u001b[0;34m]\u001b[0m\u001b[0;34m\u001b[0m\u001b[0m\n\u001b[1;32m    817\u001b[0m \u001b[0;34m\u001b[0m\u001b[0m\n\u001b[0;32m--> 818\u001b[0;31m         \u001b[0mself\u001b[0m\u001b[0;34m.\u001b[0m\u001b[0m_make_engine\u001b[0m\u001b[0;34m(\u001b[0m\u001b[0mself\u001b[0m\u001b[0;34m.\u001b[0m\u001b[0mengine\u001b[0m\u001b[0;34m)\u001b[0m\u001b[0;34m\u001b[0m\u001b[0m\n\u001b[0m\u001b[1;32m    819\u001b[0m \u001b[0;34m\u001b[0m\u001b[0m\n\u001b[1;32m    820\u001b[0m     \u001b[0;32mdef\u001b[0m \u001b[0mclose\u001b[0m\u001b[0;34m(\u001b[0m\u001b[0mself\u001b[0m\u001b[0;34m)\u001b[0m\u001b[0;34m:\u001b[0m\u001b[0;34m\u001b[0m\u001b[0m\n",
      "\u001b[0;32m/home/hclee/my_env/local/lib/python2.7/site-packages/pandas/io/parsers.pyc\u001b[0m in \u001b[0;36m_make_engine\u001b[0;34m(self, engine)\u001b[0m\n\u001b[1;32m   1047\u001b[0m     \u001b[0;32mdef\u001b[0m \u001b[0m_make_engine\u001b[0m\u001b[0;34m(\u001b[0m\u001b[0mself\u001b[0m\u001b[0;34m,\u001b[0m \u001b[0mengine\u001b[0m\u001b[0;34m=\u001b[0m\u001b[0;34m'c'\u001b[0m\u001b[0;34m)\u001b[0m\u001b[0;34m:\u001b[0m\u001b[0;34m\u001b[0m\u001b[0m\n\u001b[1;32m   1048\u001b[0m         \u001b[0;32mif\u001b[0m \u001b[0mengine\u001b[0m \u001b[0;34m==\u001b[0m \u001b[0;34m'c'\u001b[0m\u001b[0;34m:\u001b[0m\u001b[0;34m\u001b[0m\u001b[0m\n\u001b[0;32m-> 1049\u001b[0;31m             \u001b[0mself\u001b[0m\u001b[0;34m.\u001b[0m\u001b[0m_engine\u001b[0m \u001b[0;34m=\u001b[0m \u001b[0mCParserWrapper\u001b[0m\u001b[0;34m(\u001b[0m\u001b[0mself\u001b[0m\u001b[0;34m.\u001b[0m\u001b[0mf\u001b[0m\u001b[0;34m,\u001b[0m \u001b[0;34m**\u001b[0m\u001b[0mself\u001b[0m\u001b[0;34m.\u001b[0m\u001b[0moptions\u001b[0m\u001b[0;34m)\u001b[0m\u001b[0;34m\u001b[0m\u001b[0m\n\u001b[0m\u001b[1;32m   1050\u001b[0m         \u001b[0;32melse\u001b[0m\u001b[0;34m:\u001b[0m\u001b[0;34m\u001b[0m\u001b[0m\n\u001b[1;32m   1051\u001b[0m             \u001b[0;32mif\u001b[0m \u001b[0mengine\u001b[0m \u001b[0;34m==\u001b[0m \u001b[0;34m'python'\u001b[0m\u001b[0;34m:\u001b[0m\u001b[0;34m\u001b[0m\u001b[0m\n",
      "\u001b[0;32m/home/hclee/my_env/local/lib/python2.7/site-packages/pandas/io/parsers.pyc\u001b[0m in \u001b[0;36m__init__\u001b[0;34m(self, src, **kwds)\u001b[0m\n\u001b[1;32m   1693\u001b[0m         \u001b[0mkwds\u001b[0m\u001b[0;34m[\u001b[0m\u001b[0;34m'allow_leading_cols'\u001b[0m\u001b[0;34m]\u001b[0m \u001b[0;34m=\u001b[0m \u001b[0mself\u001b[0m\u001b[0;34m.\u001b[0m\u001b[0mindex_col\u001b[0m \u001b[0;32mis\u001b[0m \u001b[0;32mnot\u001b[0m \u001b[0mFalse\u001b[0m\u001b[0;34m\u001b[0m\u001b[0m\n\u001b[1;32m   1694\u001b[0m \u001b[0;34m\u001b[0m\u001b[0m\n\u001b[0;32m-> 1695\u001b[0;31m         \u001b[0mself\u001b[0m\u001b[0;34m.\u001b[0m\u001b[0m_reader\u001b[0m \u001b[0;34m=\u001b[0m \u001b[0mparsers\u001b[0m\u001b[0;34m.\u001b[0m\u001b[0mTextReader\u001b[0m\u001b[0;34m(\u001b[0m\u001b[0msrc\u001b[0m\u001b[0;34m,\u001b[0m \u001b[0;34m**\u001b[0m\u001b[0mkwds\u001b[0m\u001b[0;34m)\u001b[0m\u001b[0;34m\u001b[0m\u001b[0m\n\u001b[0m\u001b[1;32m   1696\u001b[0m \u001b[0;34m\u001b[0m\u001b[0m\n\u001b[1;32m   1697\u001b[0m         \u001b[0;31m# XXX\u001b[0m\u001b[0;34m\u001b[0m\u001b[0;34m\u001b[0m\u001b[0m\n",
      "\u001b[0;32mpandas/_libs/parsers.pyx\u001b[0m in \u001b[0;36mpandas._libs.parsers.TextReader.__cinit__\u001b[0;34m()\u001b[0m\n",
      "\u001b[0;32mpandas/_libs/parsers.pyx\u001b[0m in \u001b[0;36mpandas._libs.parsers.TextReader._setup_parser_source\u001b[0;34m()\u001b[0m\n",
      "\u001b[0;31mIOError\u001b[0m: File ../../GWAS_simulation/single_component/metaxcan/single_component_10_00_Whole_Blood.csv does not exist"
     ]
    },
    {
     "data": {
      "image/png": "[encoded data removed]",
      "text/plain": [
       "<matplotlib.figure.Figure at 0x7f694c662f90>"
      ]
     },
     "metadata": {},
     "output_type": "display_data"
    }
   ],
   "source": [
    "import matplotlib.pyplot as plt\n",
    "% matplotlib inline\n",
    "\n",
    "tissue = tissue0 = 'Whole_Blood'\n",
    "gmodel = gc.Coexpression_Model(tissue)\n",
    "    \n",
    "fig, axes = plt.subplots(2, 3, figsize = (12, 6))\n",
    "for i, fns0 in enumerate(fns):\n",
    "    for j, (fn_meta, fn_trait) in enumerate(fns0):\n",
    "        gene2z = gc.metaxcan_file_to_gene2z(fn_meta)\n",
    "        df_trait = pd.read_csv(fn_trait, sep = '\\t', index_col= 'IID')\n",
    "        \n",
    "        vec_trait = df_trait.loc[df_exp.index].phenotype.values\n",
    "        \n",
    "        coexp_asso_prex = []\n",
    "        coexp_asso_meta, _, _ = gmodel.compute_z(gene2z)\n",
    "\n",
    "        s0 = set(gmodel.id2gene)\n",
    "        for k, pca_genes, pca_weight, sig_1k in gmodel.pca_models:\n",
    "\n",
    "            mat = df_exp[[g for g in pca_genes if g in s0]].values\n",
    "            pca_weight1_slice = np.array([v for g, v in zip(pca_genes, pca_weight) if g in s0])\n",
    "\n",
    "            true_pheno = pca_weight1_slice.dot(mat.T) \n",
    "\n",
    "            exp_vec = normalize_1d(true_pheno) \n",
    "            slope, intercept, r_value, p_value, std_err = linregress(exp_vec, vec_trait)\n",
    "\n",
    "            coexp_asso_prex.append(np.sign(slope) * st.norm.ppf(p_value / 2.0))\n",
    "        coexp_asso_prex = np.array(coexp_asso_prex)\n",
    "        \n",
    "        vmax = max([np.max(coexp_asso_prex), np.max(coexp_asso_meta)])\n",
    "        vmin = min([np.min(coexp_asso_prex), np.min(coexp_asso_meta)])\n",
    "        ax = axes[i, j]\n",
    "        ax.plot([vmin, vmax], [vmin, vmax], '--', color ='gray', alpha = 0.5)\n",
    "        ax.plot(coexp_asso_meta, coexp_asso_prex, '.')\n",
    "        ax.plot(coexp_asso_meta[80], coexp_asso_prex[80], 'rs')\n",
    "        \n",
    "        ind = np.array([i0 for i0 in range(len(coexp_asso_meta)) if i0 != 80])\n",
    "        \n",
    "        k, p = st.kstest(coexp_asso_meta[ind], lambda x: st.norm.cdf(x, loc=0, scale=1))\n",
    "        print k, p\n",
    "        #plt.axhline(0)\n",
    "plt.show()"
   ]
  },
  {
   "cell_type": "code",
   "execution_count": null,
   "metadata": {
    "collapsed": true
   },
   "outputs": [],
   "source": []
  }
 ],
 "metadata": {
  "kernelspec": {
   "display_name": "my_env",
   "language": "python",
   "name": "my_env"
  },
  "language_info": {
   "codemirror_mode": {
    "name": "ipython",
    "version": 2
   },
   "file_extension": ".py",
   "mimetype": "text/x-python",
   "name": "python",
   "nbconvert_exporter": "python",
   "pygments_lexer": "ipython2",
   "version": "2.7.6"
  }
 },
 "nbformat": 4,
 "nbformat_minor": 0
}
