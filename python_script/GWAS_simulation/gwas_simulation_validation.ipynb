{
 "cells": [
  {
   "cell_type": "code",
   "execution_count": 1,
   "metadata": {
    "collapsed": true
   },
   "outputs": [],
   "source": [
    "import pandas as pd\n",
    "import os\n",
    "import sys\n",
    "sys.path.append(os.path.abspath('../../'))\n",
    "import gwas_component.gwas_component as gc\n",
    "import numpy as np\n",
    "import pickle\n",
    "from scipy.stats import linregress\n",
    "import scipy.stats as st\n",
    "\n",
    "def normalize_1d(x):\n",
    "    ## x: (n, ) np array\n",
    "    return (x - np.mean(x)) / (np.std(x) + 1e-5)"
   ]
  },
  {
   "cell_type": "code",
   "execution_count": 2,
   "metadata": {
    "collapsed": false,
    "scrolled": true
   },
   "outputs": [],
   "source": [
    "df_exp = pd.read_csv('../../processed_data/predixcan_1kgenome/TW_Whole_Blood_0.5.db_predicted_expression.txt.gz', \n",
    "                     sep = '\\t', index_col= 'IID')\n",
    "df_exp.columns = [g.split('.')[0] for g in df_exp.columns]"
   ]
  },
  {
   "cell_type": "code",
   "execution_count": 3,
   "metadata": {
    "collapsed": true
   },
   "outputs": [],
   "source": [
    "path_exp = 'single_component/'\n",
    "fns = [[(path_exp + 'metaxcan/single_component_10_00_Whole_Blood.csv', path_exp + 'traits/single_component_10_00.tsv'),\n",
    "       (path_exp + 'metaxcan/single_component_05_00_Whole_Blood.csv', path_exp + 'traits/single_component_05_00.tsv'),\n",
    "       (path_exp + 'metaxcan/single_component_02_00_Whole_Blood.csv', path_exp + 'traits/single_component_02_00.tsv'),\n",
    "      ]]\n"
   ]
  },
  {
   "cell_type": "code",
   "execution_count": 4,
   "metadata": {
    "collapsed": false
   },
   "outputs": [
    {
     "name": "stdout",
     "output_type": "stream",
     "text": [
      "0.08992532701508471 0.16906986433046658\n",
      "0.06522824304535829 0.5392506966271357\n",
      "0.08208620237010422 0.2542015407629774\n"
     ]
    },
    {
     "data": {
      "image/png": "[encoded data removed]",
      "text/plain": [
       "<matplotlib.figure.Figure at 0x7f3e45b9d950>"
      ]
     },
     "metadata": {},
     "output_type": "display_data"
    }
   ],
   "source": [
    "import matplotlib.pyplot as plt\n",
    "% matplotlib inline\n",
    "\n",
    "tissue = tissue0 = 'Whole_Blood'\n",
    "gmodel = gc.Coexpression_Model(tissue)\n",
    "    \n",
    "fig, axes = plt.subplots(1, 3, figsize = (12, 3))\n",
    "for i, fns0 in enumerate(fns):\n",
    "    for j, (fn_meta, fn_trait) in enumerate(fns0):\n",
    "        gene2z = gc.metaxcan_file_to_gene2z(fn_meta)\n",
    "        df_trait = pd.read_csv(fn_trait, sep = '\\t', index_col= 'IID')\n",
    "        \n",
    "        vec_trait = df_trait.loc[df_exp.index].phenotype.values\n",
    "        \n",
    "        coexp_asso_prex = []\n",
    "        coexp_asso_meta, _, _ = gmodel.compute_z(gene2z)\n",
    "\n",
    "        s0 = set(gmodel.id2gene)\n",
    "        for k, pca_genes, pca_weight, sig_1k in gmodel.pca_models:\n",
    "\n",
    "            mat = df_exp[[g for g in pca_genes if g in s0]].values\n",
    "            pca_weight1_slice = np.array([v for g, v in zip(pca_genes, pca_weight) if g in s0])\n",
    "\n",
    "            true_pheno = pca_weight1_slice.dot(mat.T) \n",
    "\n",
    "            exp_vec = normalize_1d(true_pheno) \n",
    "            slope, intercept, r_value, p_value, std_err = linregress(exp_vec, vec_trait)\n",
    "\n",
    "            coexp_asso_prex.append(np.sign(slope) * st.norm.ppf(p_value / 2.0))\n",
    "        coexp_asso_prex = np.array(coexp_asso_prex)\n",
    "        \n",
    "        vmax = max([np.max(coexp_asso_prex), np.max(coexp_asso_meta)])\n",
    "        vmin = min([np.min(coexp_asso_prex), np.min(coexp_asso_meta)])\n",
    "        ax = axes[j]\n",
    "        ax.plot([vmin, vmax], [vmin, vmax], '--', color ='gray', alpha = 0.5)\n",
    "        ax.plot(coexp_asso_meta, coexp_asso_prex, '.')\n",
    "        ax.plot(coexp_asso_meta[80], coexp_asso_prex[80], 'rs')\n",
    "        \n",
    "        ind = np.array([i0 for i0 in range(len(coexp_asso_meta)) if i0 != 80])\n",
    "        \n",
    "        k, p = st.kstest(coexp_asso_meta[ind], lambda x: st.norm.cdf(x, loc=0, scale=1))\n",
    "        print k, p\n",
    "        #plt.axhline(0)\n",
    "plt.show()"
   ]
  },
  {
   "cell_type": "code",
   "execution_count": null,
   "metadata": {
    "collapsed": true
   },
   "outputs": [],
   "source": []
  },
  {
   "cell_type": "code",
   "execution_count": null,
   "metadata": {
    "collapsed": true
   },
   "outputs": [],
   "source": []
  }
 ],
 "metadata": {
  "kernelspec": {
   "display_name": "my_env",
   "language": "python",
   "name": "my_env"
  },
  "language_info": {
   "codemirror_mode": {
    "name": "ipython",
    "version": 2
   },
   "file_extension": ".py",
   "mimetype": "text/x-python",
   "name": "python",
   "nbconvert_exporter": "python",
   "pygments_lexer": "ipython2",
   "version": "2.7.6"
  }
 },
 "nbformat": 4,
 "nbformat_minor": 0
}
